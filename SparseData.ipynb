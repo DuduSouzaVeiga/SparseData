{
 "cells": [
  {
   "cell_type": "code",
   "execution_count": 564,
   "metadata": {},
   "outputs": [],
   "source": [
    "import numbers\n",
    "import numpy as np\n",
    "import pandas as pd\n",
    "import seaborn as sns\n",
    "from sklearn import tree\n",
    "from matplotlib import pyplot as plt\n",
    "from sklearn.pipeline import Pipeline\n",
    "from sklearn.datasets import make_blobs\n",
    "from sklearn.tree import DecisionTreeRegressor\n",
    "from sklearn.metrics import mean_squared_error\n",
    "from sklearn.model_selection import GridSearchCV\n",
    "from sklearn.preprocessing import StandardScaler\n",
    "from sklearn.ensemble import RandomForestRegressor\n",
    "from sklearn.model_selection import TimeSeriesSplit\n",
    "from sklearn.model_selection import train_test_split\n",
    "from sklearn.tree import DecisionTreeClassifier, plot_tree"
   ]
  },
  {
   "cell_type": "markdown",
   "metadata": {},
   "source": [
    "## Carregamento e tratamento da base"
   ]
  },
  {
   "cell_type": "code",
   "execution_count": 565,
   "metadata": {},
   "outputs": [
    {
     "data": {
      "text/html": [
       "<div>\n",
       "<style scoped>\n",
       "    .dataframe tbody tr th:only-of-type {\n",
       "        vertical-align: middle;\n",
       "    }\n",
       "\n",
       "    .dataframe tbody tr th {\n",
       "        vertical-align: top;\n",
       "    }\n",
       "\n",
       "    .dataframe thead th {\n",
       "        text-align: right;\n",
       "    }\n",
       "</style>\n",
       "<table border=\"1\" class=\"dataframe\">\n",
       "  <thead>\n",
       "    <tr style=\"text-align: right;\">\n",
       "      <th></th>\n",
       "      <th>OrigZoneNo</th>\n",
       "      <th>DestZoneNo</th>\n",
       "      <th>Index</th>\n",
       "      <th>Path_Volume</th>\n",
       "      <th>Path_UnloadedTime</th>\n",
       "      <th>Path_UnloadedSpeed</th>\n",
       "      <th>Path_LoadedTime</th>\n",
       "      <th>Path_LoadedSpeed</th>\n",
       "      <th>Links_Count</th>\n",
       "      <th>Links_MinCarCapacity</th>\n",
       "      <th>...</th>\n",
       "      <th>Links_MinUnloadedTime</th>\n",
       "      <th>Links_MaxUnloadedTime</th>\n",
       "      <th>Links_AvgUnloadedTime</th>\n",
       "      <th>Links_SumUnloadedTime</th>\n",
       "      <th>Links_MinLoadedTime</th>\n",
       "      <th>Links_MaxLoadedTime</th>\n",
       "      <th>Links_AvgLoadedTime</th>\n",
       "      <th>Links_SumLoadedTime</th>\n",
       "      <th>Links_ToNodeNo</th>\n",
       "      <th>Links_FromNodeNo</th>\n",
       "    </tr>\n",
       "  </thead>\n",
       "  <tbody>\n",
       "    <tr>\n",
       "      <th>0</th>\n",
       "      <td>10</td>\n",
       "      <td>20</td>\n",
       "      <td>1</td>\n",
       "      <td>19208.000</td>\n",
       "      <td>2min 23s</td>\n",
       "      <td>36km/h</td>\n",
       "      <td>3min 10s</td>\n",
       "      <td>27km/h</td>\n",
       "      <td>3</td>\n",
       "      <td>500</td>\n",
       "      <td>...</td>\n",
       "      <td>8s</td>\n",
       "      <td>20s</td>\n",
       "      <td>13s</td>\n",
       "      <td>40s</td>\n",
       "      <td>8s</td>\n",
       "      <td>22s</td>\n",
       "      <td>14s</td>\n",
       "      <td>43s</td>\n",
       "      <td>2642,153,3111</td>\n",
       "      <td>3412,2642,153</td>\n",
       "    </tr>\n",
       "    <tr>\n",
       "      <th>1</th>\n",
       "      <td>10</td>\n",
       "      <td>20</td>\n",
       "      <td>2</td>\n",
       "      <td>1064.000</td>\n",
       "      <td>2min 14s</td>\n",
       "      <td>38km/h</td>\n",
       "      <td>3min 10s</td>\n",
       "      <td>27km/h</td>\n",
       "      <td>3</td>\n",
       "      <td>500</td>\n",
       "      <td>...</td>\n",
       "      <td>7s</td>\n",
       "      <td>39s</td>\n",
       "      <td>22s</td>\n",
       "      <td>1min 6s</td>\n",
       "      <td>7s</td>\n",
       "      <td>43s</td>\n",
       "      <td>24s</td>\n",
       "      <td>1min 12s</td>\n",
       "      <td>2645,153,3111</td>\n",
       "      <td>3064,2645,153</td>\n",
       "    </tr>\n",
       "    <tr>\n",
       "      <th>2</th>\n",
       "      <td>10</td>\n",
       "      <td>30</td>\n",
       "      <td>1</td>\n",
       "      <td>36624.000</td>\n",
       "      <td>2min</td>\n",
       "      <td>38km/h</td>\n",
       "      <td>2min 22s</td>\n",
       "      <td>32km/h</td>\n",
       "      <td>3</td>\n",
       "      <td>500</td>\n",
       "      <td>...</td>\n",
       "      <td>11s</td>\n",
       "      <td>30s</td>\n",
       "      <td>21s</td>\n",
       "      <td>1min 2s</td>\n",
       "      <td>13s</td>\n",
       "      <td>35s</td>\n",
       "      <td>23s</td>\n",
       "      <td>1min 10s</td>\n",
       "      <td>138,3351,162</td>\n",
       "      <td>137,138,3351</td>\n",
       "    </tr>\n",
       "    <tr>\n",
       "      <th>3</th>\n",
       "      <td>10</td>\n",
       "      <td>40</td>\n",
       "      <td>1</td>\n",
       "      <td>18483.000</td>\n",
       "      <td>3min 5s</td>\n",
       "      <td>29km/h</td>\n",
       "      <td>3min 32s</td>\n",
       "      <td>26km/h</td>\n",
       "      <td>7</td>\n",
       "      <td>500</td>\n",
       "      <td>...</td>\n",
       "      <td>6s</td>\n",
       "      <td>22s</td>\n",
       "      <td>14s</td>\n",
       "      <td>1min 41s</td>\n",
       "      <td>6s</td>\n",
       "      <td>24s</td>\n",
       "      <td>15s</td>\n",
       "      <td>1min 45s</td>\n",
       "      <td>10000658,3081,2649,130,139,140,3389</td>\n",
       "      <td>3064,10000658,3081,2649,130,139,140</td>\n",
       "    </tr>\n",
       "    <tr>\n",
       "      <th>4</th>\n",
       "      <td>10</td>\n",
       "      <td>40</td>\n",
       "      <td>2</td>\n",
       "      <td>0.481</td>\n",
       "      <td>2min 59s</td>\n",
       "      <td>32km/h</td>\n",
       "      <td>3min 32s</td>\n",
       "      <td>27km/h</td>\n",
       "      <td>5</td>\n",
       "      <td>500</td>\n",
       "      <td>...</td>\n",
       "      <td>6s</td>\n",
       "      <td>45s</td>\n",
       "      <td>23s</td>\n",
       "      <td>1min 56s</td>\n",
       "      <td>6s</td>\n",
       "      <td>47s</td>\n",
       "      <td>27s</td>\n",
       "      <td>2min 14s</td>\n",
       "      <td>3404,130,139,140,3389</td>\n",
       "      <td>3077,3404,130,139,140</td>\n",
       "    </tr>\n",
       "  </tbody>\n",
       "</table>\n",
       "<p>5 rows × 34 columns</p>\n",
       "</div>"
      ],
      "text/plain": [
       "   OrigZoneNo  DestZoneNo  Index  Path_Volume Path_UnloadedTime  \\\n",
       "0          10          20      1    19208.000          2min 23s   \n",
       "1          10          20      2     1064.000          2min 14s   \n",
       "2          10          30      1    36624.000              2min   \n",
       "3          10          40      1    18483.000           3min 5s   \n",
       "4          10          40      2        0.481          2min 59s   \n",
       "\n",
       "  Path_UnloadedSpeed Path_LoadedTime Path_LoadedSpeed  Links_Count  \\\n",
       "0             36km/h        3min 10s           27km/h            3   \n",
       "1             38km/h        3min 10s           27km/h            3   \n",
       "2             38km/h        2min 22s           32km/h            3   \n",
       "3             29km/h        3min 32s           26km/h            7   \n",
       "4             32km/h        3min 32s           27km/h            5   \n",
       "\n",
       "   Links_MinCarCapacity  ...  Links_MinUnloadedTime  Links_MaxUnloadedTime  \\\n",
       "0                   500  ...                     8s                    20s   \n",
       "1                   500  ...                     7s                    39s   \n",
       "2                   500  ...                    11s                    30s   \n",
       "3                   500  ...                     6s                    22s   \n",
       "4                   500  ...                     6s                    45s   \n",
       "\n",
       "   Links_AvgUnloadedTime Links_SumUnloadedTime Links_MinLoadedTime  \\\n",
       "0                    13s                   40s                  8s   \n",
       "1                    22s               1min 6s                  7s   \n",
       "2                    21s               1min 2s                 13s   \n",
       "3                    14s              1min 41s                  6s   \n",
       "4                    23s              1min 56s                  6s   \n",
       "\n",
       "  Links_MaxLoadedTime Links_AvgLoadedTime  Links_SumLoadedTime  \\\n",
       "0                 22s                 14s                  43s   \n",
       "1                 43s                 24s             1min 12s   \n",
       "2                 35s                 23s             1min 10s   \n",
       "3                 24s                 15s             1min 45s   \n",
       "4                 47s                 27s             2min 14s   \n",
       "\n",
       "                        Links_ToNodeNo                     Links_FromNodeNo  \n",
       "0                        2642,153,3111                        3412,2642,153  \n",
       "1                        2645,153,3111                        3064,2645,153  \n",
       "2                         138,3351,162                         137,138,3351  \n",
       "3  10000658,3081,2649,130,139,140,3389  3064,10000658,3081,2649,130,139,140  \n",
       "4                3404,130,139,140,3389                3077,3404,130,139,140  \n",
       "\n",
       "[5 rows x 34 columns]"
      ]
     },
     "execution_count": 565,
     "metadata": {},
     "output_type": "execute_result"
    }
   ],
   "source": [
    "pathsAndLinksTemp = pd.read_excel ('PathsAndLinksExcel.xlsx')\n",
    "\n",
    "pathsAndLinksTemp.to_csv(\"PathsAndLinks.csv\", index = None, header = True)\n",
    "\n",
    "pathsAndLinksDf = pd.DataFrame(pd.read_csv(\"PathsAndLinks.csv\"))\n",
    "\n",
    "pathsAndLinksDf.head()"
   ]
  },
  {
   "cell_type": "code",
   "execution_count": 566,
   "metadata": {},
   "outputs": [],
   "source": [
    "for x in pathsAndLinksDf:\n",
    "    if pathsAndLinksDf[x].dtypes == object:\n",
    "        pathsAndLinksDf[x] = pathsAndLinksDf[x].apply(lambda x: x.replace('km/h', ''))\n",
    "        pathsAndLinksDf[x] = pathsAndLinksDf[x].apply(lambda x: x.replace('km', ''))\n",
    "        pathsAndLinksDf[x] = pathsAndLinksDf[x].apply(lambda x: x.replace('min', '.'))\n",
    "        pathsAndLinksDf[x] = pathsAndLinksDf[x].apply(lambda x: x.replace(' ', ''))\n",
    "        pathsAndLinksDf[x] = pathsAndLinksDf[x].apply(lambda x: x.replace('h', ''))\n",
    "        pathsAndLinksDf[x] = pathsAndLinksDf[x].apply(lambda x: x.replace('s', ''))\n",
    "\n",
    "\n",
    "singleLinks = pathsAndLinksDf[['Links_ToNodeNo', 'Links_FromNodeNo']]\n",
    "\n",
    "pathsAndLinksDf = pathsAndLinksDf.drop(['Links_ToNodeNo', 'Links_FromNodeNo', 'OrigZoneNo', 'Index', 'Path_Volume'], axis=1)\n",
    "\n",
    "pathsAndLinksDf = pathsAndLinksDf.apply(pd.to_numeric)"
   ]
  },
  {
   "cell_type": "markdown",
   "metadata": {},
   "source": [
    "Legenda:\n",
    "\n",
    "DestZoneNo -> Numero da zona de destino [int64]\n",
    "\n",
    "(Removida) Path_Volume -> Cálculo de volume de veículos considerando o path (caminho inteiro) [float64]\n",
    "\n",
    "Path_UnloadedTime -> Tempo de locomoção no path considerando as vias sem transito (calculo mais simplificado considerando a velocidade média da via e a distância) [float64]\n",
    "\n",
    "Path_UnloadedSpeed ->  Velocidade de locomoção no path considerando as vias sem transito [int64]\n",
    "\n",
    "Path_LoadedTime -> Tempo de locomoção no path considerando as vias com transito (vem ao rodar a simulação) [float64]\n",
    "\n",
    "Path_LoadedSpeed -> Velocidade de locomoção no path considerando as vias com transito [int64]\n",
    "\n",
    "Links_Count -> Quantidade de links que compõe o path [int64]\n",
    "\n",
    "Links_(Min, Max, Avg, Sum)CarCapacity -> Colunas referente à capacidade de carros nos links/vias [int64]\n",
    "\n",
    "Links_(Min, Max, Avg, Sum)Length -> Colunas referente ao tamanho das vias [float64]\n",
    "\n",
    "Links_(Min, Max, Avg, Sum)OfCars -> Colunas referente à quantidade de carros nos links/vias [int64]\n",
    "\n",
    "Links_(Min, Max, Avg)LoadedSpeed -> Colunas referente à velocidade nas vias/links considerando o transito [int64]\n",
    "\n",
    "Links_(Min, Max, Avg, Sum)UnloadedTime -> Colunas referente ao tempo de locomoção nas vias/links não considerando o transito [int64, float64]\n",
    "\n",
    "Links_(Min, Max, Avg, Sum)LoadedTime -> Colunas referente ao tempo de locomoção nas vias/links considerando o transito [int64, float64]\n",
    "\n",
    "Colunas excluídas:\n",
    "OrigZoneNo -> Número de origem (sempre 10)  [int64]\n",
    "\n",
    "Index -> Repetitivo e considera os pares de origem destino, não vi utilidade (a confirmar) [int64]\n",
    "\n",
    "Links_FromNodeNo -> Lista de nós de partida (essa coluna e a abaixo podem ter alguma utilidade, mas não enxerguei ainda) [object]\n",
    "\n",
    "Links_ToNodeNo -> Lista de nós de Chegada [object]\n"
   ]
  },
  {
   "cell_type": "code",
   "execution_count": 567,
   "metadata": {},
   "outputs": [
    {
     "data": {
      "text/html": [
       "<div>\n",
       "<style scoped>\n",
       "    .dataframe tbody tr th:only-of-type {\n",
       "        vertical-align: middle;\n",
       "    }\n",
       "\n",
       "    .dataframe tbody tr th {\n",
       "        vertical-align: top;\n",
       "    }\n",
       "\n",
       "    .dataframe thead th {\n",
       "        text-align: right;\n",
       "    }\n",
       "</style>\n",
       "<table border=\"1\" class=\"dataframe\">\n",
       "  <thead>\n",
       "    <tr style=\"text-align: right;\">\n",
       "      <th></th>\n",
       "      <th>DestZoneNo</th>\n",
       "      <th>Path_UnloadedTime</th>\n",
       "      <th>Path_UnloadedSpeed</th>\n",
       "      <th>Path_LoadedTime</th>\n",
       "      <th>Path_LoadedSpeed</th>\n",
       "      <th>Links_Count</th>\n",
       "      <th>Links_MinCarCapacity</th>\n",
       "      <th>Links_MaxCarCapacity</th>\n",
       "      <th>Links_AvgCarCapacity</th>\n",
       "      <th>Links_SumCarCapacity</th>\n",
       "      <th>...</th>\n",
       "      <th>Links_MaxLoadedSpeed</th>\n",
       "      <th>Links_AvgLoadedSpeed</th>\n",
       "      <th>Links_MinUnloadedTime</th>\n",
       "      <th>Links_MaxUnloadedTime</th>\n",
       "      <th>Links_AvgUnloadedTime</th>\n",
       "      <th>Links_SumUnloadedTime</th>\n",
       "      <th>Links_MinLoadedTime</th>\n",
       "      <th>Links_MaxLoadedTime</th>\n",
       "      <th>Links_AvgLoadedTime</th>\n",
       "      <th>Links_SumLoadedTime</th>\n",
       "    </tr>\n",
       "  </thead>\n",
       "  <tbody>\n",
       "    <tr>\n",
       "      <th>0</th>\n",
       "      <td>20</td>\n",
       "      <td>2.23</td>\n",
       "      <td>36</td>\n",
       "      <td>3.10</td>\n",
       "      <td>27</td>\n",
       "      <td>3</td>\n",
       "      <td>500</td>\n",
       "      <td>800</td>\n",
       "      <td>600</td>\n",
       "      <td>1800</td>\n",
       "      <td>...</td>\n",
       "      <td>29</td>\n",
       "      <td>28</td>\n",
       "      <td>8</td>\n",
       "      <td>20.00</td>\n",
       "      <td>13</td>\n",
       "      <td>40.00</td>\n",
       "      <td>8</td>\n",
       "      <td>22.00</td>\n",
       "      <td>14</td>\n",
       "      <td>43.00</td>\n",
       "    </tr>\n",
       "    <tr>\n",
       "      <th>1</th>\n",
       "      <td>20</td>\n",
       "      <td>2.14</td>\n",
       "      <td>38</td>\n",
       "      <td>3.10</td>\n",
       "      <td>27</td>\n",
       "      <td>3</td>\n",
       "      <td>500</td>\n",
       "      <td>800</td>\n",
       "      <td>600</td>\n",
       "      <td>1800</td>\n",
       "      <td>...</td>\n",
       "      <td>29</td>\n",
       "      <td>28</td>\n",
       "      <td>7</td>\n",
       "      <td>39.00</td>\n",
       "      <td>22</td>\n",
       "      <td>1.60</td>\n",
       "      <td>7</td>\n",
       "      <td>43.00</td>\n",
       "      <td>24</td>\n",
       "      <td>1.12</td>\n",
       "    </tr>\n",
       "    <tr>\n",
       "      <th>2</th>\n",
       "      <td>30</td>\n",
       "      <td>2.00</td>\n",
       "      <td>38</td>\n",
       "      <td>2.22</td>\n",
       "      <td>32</td>\n",
       "      <td>3</td>\n",
       "      <td>500</td>\n",
       "      <td>800</td>\n",
       "      <td>600</td>\n",
       "      <td>1800</td>\n",
       "      <td>...</td>\n",
       "      <td>29</td>\n",
       "      <td>26</td>\n",
       "      <td>11</td>\n",
       "      <td>30.00</td>\n",
       "      <td>21</td>\n",
       "      <td>1.20</td>\n",
       "      <td>13</td>\n",
       "      <td>35.00</td>\n",
       "      <td>23</td>\n",
       "      <td>1.10</td>\n",
       "    </tr>\n",
       "    <tr>\n",
       "      <th>3</th>\n",
       "      <td>40</td>\n",
       "      <td>3.50</td>\n",
       "      <td>29</td>\n",
       "      <td>3.32</td>\n",
       "      <td>26</td>\n",
       "      <td>7</td>\n",
       "      <td>500</td>\n",
       "      <td>2000</td>\n",
       "      <td>971</td>\n",
       "      <td>6800</td>\n",
       "      <td>...</td>\n",
       "      <td>30</td>\n",
       "      <td>29</td>\n",
       "      <td>6</td>\n",
       "      <td>22.00</td>\n",
       "      <td>14</td>\n",
       "      <td>1.41</td>\n",
       "      <td>6</td>\n",
       "      <td>24.00</td>\n",
       "      <td>15</td>\n",
       "      <td>1.45</td>\n",
       "    </tr>\n",
       "    <tr>\n",
       "      <th>4</th>\n",
       "      <td>40</td>\n",
       "      <td>2.59</td>\n",
       "      <td>32</td>\n",
       "      <td>3.32</td>\n",
       "      <td>27</td>\n",
       "      <td>5</td>\n",
       "      <td>500</td>\n",
       "      <td>2000</td>\n",
       "      <td>860</td>\n",
       "      <td>4300</td>\n",
       "      <td>...</td>\n",
       "      <td>29</td>\n",
       "      <td>27</td>\n",
       "      <td>6</td>\n",
       "      <td>45.00</td>\n",
       "      <td>23</td>\n",
       "      <td>1.56</td>\n",
       "      <td>6</td>\n",
       "      <td>47.00</td>\n",
       "      <td>27</td>\n",
       "      <td>2.14</td>\n",
       "    </tr>\n",
       "    <tr>\n",
       "      <th>...</th>\n",
       "      <td>...</td>\n",
       "      <td>...</td>\n",
       "      <td>...</td>\n",
       "      <td>...</td>\n",
       "      <td>...</td>\n",
       "      <td>...</td>\n",
       "      <td>...</td>\n",
       "      <td>...</td>\n",
       "      <td>...</td>\n",
       "      <td>...</td>\n",
       "      <td>...</td>\n",
       "      <td>...</td>\n",
       "      <td>...</td>\n",
       "      <td>...</td>\n",
       "      <td>...</td>\n",
       "      <td>...</td>\n",
       "      <td>...</td>\n",
       "      <td>...</td>\n",
       "      <td>...</td>\n",
       "      <td>...</td>\n",
       "      <td>...</td>\n",
       "    </tr>\n",
       "    <tr>\n",
       "      <th>134</th>\n",
       "      <td>580</td>\n",
       "      <td>11.40</td>\n",
       "      <td>51</td>\n",
       "      <td>15.18</td>\n",
       "      <td>39</td>\n",
       "      <td>34</td>\n",
       "      <td>500</td>\n",
       "      <td>4200</td>\n",
       "      <td>2288</td>\n",
       "      <td>77800</td>\n",
       "      <td>...</td>\n",
       "      <td>80</td>\n",
       "      <td>41</td>\n",
       "      <td>1</td>\n",
       "      <td>1.18</td>\n",
       "      <td>17</td>\n",
       "      <td>9.29</td>\n",
       "      <td>2</td>\n",
       "      <td>1.19</td>\n",
       "      <td>22</td>\n",
       "      <td>12.34</td>\n",
       "    </tr>\n",
       "    <tr>\n",
       "      <th>135</th>\n",
       "      <td>590</td>\n",
       "      <td>5.28</td>\n",
       "      <td>34</td>\n",
       "      <td>9.54</td>\n",
       "      <td>19</td>\n",
       "      <td>17</td>\n",
       "      <td>500</td>\n",
       "      <td>4200</td>\n",
       "      <td>1918</td>\n",
       "      <td>32600</td>\n",
       "      <td>...</td>\n",
       "      <td>38</td>\n",
       "      <td>26</td>\n",
       "      <td>0</td>\n",
       "      <td>1.19</td>\n",
       "      <td>14</td>\n",
       "      <td>4.30</td>\n",
       "      <td>1</td>\n",
       "      <td>1.19</td>\n",
       "      <td>22</td>\n",
       "      <td>6.11</td>\n",
       "    </tr>\n",
       "    <tr>\n",
       "      <th>136</th>\n",
       "      <td>590</td>\n",
       "      <td>6.40</td>\n",
       "      <td>34</td>\n",
       "      <td>9.53</td>\n",
       "      <td>21</td>\n",
       "      <td>20</td>\n",
       "      <td>500</td>\n",
       "      <td>4200</td>\n",
       "      <td>1555</td>\n",
       "      <td>31100</td>\n",
       "      <td>...</td>\n",
       "      <td>38</td>\n",
       "      <td>24</td>\n",
       "      <td>0</td>\n",
       "      <td>1.19</td>\n",
       "      <td>13</td>\n",
       "      <td>4.21</td>\n",
       "      <td>1</td>\n",
       "      <td>1.19</td>\n",
       "      <td>21</td>\n",
       "      <td>6.54</td>\n",
       "    </tr>\n",
       "    <tr>\n",
       "      <th>137</th>\n",
       "      <td>600</td>\n",
       "      <td>5.45</td>\n",
       "      <td>45</td>\n",
       "      <td>10.33</td>\n",
       "      <td>25</td>\n",
       "      <td>22</td>\n",
       "      <td>500</td>\n",
       "      <td>4200</td>\n",
       "      <td>2609</td>\n",
       "      <td>57400</td>\n",
       "      <td>...</td>\n",
       "      <td>75</td>\n",
       "      <td>37</td>\n",
       "      <td>1</td>\n",
       "      <td>38.00</td>\n",
       "      <td>12</td>\n",
       "      <td>4.24</td>\n",
       "      <td>2</td>\n",
       "      <td>51.00</td>\n",
       "      <td>19</td>\n",
       "      <td>6.54</td>\n",
       "    </tr>\n",
       "    <tr>\n",
       "      <th>138</th>\n",
       "      <td>610</td>\n",
       "      <td>19.30</td>\n",
       "      <td>37</td>\n",
       "      <td>27.90</td>\n",
       "      <td>26</td>\n",
       "      <td>37</td>\n",
       "      <td>500</td>\n",
       "      <td>4200</td>\n",
       "      <td>1451</td>\n",
       "      <td>53700</td>\n",
       "      <td>...</td>\n",
       "      <td>60</td>\n",
       "      <td>37</td>\n",
       "      <td>1</td>\n",
       "      <td>2.11</td>\n",
       "      <td>24</td>\n",
       "      <td>14.31</td>\n",
       "      <td>1</td>\n",
       "      <td>2.11</td>\n",
       "      <td>30</td>\n",
       "      <td>18.42</td>\n",
       "    </tr>\n",
       "  </tbody>\n",
       "</table>\n",
       "<p>139 rows × 29 columns</p>\n",
       "</div>"
      ],
      "text/plain": [
       "     DestZoneNo  Path_UnloadedTime  Path_UnloadedSpeed  Path_LoadedTime  \\\n",
       "0            20               2.23                  36             3.10   \n",
       "1            20               2.14                  38             3.10   \n",
       "2            30               2.00                  38             2.22   \n",
       "3            40               3.50                  29             3.32   \n",
       "4            40               2.59                  32             3.32   \n",
       "..          ...                ...                 ...              ...   \n",
       "134         580              11.40                  51            15.18   \n",
       "135         590               5.28                  34             9.54   \n",
       "136         590               6.40                  34             9.53   \n",
       "137         600               5.45                  45            10.33   \n",
       "138         610              19.30                  37            27.90   \n",
       "\n",
       "     Path_LoadedSpeed  Links_Count  Links_MinCarCapacity  \\\n",
       "0                  27            3                   500   \n",
       "1                  27            3                   500   \n",
       "2                  32            3                   500   \n",
       "3                  26            7                   500   \n",
       "4                  27            5                   500   \n",
       "..                ...          ...                   ...   \n",
       "134                39           34                   500   \n",
       "135                19           17                   500   \n",
       "136                21           20                   500   \n",
       "137                25           22                   500   \n",
       "138                26           37                   500   \n",
       "\n",
       "     Links_MaxCarCapacity  Links_AvgCarCapacity  Links_SumCarCapacity  ...  \\\n",
       "0                     800                   600                  1800  ...   \n",
       "1                     800                   600                  1800  ...   \n",
       "2                     800                   600                  1800  ...   \n",
       "3                    2000                   971                  6800  ...   \n",
       "4                    2000                   860                  4300  ...   \n",
       "..                    ...                   ...                   ...  ...   \n",
       "134                  4200                  2288                 77800  ...   \n",
       "135                  4200                  1918                 32600  ...   \n",
       "136                  4200                  1555                 31100  ...   \n",
       "137                  4200                  2609                 57400  ...   \n",
       "138                  4200                  1451                 53700  ...   \n",
       "\n",
       "     Links_MaxLoadedSpeed  Links_AvgLoadedSpeed  Links_MinUnloadedTime  \\\n",
       "0                      29                    28                      8   \n",
       "1                      29                    28                      7   \n",
       "2                      29                    26                     11   \n",
       "3                      30                    29                      6   \n",
       "4                      29                    27                      6   \n",
       "..                    ...                   ...                    ...   \n",
       "134                    80                    41                      1   \n",
       "135                    38                    26                      0   \n",
       "136                    38                    24                      0   \n",
       "137                    75                    37                      1   \n",
       "138                    60                    37                      1   \n",
       "\n",
       "     Links_MaxUnloadedTime  Links_AvgUnloadedTime  Links_SumUnloadedTime  \\\n",
       "0                    20.00                     13                  40.00   \n",
       "1                    39.00                     22                   1.60   \n",
       "2                    30.00                     21                   1.20   \n",
       "3                    22.00                     14                   1.41   \n",
       "4                    45.00                     23                   1.56   \n",
       "..                     ...                    ...                    ...   \n",
       "134                   1.18                     17                   9.29   \n",
       "135                   1.19                     14                   4.30   \n",
       "136                   1.19                     13                   4.21   \n",
       "137                  38.00                     12                   4.24   \n",
       "138                   2.11                     24                  14.31   \n",
       "\n",
       "     Links_MinLoadedTime  Links_MaxLoadedTime  Links_AvgLoadedTime  \\\n",
       "0                      8                22.00                   14   \n",
       "1                      7                43.00                   24   \n",
       "2                     13                35.00                   23   \n",
       "3                      6                24.00                   15   \n",
       "4                      6                47.00                   27   \n",
       "..                   ...                  ...                  ...   \n",
       "134                    2                 1.19                   22   \n",
       "135                    1                 1.19                   22   \n",
       "136                    1                 1.19                   21   \n",
       "137                    2                51.00                   19   \n",
       "138                    1                 2.11                   30   \n",
       "\n",
       "     Links_SumLoadedTime  \n",
       "0                  43.00  \n",
       "1                   1.12  \n",
       "2                   1.10  \n",
       "3                   1.45  \n",
       "4                   2.14  \n",
       "..                   ...  \n",
       "134                12.34  \n",
       "135                 6.11  \n",
       "136                 6.54  \n",
       "137                 6.54  \n",
       "138                18.42  \n",
       "\n",
       "[139 rows x 29 columns]"
      ]
     },
     "execution_count": 567,
     "metadata": {},
     "output_type": "execute_result"
    }
   ],
   "source": [
    "pathsAndLinksDf"
   ]
  },
  {
   "cell_type": "code",
   "execution_count": 568,
   "metadata": {},
   "outputs": [
    {
     "data": {
      "text/plain": [
       "<AxesSubplot:>"
      ]
     },
     "execution_count": 568,
     "metadata": {},
     "output_type": "execute_result"
    },
    {
     "data": {
      "image/png": "[encoded data removed]",
      "text/plain": [
       "<Figure size 1800x1080 with 2 Axes>"
      ]
     },
     "metadata": {
      "needs_background": "light"
     },
     "output_type": "display_data"
    }
   ],
   "source": [
    "fig_dims = (25,15)\n",
    "fig, ax = plt.subplots(figsize=fig_dims)\n",
    "\n",
    "corr = pathsAndLinksDf.corr()\n",
    "sns.heatmap(corr, annot=True)"
   ]
  },
  {
   "cell_type": "code",
   "execution_count": 569,
   "metadata": {},
   "outputs": [],
   "source": [
    "def print_results(predictions, y_testy):\n",
    "    errors = abs(predictions - y_testy)\n",
    "    out_mape = round(np.mean(errors), 2)\n",
    "    print('    Mean Absolute Error:', out_mape, 'degrees.')\n",
    "    mape = 100 * (errors / y_testy)\n",
    "    accuracy = 100 - np.mean(mape)\n",
    "    accuracy = round(accuracy, 2)\n",
    "    print('    Accuracy:', accuracy, '%.')\n",
    "    return accuracy, out_mape\n"
   ]
  },
  {
   "cell_type": "code",
   "execution_count": 570,
   "metadata": {},
   "outputs": [],
   "source": [
    "def save_accuracy(predictions, y_testy):\n",
    "    errors = abs(predictions - y_testy)\n",
    "    out_mape = round(np.mean(errors), 2)\n",
    "    mape = 100 * (errors / y_testy)\n",
    "    accuracy = 100 - np.mean(mape)\n",
    "    accuracy = round(accuracy, 2)\n",
    "    return accuracy\n"
   ]
  },
  {
   "cell_type": "markdown",
   "metadata": {},
   "source": [
    "# Dados simulados completos"
   ]
  },
  {
   "cell_type": "markdown",
   "metadata": {},
   "source": [
    "## Y = Links_SumOfCars"
   ]
  },
  {
   "cell_type": "code",
   "execution_count": 571,
   "metadata": {},
   "outputs": [],
   "source": [
    "df_SumOfCars = pathsAndLinksDf"
   ]
  },
  {
   "cell_type": "code",
   "execution_count": 572,
   "metadata": {},
   "outputs": [],
   "source": [
    "y = np.array(df_SumOfCars['Links_SumOfCars'])\n",
    "X = df_SumOfCars.drop('Links_SumOfCars', axis = 1)\n",
    "x_names = list(X.columns)\n",
    "X = np.array(X)"
   ]
  },
  {
   "cell_type": "code",
   "execution_count": 573,
   "metadata": {},
   "outputs": [],
   "source": [
    "tscv = TimeSeriesSplit(n_splits=2)\n",
    "for train_index, test_index in tscv.split(X):\n",
    "    X_train, X_test = X[train_index], X[test_index]\n",
    "    y_train, y_test = y[train_index], y[test_index]"
   ]
  },
  {
   "cell_type": "markdown",
   "metadata": {},
   "source": [
    "### Decision Tree Regressor Pipeline (Links_SumOfCars)"
   ]
  },
  {
   "cell_type": "code",
   "execution_count": 574,
   "metadata": {},
   "outputs": [
    {
     "data": {
      "text/plain": [
       "DecisionTreeRegressor(random_state=42)"
      ]
     },
     "execution_count": 574,
     "metadata": {},
     "output_type": "execute_result"
    }
   ],
   "source": [
    "DT_regressor = DecisionTreeRegressor(random_state=42)\n",
    "DT_regressor.fit(X_train, y_train)"
   ]
  },
  {
   "cell_type": "code",
   "execution_count": 575,
   "metadata": {},
   "outputs": [],
   "source": [
    "search_paramns = [\n",
    "    dict(dec_tree__criterion=[\"squared_error\", \"friedman_mse\", \"absolute_error\", \"poisson\"],\n",
    "         dec_tree__max_depth=list(range(10,600,50)),\n",
    "            dec_tree__max_features=[\"auto\",\"sqrt\", \"log2\"])\n",
    "]\n",
    "\n",
    "pipe = Pipeline([\n",
    "    ('dec_tree', DT_regressor)\n",
    "])\n",
    "\n",
    "search = GridSearchCV(estimator=pipe,\n",
    "                     param_grid=search_paramns,\n",
    "                     cv=tscv,\n",
    "                     return_train_score=True)\n",
    "\n",
    "X_train, X_test, y_train, y_test = train_test_split(X, y, test_size=0.3, shuffle=False)"
   ]
  },
  {
   "cell_type": "code",
   "execution_count": 576,
   "metadata": {},
   "outputs": [
    {
     "name": "stdout",
     "output_type": "stream",
     "text": [
      "CPU times: total: 375 ms\n",
      "Wall time: 369 ms\n"
     ]
    },
    {
     "data": {
      "text/plain": [
       "GridSearchCV(cv=TimeSeriesSplit(gap=0, max_train_size=None, n_splits=2, test_size=None),\n",
       "             estimator=Pipeline(steps=[('dec_tree',\n",
       "                                        DecisionTreeRegressor(random_state=42))]),\n",
       "             param_grid=[{'dec_tree__criterion': ['squared_error',\n",
       "                                                  'friedman_mse',\n",
       "                                                  'absolute_error', 'poisson'],\n",
       "                          'dec_tree__max_depth': [10, 60, 110, 160, 210, 260,\n",
       "                                                  310, 360, 410, 460, 510,\n",
       "                                                  560],\n",
       "                          'dec_tree__max_features': ['auto', 'sqrt', 'log2']}],\n",
       "             return_train_score=True)"
      ]
     },
     "execution_count": 576,
     "metadata": {},
     "output_type": "execute_result"
    }
   ],
   "source": [
    "%%time\n",
    "search.fit(X_train, y_train)"
   ]
  },
  {
   "cell_type": "code",
   "execution_count": 577,
   "metadata": {},
   "outputs": [
    {
     "data": {
      "text/plain": [
       "{'dec_tree__criterion': 'squared_error',\n",
       " 'dec_tree__max_depth': 10,\n",
       " 'dec_tree__max_features': 'auto'}"
      ]
     },
     "execution_count": 577,
     "metadata": {},
     "output_type": "execute_result"
    }
   ],
   "source": [
    "search.best_params_"
   ]
  },
  {
   "cell_type": "code",
   "execution_count": 578,
   "metadata": {},
   "outputs": [
    {
     "data": {
      "text/plain": [
       "Pipeline(steps=[('dec_tree',\n",
       "                 DecisionTreeRegressor(max_depth=10, max_features='auto',\n",
       "                                       random_state=42))])"
      ]
     },
     "execution_count": 578,
     "metadata": {},
     "output_type": "execute_result"
    }
   ],
   "source": [
    "search.best_estimator_"
   ]
  },
  {
   "cell_type": "code",
   "execution_count": 579,
   "metadata": {},
   "outputs": [
    {
     "name": "stdout",
     "output_type": "stream",
     "text": [
      "r2: 0.5345606000033749    MSE: 54962187.166666664\n"
     ]
    }
   ],
   "source": [
    "y_pred = search.predict(X_test)\n",
    "\n",
    "r2_score = DT_regressor.score(X_test, y_test)\n",
    "mse = mean_squared_error(y_test, y_pred)\n",
    "print(f'r2: {r2_score}    MSE: {mse}')"
   ]
  },
  {
   "cell_type": "code",
   "execution_count": 580,
   "metadata": {},
   "outputs": [
    {
     "name": "stdout",
     "output_type": "stream",
     "text": [
      "    Mean Absolute Error: 5726.21 degrees.\n",
      "    Accuracy: 85.47 %.\n"
     ]
    },
    {
     "data": {
      "text/plain": [
       "(85.47, 5726.21)"
      ]
     },
     "execution_count": 580,
     "metadata": {},
     "output_type": "execute_result"
    }
   ],
   "source": [
    "print_results(y_pred, y_test)"
   ]
  },
  {
   "cell_type": "code",
   "execution_count": 581,
   "metadata": {},
   "outputs": [
    {
     "data": {
      "text/plain": [
       "<matplotlib.collections.PathCollection at 0x21d82783580>"
      ]
     },
     "execution_count": 581,
     "metadata": {},
     "output_type": "execute_result"
    },
    {
     "data": {
      "image/png": "[encoded data removed]",
      "text/plain": [
       "<Figure size 432x288 with 1 Axes>"
      ]
     },
     "metadata": {
      "needs_background": "light"
     },
     "output_type": "display_data"
    }
   ],
   "source": [
    "plt.scatter(y_test, y_test, c='red', alpha=0.5)\n",
    "plt.scatter(y_test, y_pred, c='blue', alpha=0.5)"
   ]
  },
  {
   "cell_type": "markdown",
   "metadata": {},
   "source": [
    "### Random Forest Pipeline (Links_SumOfCars)"
   ]
  },
  {
   "cell_type": "code",
   "execution_count": 582,
   "metadata": {},
   "outputs": [
    {
     "data": {
      "text/plain": [
       "RandomForestRegressor(random_state=37)"
      ]
     },
     "execution_count": 582,
     "metadata": {},
     "output_type": "execute_result"
    }
   ],
   "source": [
    "forrest_model_reg = RandomForestRegressor(random_state=37)\n",
    "forrest_model_reg.fit(X_train, y_train)"
   ]
  },
  {
   "cell_type": "code",
   "execution_count": 583,
   "metadata": {},
   "outputs": [],
   "source": [
    "search_paramns = [{\n",
    "    'forest__criterion': [\"squared_error\", \"absolute_error\"],\n",
    "    'forest__n_estimators': list(range(400,420, 2)), \n",
    "    'forest__max_features': [\"sqrt\", \"log2\"]\n",
    "}]\n",
    "\n",
    "pipe = Pipeline([\n",
    "    ('forest', forrest_model_reg)\n",
    "])\n",
    "\n",
    "search = GridSearchCV(estimator=pipe,\n",
    "                     param_grid=search_paramns,\n",
    "                     cv=5,\n",
    "                     return_train_score=True)\n",
    "\n",
    "X_train, X_test, y_train, y_test = train_test_split(X, y, test_size=0.3, shuffle=False)"
   ]
  },
  {
   "cell_type": "code",
   "execution_count": 584,
   "metadata": {},
   "outputs": [
    {
     "name": "stdout",
     "output_type": "stream",
     "text": [
      "CPU times: total: 59.2 s\n",
      "Wall time: 1min\n"
     ]
    },
    {
     "data": {
      "text/plain": [
       "GridSearchCV(cv=5,\n",
       "             estimator=Pipeline(steps=[('forest',\n",
       "                                        RandomForestRegressor(random_state=37))]),\n",
       "             param_grid=[{'forest__criterion': ['squared_error',\n",
       "                                                'absolute_error'],\n",
       "                          'forest__max_features': ['sqrt', 'log2'],\n",
       "                          'forest__n_estimators': [400, 402, 404, 406, 408, 410,\n",
       "                                                   412, 414, 416, 418]}],\n",
       "             return_train_score=True)"
      ]
     },
     "execution_count": 584,
     "metadata": {},
     "output_type": "execute_result"
    }
   ],
   "source": [
    "%%time\n",
    "search.fit(X_train, y_train)"
   ]
  },
  {
   "cell_type": "code",
   "execution_count": 585,
   "metadata": {},
   "outputs": [
    {
     "data": {
      "text/plain": [
       "{'forest__criterion': 'absolute_error',\n",
       " 'forest__max_features': 'sqrt',\n",
       " 'forest__n_estimators': 400}"
      ]
     },
     "execution_count": 585,
     "metadata": {},
     "output_type": "execute_result"
    }
   ],
   "source": [
    "search.best_params_"
   ]
  },
  {
   "cell_type": "code",
   "execution_count": 586,
   "metadata": {},
   "outputs": [
    {
     "data": {
      "text/plain": [
       "Pipeline(steps=[('forest',\n",
       "                 RandomForestRegressor(criterion='absolute_error',\n",
       "                                       max_features='sqrt', n_estimators=400,\n",
       "                                       random_state=37))])"
      ]
     },
     "execution_count": 586,
     "metadata": {},
     "output_type": "execute_result"
    }
   ],
   "source": [
    "search.best_estimator_"
   ]
  },
  {
   "cell_type": "code",
   "execution_count": 587,
   "metadata": {},
   "outputs": [
    {
     "name": "stdout",
     "output_type": "stream",
     "text": [
      "r2: 0.7889351002710254    MSE: 7007319.012464471\n"
     ]
    }
   ],
   "source": [
    "y_pred = search.predict(X_test)\n",
    "\n",
    "r2_score = forrest_model_reg.score(X_test, y_test)\n",
    "mse = mean_squared_error(y_test, y_pred)\n",
    "print(f'r2: {r2_score}    MSE: {mse}')"
   ]
  },
  {
   "cell_type": "code",
   "execution_count": 588,
   "metadata": {},
   "outputs": [
    {
     "name": "stdout",
     "output_type": "stream",
     "text": [
      "    Mean Absolute Error: 2024.45 degrees.\n",
      "    Accuracy: 94.34 %.\n"
     ]
    },
    {
     "data": {
      "text/plain": [
       "(94.34, 2024.45)"
      ]
     },
     "execution_count": 588,
     "metadata": {},
     "output_type": "execute_result"
    }
   ],
   "source": [
    "print_results(y_pred, y_test)"
   ]
  },
  {
   "cell_type": "code",
   "execution_count": 589,
   "metadata": {},
   "outputs": [
    {
     "name": "stdout",
     "output_type": "stream",
     "text": [
      "    Mean Absolute Error: 2062.54 degrees.\n",
      "    Accuracy: 94.29 %.\n"
     ]
    },
    {
     "data": {
      "text/plain": [
       "(94.29, 2062.54)"
      ]
     },
     "execution_count": 589,
     "metadata": {},
     "output_type": "execute_result"
    }
   ],
   "source": [
    "forrest_model_reg = RandomForestRegressor(n_estimators = 411,criterion='absolute_error',max_features= 'sqrt', random_state=37)\n",
    "forrest_model_reg.fit(X_train, y_train)\n",
    "\n",
    "forrest_predictions = forrest_model_reg.predict(X_test)\n",
    "print_results(forrest_predictions, y_test)"
   ]
  },
  {
   "cell_type": "code",
   "execution_count": 590,
   "metadata": {},
   "outputs": [
    {
     "data": {
      "text/plain": [
       "<matplotlib.collections.PathCollection at 0x21d827daec0>"
      ]
     },
     "execution_count": 590,
     "metadata": {},
     "output_type": "execute_result"
    },
    {
     "data": {
      "image/png": "[encoded data removed]",
      "text/plain": [
       "<Figure size 432x288 with 1 Axes>"
      ]
     },
     "metadata": {
      "needs_background": "light"
     },
     "output_type": "display_data"
    }
   ],
   "source": [
    "plt.scatter(y_test, y_test, c='red', alpha=0.5)\n",
    "plt.scatter(y_test, forrest_predictions, c='blue', alpha=0.5)"
   ]
  },
  {
   "cell_type": "code",
   "execution_count": 591,
   "metadata": {},
   "outputs": [],
   "source": [
    "rf_SumOfCars = save_accuracy(forrest_predictions, y_test)"
   ]
  },
  {
   "cell_type": "markdown",
   "metadata": {},
   "source": [
    "## Y = Path_LoadedSpeed"
   ]
  },
  {
   "cell_type": "code",
   "execution_count": 592,
   "metadata": {},
   "outputs": [],
   "source": [
    "df_LoadedSpeed = pathsAndLinksDf"
   ]
  },
  {
   "cell_type": "code",
   "execution_count": 593,
   "metadata": {},
   "outputs": [],
   "source": [
    "y = np.array(df_LoadedSpeed['Path_LoadedSpeed'])\n",
    "X = df_LoadedSpeed.drop('Path_LoadedSpeed', axis = 1)\n",
    "x_names = list(X.columns)\n",
    "X = np.array(X)"
   ]
  },
  {
   "cell_type": "code",
   "execution_count": 594,
   "metadata": {},
   "outputs": [],
   "source": [
    "tscv = TimeSeriesSplit(n_splits=2)\n",
    "for train_index, test_index in tscv.split(X):\n",
    "    X_train, X_test = X[train_index], X[test_index]\n",
    "    y_train, y_test = y[train_index], y[test_index]"
   ]
  },
  {
   "cell_type": "markdown",
   "metadata": {},
   "source": [
    "### Decision Tree Regressor Pipeline (Path_LoadedSpeed)"
   ]
  },
  {
   "cell_type": "code",
   "execution_count": 595,
   "metadata": {},
   "outputs": [
    {
     "data": {
      "text/plain": [
       "DecisionTreeRegressor(random_state=42)"
      ]
     },
     "execution_count": 595,
     "metadata": {},
     "output_type": "execute_result"
    }
   ],
   "source": [
    "DT_regressor = DecisionTreeRegressor(random_state=42)\n",
    "DT_regressor.fit(X_train, y_train)"
   ]
  },
  {
   "cell_type": "code",
   "execution_count": 596,
   "metadata": {},
   "outputs": [],
   "source": [
    "search_paramns = [\n",
    "    dict(dec_tree__criterion=[\"squared_error\", \"friedman_mse\", \"absolute_error\", \"poisson\"],\n",
    "         dec_tree__max_depth=list(range(10,600,50)),\n",
    "            dec_tree__max_features=[\"auto\",\"sqrt\", \"log2\"])\n",
    "]\n",
    "\n",
    "pipe = Pipeline([\n",
    "    ('dec_tree', DT_regressor)\n",
    "])\n",
    "\n",
    "search = GridSearchCV(estimator=pipe,\n",
    "                     param_grid=search_paramns,\n",
    "                     cv=tscv,\n",
    "                     return_train_score=True)\n",
    "\n",
    "X_train, X_test, y_train, y_test = train_test_split(X, y, test_size=0.3, shuffle=False)"
   ]
  },
  {
   "cell_type": "code",
   "execution_count": 597,
   "metadata": {},
   "outputs": [
    {
     "name": "stdout",
     "output_type": "stream",
     "text": [
      "CPU times: total: 359 ms\n",
      "Wall time: 383 ms\n"
     ]
    },
    {
     "data": {
      "text/plain": [
       "GridSearchCV(cv=TimeSeriesSplit(gap=0, max_train_size=None, n_splits=2, test_size=None),\n",
       "             estimator=Pipeline(steps=[('dec_tree',\n",
       "                                        DecisionTreeRegressor(random_state=42))]),\n",
       "             param_grid=[{'dec_tree__criterion': ['squared_error',\n",
       "                                                  'friedman_mse',\n",
       "                                                  'absolute_error', 'poisson'],\n",
       "                          'dec_tree__max_depth': [10, 60, 110, 160, 210, 260,\n",
       "                                                  310, 360, 410, 460, 510,\n",
       "                                                  560],\n",
       "                          'dec_tree__max_features': ['auto', 'sqrt', 'log2']}],\n",
       "             return_train_score=True)"
      ]
     },
     "execution_count": 597,
     "metadata": {},
     "output_type": "execute_result"
    }
   ],
   "source": [
    "%%time\n",
    "search.fit(X_train, y_train)"
   ]
  },
  {
   "cell_type": "code",
   "execution_count": 598,
   "metadata": {},
   "outputs": [
    {
     "data": {
      "text/plain": [
       "{'dec_tree__criterion': 'absolute_error',\n",
       " 'dec_tree__max_depth': 10,\n",
       " 'dec_tree__max_features': 'log2'}"
      ]
     },
     "execution_count": 598,
     "metadata": {},
     "output_type": "execute_result"
    }
   ],
   "source": [
    "search.best_params_"
   ]
  },
  {
   "cell_type": "code",
   "execution_count": 599,
   "metadata": {},
   "outputs": [
    {
     "data": {
      "text/plain": [
       "Pipeline(steps=[('dec_tree',\n",
       "                 DecisionTreeRegressor(criterion='absolute_error', max_depth=10,\n",
       "                                       max_features='log2', random_state=42))])"
      ]
     },
     "execution_count": 599,
     "metadata": {},
     "output_type": "execute_result"
    }
   ],
   "source": [
    "search.best_estimator_"
   ]
  },
  {
   "cell_type": "code",
   "execution_count": 600,
   "metadata": {},
   "outputs": [
    {
     "name": "stdout",
     "output_type": "stream",
     "text": [
      "r2: -0.3153284671532848    MSE: 69.85714285714286\n"
     ]
    }
   ],
   "source": [
    "y_pred = search.predict(X_test)\n",
    "\n",
    "r2_score = DT_regressor.score(X_test, y_test)\n",
    "mse = mean_squared_error(y_test, y_pred)\n",
    "print(f'r2: {r2_score}    MSE: {mse}')"
   ]
  },
  {
   "cell_type": "code",
   "execution_count": 601,
   "metadata": {},
   "outputs": [
    {
     "name": "stdout",
     "output_type": "stream",
     "text": [
      "    Mean Absolute Error: 5.67 degrees.\n",
      "    Accuracy: 80.56 %.\n"
     ]
    },
    {
     "data": {
      "text/plain": [
       "(80.56, 5.67)"
      ]
     },
     "execution_count": 601,
     "metadata": {},
     "output_type": "execute_result"
    }
   ],
   "source": [
    "print_results(y_pred, y_test)"
   ]
  },
  {
   "cell_type": "code",
   "execution_count": 602,
   "metadata": {},
   "outputs": [
    {
     "data": {
      "text/plain": [
       "<matplotlib.collections.PathCollection at 0x21d828845b0>"
      ]
     },
     "execution_count": 602,
     "metadata": {},
     "output_type": "execute_result"
    },
    {
     "data": {
      "image/png": "[encoded data removed]",
      "text/plain": [
       "<Figure size 432x288 with 1 Axes>"
      ]
     },
     "metadata": {
      "needs_background": "light"
     },
     "output_type": "display_data"
    }
   ],
   "source": [
    "plt.scatter(y_test, y_test, c='red', alpha=0.5)\n",
    "plt.scatter(y_test, y_pred, c='blue', alpha=0.5)"
   ]
  },
  {
   "cell_type": "markdown",
   "metadata": {},
   "source": [
    "### Random Forest Pipeline (Path_LoadedTime)"
   ]
  },
  {
   "cell_type": "code",
   "execution_count": 603,
   "metadata": {},
   "outputs": [
    {
     "data": {
      "text/plain": [
       "RandomForestRegressor(random_state=37)"
      ]
     },
     "execution_count": 603,
     "metadata": {},
     "output_type": "execute_result"
    }
   ],
   "source": [
    "forrest_model_reg = RandomForestRegressor(random_state=37)\n",
    "forrest_model_reg.fit(X_train, y_train)"
   ]
  },
  {
   "cell_type": "code",
   "execution_count": 604,
   "metadata": {},
   "outputs": [],
   "source": [
    "search_paramns = [{\n",
    "    'forest__criterion': [\"squared_error\", \"absolute_error\"],\n",
    "    'forest__n_estimators': list(range(180,200, 2)), \n",
    "    'forest__max_features': [\"sqrt\", \"log2\"]\n",
    "}]\n",
    "\n",
    "pipe = Pipeline([\n",
    "    ('forest', forrest_model_reg)\n",
    "])\n",
    "\n",
    "search = GridSearchCV(estimator=pipe,\n",
    "                     param_grid=search_paramns,\n",
    "                     cv=5,\n",
    "                     return_train_score=True)\n",
    "\n",
    "X_train, X_test, y_train, y_test = train_test_split(X, y, test_size=0.3, shuffle=False)"
   ]
  },
  {
   "cell_type": "code",
   "execution_count": 605,
   "metadata": {},
   "outputs": [
    {
     "name": "stdout",
     "output_type": "stream",
     "text": [
      "CPU times: total: 29 s\n",
      "Wall time: 29.6 s\n"
     ]
    },
    {
     "data": {
      "text/plain": [
       "GridSearchCV(cv=5,\n",
       "             estimator=Pipeline(steps=[('forest',\n",
       "                                        RandomForestRegressor(random_state=37))]),\n",
       "             param_grid=[{'forest__criterion': ['squared_error',\n",
       "                                                'absolute_error'],\n",
       "                          'forest__max_features': ['sqrt', 'log2'],\n",
       "                          'forest__n_estimators': [180, 182, 184, 186, 188, 190,\n",
       "                                                   192, 194, 196, 198]}],\n",
       "             return_train_score=True)"
      ]
     },
     "execution_count": 605,
     "metadata": {},
     "output_type": "execute_result"
    }
   ],
   "source": [
    "%%time\n",
    "search.fit(X_train, y_train)"
   ]
  },
  {
   "cell_type": "code",
   "execution_count": 606,
   "metadata": {},
   "outputs": [
    {
     "data": {
      "text/plain": [
       "{'forest__criterion': 'squared_error',\n",
       " 'forest__max_features': 'log2',\n",
       " 'forest__n_estimators': 186}"
      ]
     },
     "execution_count": 606,
     "metadata": {},
     "output_type": "execute_result"
    }
   ],
   "source": [
    "search.best_params_"
   ]
  },
  {
   "cell_type": "code",
   "execution_count": 607,
   "metadata": {},
   "outputs": [
    {
     "data": {
      "text/plain": [
       "Pipeline(steps=[('forest',\n",
       "                 RandomForestRegressor(max_features='log2', n_estimators=186,\n",
       "                                       random_state=37))])"
      ]
     },
     "execution_count": 607,
     "metadata": {},
     "output_type": "execute_result"
    }
   ],
   "source": [
    "search.best_estimator_"
   ]
  },
  {
   "cell_type": "code",
   "execution_count": 608,
   "metadata": {},
   "outputs": [
    {
     "name": "stdout",
     "output_type": "stream",
     "text": [
      "r2: 0.5891827007299271    MSE: 15.26361291423726\n"
     ]
    }
   ],
   "source": [
    "y_pred = search.predict(X_test)\n",
    "\n",
    "r2_score = forrest_model_reg.score(X_test, y_test)\n",
    "mse = mean_squared_error(y_test, y_pred)\n",
    "print(f'r2: {r2_score}    MSE: {mse}')"
   ]
  },
  {
   "cell_type": "code",
   "execution_count": 609,
   "metadata": {},
   "outputs": [
    {
     "name": "stdout",
     "output_type": "stream",
     "text": [
      "    Mean Absolute Error: 3.01 degrees.\n",
      "    Accuracy: 88.82 %.\n"
     ]
    },
    {
     "data": {
      "text/plain": [
       "(88.82, 3.01)"
      ]
     },
     "execution_count": 609,
     "metadata": {},
     "output_type": "execute_result"
    }
   ],
   "source": [
    "print_results(y_pred, y_test)"
   ]
  },
  {
   "cell_type": "code",
   "execution_count": 610,
   "metadata": {},
   "outputs": [
    {
     "name": "stdout",
     "output_type": "stream",
     "text": [
      "    Mean Absolute Error: 2.95 degrees.\n",
      "    Accuracy: 89.16 %.\n"
     ]
    },
    {
     "data": {
      "text/plain": [
       "(89.16, 2.95)"
      ]
     },
     "execution_count": 610,
     "metadata": {},
     "output_type": "execute_result"
    }
   ],
   "source": [
    "forrest_model_reg = RandomForestRegressor(n_estimators = 186,criterion='absolute_error',max_features= 'log2', random_state=37)\n",
    "forrest_model_reg.fit(X_train, y_train)\n",
    "\n",
    "forrest_predictions = forrest_model_reg.predict(X_test)\n",
    "print_results(forrest_predictions, y_test)"
   ]
  },
  {
   "cell_type": "code",
   "execution_count": 611,
   "metadata": {},
   "outputs": [
    {
     "data": {
      "text/plain": [
       "<matplotlib.collections.PathCollection at 0x21d827b27a0>"
      ]
     },
     "execution_count": 611,
     "metadata": {},
     "output_type": "execute_result"
    },
    {
     "data": {
      "image/png": "[encoded data removed]",
      "text/plain": [
       "<Figure size 432x288 with 1 Axes>"
      ]
     },
     "metadata": {
      "needs_background": "light"
     },
     "output_type": "display_data"
    }
   ],
   "source": [
    "plt.scatter(y_test, y_test, c='red', alpha=0.5)\n",
    "plt.scatter(y_test, forrest_predictions, c='blue', alpha=0.5)"
   ]
  },
  {
   "cell_type": "code",
   "execution_count": 612,
   "metadata": {},
   "outputs": [],
   "source": [
    "rf_LoadedSpeed = save_accuracy(forrest_predictions, y_test)"
   ]
  },
  {
   "cell_type": "markdown",
   "metadata": {},
   "source": [
    "## Y = Path_LoadedTime"
   ]
  },
  {
   "cell_type": "code",
   "execution_count": 613,
   "metadata": {},
   "outputs": [],
   "source": [
    "df_LoadedTime = pathsAndLinksDf"
   ]
  },
  {
   "cell_type": "code",
   "execution_count": 614,
   "metadata": {},
   "outputs": [],
   "source": [
    "y = np.array(df_LoadedTime['Path_LoadedTime'])\n",
    "X = df_LoadedTime.drop('Path_LoadedTime', axis = 1)\n",
    "x_names = list(X.columns)\n",
    "X = np.array(X)"
   ]
  },
  {
   "cell_type": "code",
   "execution_count": 615,
   "metadata": {},
   "outputs": [],
   "source": [
    "tscv = TimeSeriesSplit(n_splits=2)\n",
    "for train_index, test_index in tscv.split(X):\n",
    "    X_train, X_test = X[train_index], X[test_index]\n",
    "    y_train, y_test = y[train_index], y[test_index]"
   ]
  },
  {
   "cell_type": "markdown",
   "metadata": {},
   "source": [
    "### Decision Tree Regressor Pipeline (Path_LoadedTime)"
   ]
  },
  {
   "cell_type": "code",
   "execution_count": 616,
   "metadata": {},
   "outputs": [
    {
     "data": {
      "text/plain": [
       "DecisionTreeRegressor(random_state=42)"
      ]
     },
     "execution_count": 616,
     "metadata": {},
     "output_type": "execute_result"
    }
   ],
   "source": [
    "DT_regressor = DecisionTreeRegressor(random_state=42)\n",
    "DT_regressor.fit(X_train, y_train)"
   ]
  },
  {
   "cell_type": "code",
   "execution_count": 617,
   "metadata": {},
   "outputs": [],
   "source": [
    "search_paramns = [\n",
    "    dict(dec_tree__criterion=[\"squared_error\", \"friedman_mse\", \"absolute_error\", \"poisson\"],\n",
    "         dec_tree__max_depth=list(range(10,600,50)),\n",
    "            dec_tree__max_features=[\"auto\",\"sqrt\", \"log2\"])\n",
    "]\n",
    "\n",
    "pipe = Pipeline([\n",
    "    ('dec_tree', DT_regressor)\n",
    "])\n",
    "\n",
    "search = GridSearchCV(estimator=pipe,\n",
    "                     param_grid=search_paramns,\n",
    "                     cv=tscv,\n",
    "                     return_train_score=True)\n",
    "\n",
    "X_train, X_test, y_train, y_test = train_test_split(X, y, test_size=0.3, shuffle=False)"
   ]
  },
  {
   "cell_type": "code",
   "execution_count": 618,
   "metadata": {},
   "outputs": [
    {
     "name": "stdout",
     "output_type": "stream",
     "text": [
      "CPU times: total: 375 ms\n",
      "Wall time: 370 ms\n"
     ]
    },
    {
     "data": {
      "text/plain": [
       "GridSearchCV(cv=TimeSeriesSplit(gap=0, max_train_size=None, n_splits=2, test_size=None),\n",
       "             estimator=Pipeline(steps=[('dec_tree',\n",
       "                                        DecisionTreeRegressor(random_state=42))]),\n",
       "             param_grid=[{'dec_tree__criterion': ['squared_error',\n",
       "                                                  'friedman_mse',\n",
       "                                                  'absolute_error', 'poisson'],\n",
       "                          'dec_tree__max_depth': [10, 60, 110, 160, 210, 260,\n",
       "                                                  310, 360, 410, 460, 510,\n",
       "                                                  560],\n",
       "                          'dec_tree__max_features': ['auto', 'sqrt', 'log2']}],\n",
       "             return_train_score=True)"
      ]
     },
     "execution_count": 618,
     "metadata": {},
     "output_type": "execute_result"
    }
   ],
   "source": [
    "%%time\n",
    "search.fit(X_train, y_train)"
   ]
  },
  {
   "cell_type": "code",
   "execution_count": 619,
   "metadata": {},
   "outputs": [
    {
     "data": {
      "text/plain": [
       "{'dec_tree__criterion': 'squared_error',\n",
       " 'dec_tree__max_depth': 10,\n",
       " 'dec_tree__max_features': 'sqrt'}"
      ]
     },
     "execution_count": 619,
     "metadata": {},
     "output_type": "execute_result"
    }
   ],
   "source": [
    "search.best_params_"
   ]
  },
  {
   "cell_type": "code",
   "execution_count": 620,
   "metadata": {},
   "outputs": [
    {
     "data": {
      "text/plain": [
       "Pipeline(steps=[('dec_tree',\n",
       "                 DecisionTreeRegressor(max_depth=10, max_features='sqrt',\n",
       "                                       random_state=42))])"
      ]
     },
     "execution_count": 620,
     "metadata": {},
     "output_type": "execute_result"
    }
   ],
   "source": [
    "search.best_estimator_"
   ]
  },
  {
   "cell_type": "code",
   "execution_count": 621,
   "metadata": {},
   "outputs": [
    {
     "name": "stdout",
     "output_type": "stream",
     "text": [
      "r2: 0.1251743588977957    MSE: 13.288416666666663\n"
     ]
    }
   ],
   "source": [
    "y_pred = search.predict(X_test)\n",
    "\n",
    "r2_score = DT_regressor.score(X_test, y_test)\n",
    "mse = mean_squared_error(y_test, y_pred)\n",
    "print(f'r2: {r2_score}    MSE: {mse}')"
   ]
  },
  {
   "cell_type": "code",
   "execution_count": 622,
   "metadata": {},
   "outputs": [
    {
     "name": "stdout",
     "output_type": "stream",
     "text": [
      "    Mean Absolute Error: 2.49 degrees.\n",
      "    Accuracy: 85.85 %.\n"
     ]
    },
    {
     "data": {
      "text/plain": [
       "(85.85, 2.49)"
      ]
     },
     "execution_count": 622,
     "metadata": {},
     "output_type": "execute_result"
    }
   ],
   "source": [
    "print_results(y_pred, y_test)"
   ]
  },
  {
   "cell_type": "code",
   "execution_count": 623,
   "metadata": {},
   "outputs": [
    {
     "data": {
      "text/plain": [
       "<matplotlib.collections.PathCollection at 0x21d81a98a90>"
      ]
     },
     "execution_count": 623,
     "metadata": {},
     "output_type": "execute_result"
    },
    {
     "data": {
      "image/png": "[encoded data removed]",
      "text/plain": [
       "<Figure size 432x288 with 1 Axes>"
      ]
     },
     "metadata": {
      "needs_background": "light"
     },
     "output_type": "display_data"
    }
   ],
   "source": [
    "plt.scatter(y_test, y_test, c='red', alpha=0.5)\n",
    "plt.scatter(y_test, y_pred, c='blue', alpha=0.5)"
   ]
  },
  {
   "cell_type": "markdown",
   "metadata": {},
   "source": [
    "### Random Forest Pipeline (Path_LoadedTime)"
   ]
  },
  {
   "cell_type": "code",
   "execution_count": 624,
   "metadata": {},
   "outputs": [
    {
     "data": {
      "text/plain": [
       "RandomForestRegressor(random_state=37)"
      ]
     },
     "execution_count": 624,
     "metadata": {},
     "output_type": "execute_result"
    }
   ],
   "source": [
    "forrest_model_reg = RandomForestRegressor(random_state=37)\n",
    "forrest_model_reg.fit(X_train, y_train)"
   ]
  },
  {
   "cell_type": "code",
   "execution_count": 625,
   "metadata": {},
   "outputs": [],
   "source": [
    "search_paramns = [{\n",
    "    'forest__criterion': [\"squared_error\", \"absolute_error\"],\n",
    "    'forest__n_estimators': list(range(90,110, 1)), \n",
    "    'forest__max_features': [\"sqrt\", \"log2\"]\n",
    "}]\n",
    "\n",
    "pipe = Pipeline([\n",
    "    ('forest', forrest_model_reg)\n",
    "])\n",
    "\n",
    "search = GridSearchCV(estimator=pipe,\n",
    "                     param_grid=search_paramns,\n",
    "                     cv=5,\n",
    "                     return_train_score=True)\n",
    "\n",
    "X_train, X_test, y_train, y_test = train_test_split(X, y, test_size=0.3, shuffle=False)"
   ]
  },
  {
   "cell_type": "code",
   "execution_count": 626,
   "metadata": {},
   "outputs": [
    {
     "name": "stdout",
     "output_type": "stream",
     "text": [
      "CPU times: total: 29.3 s\n",
      "Wall time: 29.6 s\n"
     ]
    },
    {
     "data": {
      "text/plain": [
       "GridSearchCV(cv=5,\n",
       "             estimator=Pipeline(steps=[('forest',\n",
       "                                        RandomForestRegressor(random_state=37))]),\n",
       "             param_grid=[{'forest__criterion': ['squared_error',\n",
       "                                                'absolute_error'],\n",
       "                          'forest__max_features': ['sqrt', 'log2'],\n",
       "                          'forest__n_estimators': [90, 91, 92, 93, 94, 95, 96,\n",
       "                                                   97, 98, 99, 100, 101, 102,\n",
       "                                                   103, 104, 105, 106, 107, 108,\n",
       "                                                   109]}],\n",
       "             return_train_score=True)"
      ]
     },
     "execution_count": 626,
     "metadata": {},
     "output_type": "execute_result"
    }
   ],
   "source": [
    "%%time\n",
    "search.fit(X_train, y_train)"
   ]
  },
  {
   "cell_type": "code",
   "execution_count": 627,
   "metadata": {},
   "outputs": [
    {
     "data": {
      "text/plain": [
       "{'forest__criterion': 'absolute_error',\n",
       " 'forest__max_features': 'sqrt',\n",
       " 'forest__n_estimators': 92}"
      ]
     },
     "execution_count": 627,
     "metadata": {},
     "output_type": "execute_result"
    }
   ],
   "source": [
    "search.best_params_"
   ]
  },
  {
   "cell_type": "code",
   "execution_count": 628,
   "metadata": {},
   "outputs": [
    {
     "data": {
      "text/plain": [
       "Pipeline(steps=[('forest',\n",
       "                 RandomForestRegressor(criterion='absolute_error',\n",
       "                                       max_features='sqrt', n_estimators=92,\n",
       "                                       random_state=37))])"
      ]
     },
     "execution_count": 628,
     "metadata": {},
     "output_type": "execute_result"
    }
   ],
   "source": [
    "search.best_estimator_"
   ]
  },
  {
   "cell_type": "code",
   "execution_count": 629,
   "metadata": {},
   "outputs": [
    {
     "name": "stdout",
     "output_type": "stream",
     "text": [
      "r2: 0.46879293805140554    MSE: 11.080123990120613\n"
     ]
    }
   ],
   "source": [
    "y_pred = search.predict(X_test)\n",
    "\n",
    "r2_score = forrest_model_reg.score(X_test, y_test)\n",
    "mse = mean_squared_error(y_test, y_pred)\n",
    "print(f'r2: {r2_score}    MSE: {mse}')"
   ]
  },
  {
   "cell_type": "code",
   "execution_count": 630,
   "metadata": {},
   "outputs": [
    {
     "name": "stdout",
     "output_type": "stream",
     "text": [
      "    Mean Absolute Error: 2.15 degrees.\n",
      "    Accuracy: 88.39 %.\n"
     ]
    },
    {
     "data": {
      "text/plain": [
       "(88.39, 2.15)"
      ]
     },
     "execution_count": 630,
     "metadata": {},
     "output_type": "execute_result"
    }
   ],
   "source": [
    "print_results(y_pred, y_test)"
   ]
  },
  {
   "cell_type": "code",
   "execution_count": 631,
   "metadata": {},
   "outputs": [
    {
     "name": "stdout",
     "output_type": "stream",
     "text": [
      "    Mean Absolute Error: 2.15 degrees.\n",
      "    Accuracy: 88.39 %.\n"
     ]
    },
    {
     "data": {
      "text/plain": [
       "(88.39, 2.15)"
      ]
     },
     "execution_count": 631,
     "metadata": {},
     "output_type": "execute_result"
    }
   ],
   "source": [
    "forrest_model_reg = RandomForestRegressor(n_estimators = 92,criterion='absolute_error',max_features= 'sqrt', random_state=37)\n",
    "forrest_model_reg.fit(X_train, y_train)\n",
    "\n",
    "forrest_predictions = forrest_model_reg.predict(X_test)\n",
    "print_results(forrest_predictions, y_test)"
   ]
  },
  {
   "cell_type": "code",
   "execution_count": 632,
   "metadata": {},
   "outputs": [
    {
     "data": {
      "text/plain": [
       "<matplotlib.collections.PathCollection at 0x21d81b22b30>"
      ]
     },
     "execution_count": 632,
     "metadata": {},
     "output_type": "execute_result"
    },
    {
     "data": {
      "image/png": "[encoded data removed]",
      "text/plain": [
       "<Figure size 432x288 with 1 Axes>"
      ]
     },
     "metadata": {
      "needs_background": "light"
     },
     "output_type": "display_data"
    }
   ],
   "source": [
    "plt.scatter(y_test, y_test, c='red', alpha=0.5)\n",
    "plt.scatter(y_test, forrest_predictions, c='blue', alpha=0.5)"
   ]
  },
  {
   "cell_type": "code",
   "execution_count": 633,
   "metadata": {},
   "outputs": [],
   "source": [
    "rf_LoadedTime = save_accuracy(forrest_predictions, y_test)"
   ]
  },
  {
   "cell_type": "markdown",
   "metadata": {},
   "source": [
    "# Esparsidade de dados"
   ]
  },
  {
   "cell_type": "markdown",
   "metadata": {},
   "source": [
    "## Remoção de colunas inteiras"
   ]
  },
  {
   "cell_type": "code",
   "execution_count": 634,
   "metadata": {},
   "outputs": [],
   "source": [
    "df_SparseColumns = pathsAndLinksDf"
   ]
  },
  {
   "cell_type": "code",
   "execution_count": 635,
   "metadata": {},
   "outputs": [],
   "source": [
    "df_SparseColumns = df_SparseColumns.drop(['DestZoneNo', 'Path_UnloadedTime', 'Path_UnloadedSpeed', 'Links_Count', 'Links_MaxOfCars', 'Links_AvgOfCars', 'Links_MinLoadedSpeed', 'Links_MaxLoadedSpeed', 'Links_AvgLoadedSpeed', 'Links_MinUnloadedTime', 'Links_MaxUnloadedTime', 'Links_SumUnloadedTime', 'Links_MinLoadedTime', 'Links_MaxLoadedTime', 'Links_AvgLoadedTime', 'Links_SumLoadedTime'], axis=1)"
   ]
  },
  {
   "cell_type": "code",
   "execution_count": 636,
   "metadata": {},
   "outputs": [
    {
     "data": {
      "text/html": [
       "<div>\n",
       "<style scoped>\n",
       "    .dataframe tbody tr th:only-of-type {\n",
       "        vertical-align: middle;\n",
       "    }\n",
       "\n",
       "    .dataframe tbody tr th {\n",
       "        vertical-align: top;\n",
       "    }\n",
       "\n",
       "    .dataframe thead th {\n",
       "        text-align: right;\n",
       "    }\n",
       "</style>\n",
       "<table border=\"1\" class=\"dataframe\">\n",
       "  <thead>\n",
       "    <tr style=\"text-align: right;\">\n",
       "      <th></th>\n",
       "      <th>Path_LoadedTime</th>\n",
       "      <th>Path_LoadedSpeed</th>\n",
       "      <th>Links_MinCarCapacity</th>\n",
       "      <th>Links_MaxCarCapacity</th>\n",
       "      <th>Links_AvgCarCapacity</th>\n",
       "      <th>Links_SumCarCapacity</th>\n",
       "      <th>Links_MinLength</th>\n",
       "      <th>Links_MaxLength</th>\n",
       "      <th>Links_AvgLength</th>\n",
       "      <th>Links_SumLength</th>\n",
       "      <th>Links_MinOfCars</th>\n",
       "      <th>Links_SumOfCars</th>\n",
       "      <th>Links_AvgUnloadedTime</th>\n",
       "    </tr>\n",
       "  </thead>\n",
       "  <tbody>\n",
       "    <tr>\n",
       "      <th>0</th>\n",
       "      <td>3.10</td>\n",
       "      <td>27</td>\n",
       "      <td>500</td>\n",
       "      <td>800</td>\n",
       "      <td>600</td>\n",
       "      <td>1800</td>\n",
       "      <td>0.066</td>\n",
       "      <td>0.167</td>\n",
       "      <td>0.111</td>\n",
       "      <td>0.332</td>\n",
       "      <td>179</td>\n",
       "      <td>702</td>\n",
       "      <td>13</td>\n",
       "    </tr>\n",
       "    <tr>\n",
       "      <th>1</th>\n",
       "      <td>3.10</td>\n",
       "      <td>27</td>\n",
       "      <td>500</td>\n",
       "      <td>800</td>\n",
       "      <td>600</td>\n",
       "      <td>1800</td>\n",
       "      <td>0.055</td>\n",
       "      <td>0.327</td>\n",
       "      <td>0.183</td>\n",
       "      <td>0.549</td>\n",
       "      <td>221</td>\n",
       "      <td>713</td>\n",
       "      <td>22</td>\n",
       "    </tr>\n",
       "    <tr>\n",
       "      <th>2</th>\n",
       "      <td>2.22</td>\n",
       "      <td>32</td>\n",
       "      <td>500</td>\n",
       "      <td>800</td>\n",
       "      <td>600</td>\n",
       "      <td>1800</td>\n",
       "      <td>0.090</td>\n",
       "      <td>0.252</td>\n",
       "      <td>0.171</td>\n",
       "      <td>0.513</td>\n",
       "      <td>271</td>\n",
       "      <td>856</td>\n",
       "      <td>21</td>\n",
       "    </tr>\n",
       "    <tr>\n",
       "      <th>3</th>\n",
       "      <td>3.32</td>\n",
       "      <td>26</td>\n",
       "      <td>500</td>\n",
       "      <td>2000</td>\n",
       "      <td>971</td>\n",
       "      <td>6800</td>\n",
       "      <td>0.051</td>\n",
       "      <td>0.183</td>\n",
       "      <td>0.120</td>\n",
       "      <td>0.840</td>\n",
       "      <td>76</td>\n",
       "      <td>2137</td>\n",
       "      <td>14</td>\n",
       "    </tr>\n",
       "    <tr>\n",
       "      <th>4</th>\n",
       "      <td>3.32</td>\n",
       "      <td>27</td>\n",
       "      <td>500</td>\n",
       "      <td>2000</td>\n",
       "      <td>860</td>\n",
       "      <td>4300</td>\n",
       "      <td>0.051</td>\n",
       "      <td>0.379</td>\n",
       "      <td>0.193</td>\n",
       "      <td>0.967</td>\n",
       "      <td>143</td>\n",
       "      <td>1718</td>\n",
       "      <td>23</td>\n",
       "    </tr>\n",
       "    <tr>\n",
       "      <th>...</th>\n",
       "      <td>...</td>\n",
       "      <td>...</td>\n",
       "      <td>...</td>\n",
       "      <td>...</td>\n",
       "      <td>...</td>\n",
       "      <td>...</td>\n",
       "      <td>...</td>\n",
       "      <td>...</td>\n",
       "      <td>...</td>\n",
       "      <td>...</td>\n",
       "      <td>...</td>\n",
       "      <td>...</td>\n",
       "      <td>...</td>\n",
       "    </tr>\n",
       "    <tr>\n",
       "      <th>134</th>\n",
       "      <td>15.18</td>\n",
       "      <td>39</td>\n",
       "      <td>500</td>\n",
       "      <td>4200</td>\n",
       "      <td>2288</td>\n",
       "      <td>77800</td>\n",
       "      <td>0.016</td>\n",
       "      <td>1.062</td>\n",
       "      <td>0.263</td>\n",
       "      <td>8.927</td>\n",
       "      <td>59</td>\n",
       "      <td>52458</td>\n",
       "      <td>17</td>\n",
       "    </tr>\n",
       "    <tr>\n",
       "      <th>135</th>\n",
       "      <td>9.54</td>\n",
       "      <td>19</td>\n",
       "      <td>500</td>\n",
       "      <td>4200</td>\n",
       "      <td>1918</td>\n",
       "      <td>32600</td>\n",
       "      <td>0.007</td>\n",
       "      <td>0.658</td>\n",
       "      <td>0.159</td>\n",
       "      <td>2.704</td>\n",
       "      <td>6</td>\n",
       "      <td>31988</td>\n",
       "      <td>14</td>\n",
       "    </tr>\n",
       "    <tr>\n",
       "      <th>136</th>\n",
       "      <td>9.53</td>\n",
       "      <td>21</td>\n",
       "      <td>500</td>\n",
       "      <td>4200</td>\n",
       "      <td>1555</td>\n",
       "      <td>31100</td>\n",
       "      <td>0.007</td>\n",
       "      <td>0.658</td>\n",
       "      <td>0.140</td>\n",
       "      <td>2.807</td>\n",
       "      <td>6</td>\n",
       "      <td>30513</td>\n",
       "      <td>13</td>\n",
       "    </tr>\n",
       "    <tr>\n",
       "      <th>137</th>\n",
       "      <td>10.33</td>\n",
       "      <td>25</td>\n",
       "      <td>500</td>\n",
       "      <td>4200</td>\n",
       "      <td>2609</td>\n",
       "      <td>57400</td>\n",
       "      <td>0.019</td>\n",
       "      <td>0.493</td>\n",
       "      <td>0.171</td>\n",
       "      <td>3.759</td>\n",
       "      <td>6</td>\n",
       "      <td>47133</td>\n",
       "      <td>12</td>\n",
       "    </tr>\n",
       "    <tr>\n",
       "      <th>138</th>\n",
       "      <td>27.90</td>\n",
       "      <td>26</td>\n",
       "      <td>500</td>\n",
       "      <td>4200</td>\n",
       "      <td>1451</td>\n",
       "      <td>53700</td>\n",
       "      <td>0.010</td>\n",
       "      <td>1.358</td>\n",
       "      <td>0.309</td>\n",
       "      <td>11.429</td>\n",
       "      <td>23</td>\n",
       "      <td>40614</td>\n",
       "      <td>24</td>\n",
       "    </tr>\n",
       "  </tbody>\n",
       "</table>\n",
       "<p>139 rows × 13 columns</p>\n",
       "</div>"
      ],
      "text/plain": [
       "     Path_LoadedTime  Path_LoadedSpeed  Links_MinCarCapacity  \\\n",
       "0               3.10                27                   500   \n",
       "1               3.10                27                   500   \n",
       "2               2.22                32                   500   \n",
       "3               3.32                26                   500   \n",
       "4               3.32                27                   500   \n",
       "..               ...               ...                   ...   \n",
       "134            15.18                39                   500   \n",
       "135             9.54                19                   500   \n",
       "136             9.53                21                   500   \n",
       "137            10.33                25                   500   \n",
       "138            27.90                26                   500   \n",
       "\n",
       "     Links_MaxCarCapacity  Links_AvgCarCapacity  Links_SumCarCapacity  \\\n",
       "0                     800                   600                  1800   \n",
       "1                     800                   600                  1800   \n",
       "2                     800                   600                  1800   \n",
       "3                    2000                   971                  6800   \n",
       "4                    2000                   860                  4300   \n",
       "..                    ...                   ...                   ...   \n",
       "134                  4200                  2288                 77800   \n",
       "135                  4200                  1918                 32600   \n",
       "136                  4200                  1555                 31100   \n",
       "137                  4200                  2609                 57400   \n",
       "138                  4200                  1451                 53700   \n",
       "\n",
       "     Links_MinLength  Links_MaxLength  Links_AvgLength  Links_SumLength  \\\n",
       "0              0.066            0.167            0.111            0.332   \n",
       "1              0.055            0.327            0.183            0.549   \n",
       "2              0.090            0.252            0.171            0.513   \n",
       "3              0.051            0.183            0.120            0.840   \n",
       "4              0.051            0.379            0.193            0.967   \n",
       "..               ...              ...              ...              ...   \n",
       "134            0.016            1.062            0.263            8.927   \n",
       "135            0.007            0.658            0.159            2.704   \n",
       "136            0.007            0.658            0.140            2.807   \n",
       "137            0.019            0.493            0.171            3.759   \n",
       "138            0.010            1.358            0.309           11.429   \n",
       "\n",
       "     Links_MinOfCars  Links_SumOfCars  Links_AvgUnloadedTime  \n",
       "0                179              702                     13  \n",
       "1                221              713                     22  \n",
       "2                271              856                     21  \n",
       "3                 76             2137                     14  \n",
       "4                143             1718                     23  \n",
       "..               ...              ...                    ...  \n",
       "134               59            52458                     17  \n",
       "135                6            31988                     14  \n",
       "136                6            30513                     13  \n",
       "137                6            47133                     12  \n",
       "138               23            40614                     24  \n",
       "\n",
       "[139 rows x 13 columns]"
      ]
     },
     "execution_count": 636,
     "metadata": {},
     "output_type": "execute_result"
    }
   ],
   "source": [
    "df_SparseColumns"
   ]
  },
  {
   "cell_type": "markdown",
   "metadata": {},
   "source": [
    "### Y = Links_SumOfCars (colunas removidas)"
   ]
  },
  {
   "cell_type": "code",
   "execution_count": 637,
   "metadata": {},
   "outputs": [],
   "source": [
    "df_SparseColumn_SumOfCars = df_SparseColumns"
   ]
  },
  {
   "cell_type": "code",
   "execution_count": 638,
   "metadata": {},
   "outputs": [],
   "source": [
    "y = np.array(df_SparseColumn_SumOfCars['Links_SumOfCars'])\n",
    "X = df_SparseColumn_SumOfCars.drop('Links_SumOfCars', axis = 1)\n",
    "x_names = list(X.columns)\n",
    "X = np.array(X)"
   ]
  },
  {
   "cell_type": "code",
   "execution_count": 639,
   "metadata": {},
   "outputs": [],
   "source": [
    "tscv = TimeSeriesSplit(n_splits=2)\n",
    "for train_index, test_index in tscv.split(X):\n",
    "    X_train, X_test = X[train_index], X[test_index]\n",
    "    y_train, y_test = y[train_index], y[test_index]"
   ]
  },
  {
   "cell_type": "markdown",
   "metadata": {},
   "source": [
    "#### Decision Tree Regressor Pipeline (Links_SumOfCars com colunas removidas)"
   ]
  },
  {
   "cell_type": "code",
   "execution_count": 640,
   "metadata": {},
   "outputs": [
    {
     "data": {
      "text/plain": [
       "DecisionTreeRegressor(random_state=42)"
      ]
     },
     "execution_count": 640,
     "metadata": {},
     "output_type": "execute_result"
    }
   ],
   "source": [
    "DT_regressor = DecisionTreeRegressor(random_state=42)\n",
    "DT_regressor.fit(X_train, y_train)"
   ]
  },
  {
   "cell_type": "code",
   "execution_count": 641,
   "metadata": {},
   "outputs": [],
   "source": [
    "search_paramns = [\n",
    "    dict(dec_tree__criterion=[\"squared_error\", \"friedman_mse\", \"absolute_error\", \"poisson\"],\n",
    "         dec_tree__max_depth=list(range(10,100,15)),\n",
    "            dec_tree__max_features=[\"auto\",\"sqrt\", \"log2\"])\n",
    "]\n",
    "\n",
    "pipe = Pipeline([\n",
    "    ('dec_tree', DT_regressor)\n",
    "])\n",
    "\n",
    "search = GridSearchCV(estimator=pipe,\n",
    "                     param_grid=search_paramns,\n",
    "                     cv=tscv,\n",
    "                     return_train_score=True)\n",
    "\n",
    "X_train, X_test, y_train, y_test = train_test_split(X, y, test_size=0.3, shuffle=False)"
   ]
  },
  {
   "cell_type": "code",
   "execution_count": 642,
   "metadata": {},
   "outputs": [
    {
     "name": "stdout",
     "output_type": "stream",
     "text": [
      "CPU times: total: 156 ms\n",
      "Wall time: 167 ms\n"
     ]
    },
    {
     "data": {
      "text/plain": [
       "GridSearchCV(cv=TimeSeriesSplit(gap=0, max_train_size=None, n_splits=2, test_size=None),\n",
       "             estimator=Pipeline(steps=[('dec_tree',\n",
       "                                        DecisionTreeRegressor(random_state=42))]),\n",
       "             param_grid=[{'dec_tree__criterion': ['squared_error',\n",
       "                                                  'friedman_mse',\n",
       "                                                  'absolute_error', 'poisson'],\n",
       "                          'dec_tree__max_depth': [10, 25, 40, 55, 70, 85],\n",
       "                          'dec_tree__max_features': ['auto', 'sqrt', 'log2']}],\n",
       "             return_train_score=True)"
      ]
     },
     "execution_count": 642,
     "metadata": {},
     "output_type": "execute_result"
    }
   ],
   "source": [
    "%%time\n",
    "search.fit(X_train, y_train)"
   ]
  },
  {
   "cell_type": "code",
   "execution_count": 643,
   "metadata": {},
   "outputs": [
    {
     "data": {
      "text/plain": [
       "{'dec_tree__criterion': 'squared_error',\n",
       " 'dec_tree__max_depth': 10,\n",
       " 'dec_tree__max_features': 'auto'}"
      ]
     },
     "execution_count": 643,
     "metadata": {},
     "output_type": "execute_result"
    }
   ],
   "source": [
    "search.best_params_"
   ]
  },
  {
   "cell_type": "code",
   "execution_count": 644,
   "metadata": {},
   "outputs": [
    {
     "data": {
      "text/plain": [
       "Pipeline(steps=[('dec_tree',\n",
       "                 DecisionTreeRegressor(max_depth=10, max_features='auto',\n",
       "                                       random_state=42))])"
      ]
     },
     "execution_count": 644,
     "metadata": {},
     "output_type": "execute_result"
    }
   ],
   "source": [
    "search.best_estimator_\n"
   ]
  },
  {
   "cell_type": "code",
   "execution_count": 645,
   "metadata": {},
   "outputs": [
    {
     "name": "stdout",
     "output_type": "stream",
     "text": [
      "r2: 0.3021334564816728    MSE: 121861695.04761904\n"
     ]
    }
   ],
   "source": [
    "y_pred = search.predict(X_test)\n",
    "\n",
    "r2_score = DT_regressor.score(X_test, y_test)\n",
    "mse = mean_squared_error(y_test, y_pred)\n",
    "print(f'r2: {r2_score}    MSE: {mse}')"
   ]
  },
  {
   "cell_type": "code",
   "execution_count": 646,
   "metadata": {},
   "outputs": [
    {
     "name": "stdout",
     "output_type": "stream",
     "text": [
      "    Mean Absolute Error: 9601.67 degrees.\n",
      "    Accuracy: 74.41 %.\n"
     ]
    },
    {
     "data": {
      "text/plain": [
       "(74.41, 9601.67)"
      ]
     },
     "execution_count": 646,
     "metadata": {},
     "output_type": "execute_result"
    }
   ],
   "source": [
    "print_results(y_pred, y_test)"
   ]
  },
  {
   "cell_type": "code",
   "execution_count": 647,
   "metadata": {},
   "outputs": [
    {
     "data": {
      "text/plain": [
       "<matplotlib.collections.PathCollection at 0x21d81ba7490>"
      ]
     },
     "execution_count": 647,
     "metadata": {},
     "output_type": "execute_result"
    },
    {
     "data": {
      "image/png": "[encoded data removed]",
      "text/plain": [
       "<Figure size 432x288 with 1 Axes>"
      ]
     },
     "metadata": {
      "needs_background": "light"
     },
     "output_type": "display_data"
    }
   ],
   "source": [
    "plt.scatter(y_test, y_test, c='red', alpha=0.5)\n",
    "plt.scatter(y_test, y_pred, c='blue', alpha=0.5)"
   ]
  },
  {
   "cell_type": "markdown",
   "metadata": {},
   "source": [
    "#### Random Forest Pipeline (Links_SumOfCars com colunas removidas)"
   ]
  },
  {
   "cell_type": "code",
   "execution_count": 648,
   "metadata": {},
   "outputs": [
    {
     "data": {
      "text/plain": [
       "RandomForestRegressor(random_state=37)"
      ]
     },
     "execution_count": 648,
     "metadata": {},
     "output_type": "execute_result"
    }
   ],
   "source": [
    "forrest_model_reg = RandomForestRegressor(random_state=37)\n",
    "forrest_model_reg.fit(X_train, y_train)"
   ]
  },
  {
   "cell_type": "code",
   "execution_count": 649,
   "metadata": {},
   "outputs": [],
   "source": [
    "search_paramns = [{\n",
    "    'forest__criterion': [\"squared_error\", \"absolute_error\"],\n",
    "    'forest__n_estimators': list(range(1, 20, 1)), \n",
    "    'forest__max_features': [\"sqrt\", \"log2\"]\n",
    "}]\n",
    "\n",
    "pipe = Pipeline([\n",
    "    ('forest', forrest_model_reg)\n",
    "])\n",
    "\n",
    "search = GridSearchCV(estimator=pipe,\n",
    "                     param_grid=search_paramns,\n",
    "                     cv=5,\n",
    "                     return_train_score=True)\n",
    "\n",
    "X_train, X_test, y_train, y_test = train_test_split(X, y, test_size=0.3, shuffle=False)"
   ]
  },
  {
   "cell_type": "code",
   "execution_count": 650,
   "metadata": {},
   "outputs": [
    {
     "name": "stdout",
     "output_type": "stream",
     "text": [
      "CPU times: total: 3.17 s\n",
      "Wall time: 3.2 s\n"
     ]
    },
    {
     "data": {
      "text/plain": [
       "GridSearchCV(cv=5,\n",
       "             estimator=Pipeline(steps=[('forest',\n",
       "                                        RandomForestRegressor(random_state=37))]),\n",
       "             param_grid=[{'forest__criterion': ['squared_error',\n",
       "                                                'absolute_error'],\n",
       "                          'forest__max_features': ['sqrt', 'log2'],\n",
       "                          'forest__n_estimators': [1, 2, 3, 4, 5, 6, 7, 8, 9,\n",
       "                                                   10, 11, 12, 13, 14, 15, 16,\n",
       "                                                   17, 18, 19]}],\n",
       "             return_train_score=True)"
      ]
     },
     "execution_count": 650,
     "metadata": {},
     "output_type": "execute_result"
    }
   ],
   "source": [
    "%%time\n",
    "search.fit(X_train, y_train)"
   ]
  },
  {
   "cell_type": "code",
   "execution_count": 651,
   "metadata": {},
   "outputs": [
    {
     "data": {
      "text/plain": [
       "{'forest__criterion': 'absolute_error',\n",
       " 'forest__max_features': 'sqrt',\n",
       " 'forest__n_estimators': 13}"
      ]
     },
     "execution_count": 651,
     "metadata": {},
     "output_type": "execute_result"
    }
   ],
   "source": [
    "search.best_params_"
   ]
  },
  {
   "cell_type": "code",
   "execution_count": 652,
   "metadata": {},
   "outputs": [
    {
     "data": {
      "text/plain": [
       "Pipeline(steps=[('forest',\n",
       "                 RandomForestRegressor(criterion='absolute_error',\n",
       "                                       max_features='sqrt', n_estimators=13,\n",
       "                                       random_state=37))])"
      ]
     },
     "execution_count": 652,
     "metadata": {},
     "output_type": "execute_result"
    }
   ],
   "source": [
    "search.best_estimator_"
   ]
  },
  {
   "cell_type": "code",
   "execution_count": 653,
   "metadata": {},
   "outputs": [
    {
     "name": "stdout",
     "output_type": "stream",
     "text": [
      "r2: 0.591809809504228    MSE: 16923573.772189353\n"
     ]
    }
   ],
   "source": [
    "y_pred = search.predict(X_test)\n",
    "\n",
    "r2_score = forrest_model_reg.score(X_test, y_test)\n",
    "mse = mean_squared_error(y_test, y_pred)\n",
    "print(f'r2: {r2_score}    MSE: {mse}')"
   ]
  },
  {
   "cell_type": "code",
   "execution_count": 654,
   "metadata": {},
   "outputs": [
    {
     "name": "stdout",
     "output_type": "stream",
     "text": [
      "    Mean Absolute Error: 3621.19 degrees.\n",
      "    Accuracy: 89.2 %.\n"
     ]
    },
    {
     "data": {
      "text/plain": [
       "(89.2, 3621.19)"
      ]
     },
     "execution_count": 654,
     "metadata": {},
     "output_type": "execute_result"
    }
   ],
   "source": [
    "print_results(y_pred, y_test)"
   ]
  },
  {
   "cell_type": "code",
   "execution_count": 655,
   "metadata": {},
   "outputs": [
    {
     "name": "stdout",
     "output_type": "stream",
     "text": [
      "    Mean Absolute Error: 3621.19 degrees.\n",
      "    Accuracy: 89.2 %.\n"
     ]
    },
    {
     "data": {
      "text/plain": [
       "(89.2, 3621.19)"
      ]
     },
     "execution_count": 655,
     "metadata": {},
     "output_type": "execute_result"
    }
   ],
   "source": [
    "forrest_model_reg = RandomForestRegressor(n_estimators = 13,criterion='absolute_error',max_features= 'sqrt', random_state=37)\n",
    "forrest_model_reg.fit(X_train, y_train)\n",
    "\n",
    "forrest_predictions = forrest_model_reg.predict(X_test)\n",
    "print_results(forrest_predictions, y_test)"
   ]
  },
  {
   "cell_type": "code",
   "execution_count": 656,
   "metadata": {},
   "outputs": [
    {
     "data": {
      "text/plain": [
       "<matplotlib.collections.PathCollection at 0x21d81be5ab0>"
      ]
     },
     "execution_count": 656,
     "metadata": {},
     "output_type": "execute_result"
    },
    {
     "data": {
      "image/png": "[encoded data removed]",
      "text/plain": [
       "<Figure size 432x288 with 1 Axes>"
      ]
     },
     "metadata": {
      "needs_background": "light"
     },
     "output_type": "display_data"
    }
   ],
   "source": [
    "plt.scatter(y_test, y_test, c='red', alpha=0.5)\n",
    "plt.scatter(y_test, forrest_predictions, c='blue', alpha=0.5)"
   ]
  },
  {
   "cell_type": "code",
   "execution_count": 657,
   "metadata": {},
   "outputs": [],
   "source": [
    "rf_SumOfCars_LessColumn = save_accuracy(forrest_predictions, y_test)"
   ]
  },
  {
   "cell_type": "markdown",
   "metadata": {},
   "source": [
    "### Y = Path_LoadedSpeed (colunas removidas)"
   ]
  },
  {
   "cell_type": "code",
   "execution_count": 658,
   "metadata": {},
   "outputs": [],
   "source": [
    "df_SparseColumn_LoadedSpeed = df_SparseColumns"
   ]
  },
  {
   "cell_type": "code",
   "execution_count": 659,
   "metadata": {},
   "outputs": [],
   "source": [
    "y = np.array(df_SparseColumn_LoadedSpeed ['Path_LoadedSpeed'])\n",
    "X = df_SparseColumn_LoadedSpeed .drop('Path_LoadedSpeed', axis = 1)\n",
    "x_names = list(X.columns)\n",
    "X = np.array(X)"
   ]
  },
  {
   "cell_type": "code",
   "execution_count": 660,
   "metadata": {},
   "outputs": [],
   "source": [
    "tscv = TimeSeriesSplit(n_splits=2)\n",
    "for train_index, test_index in tscv.split(X):\n",
    "    X_train, X_test = X[train_index], X[test_index]\n",
    "    y_train, y_test = y[train_index], y[test_index]"
   ]
  },
  {
   "cell_type": "markdown",
   "metadata": {},
   "source": [
    "#### Decision Tree Regressor Pipeline (Path_LoadedSpeed colunas removidas)"
   ]
  },
  {
   "cell_type": "code",
   "execution_count": 661,
   "metadata": {},
   "outputs": [
    {
     "data": {
      "text/plain": [
       "DecisionTreeRegressor(random_state=42)"
      ]
     },
     "execution_count": 661,
     "metadata": {},
     "output_type": "execute_result"
    }
   ],
   "source": [
    "DT_regressor = DecisionTreeRegressor(random_state=42)\n",
    "DT_regressor.fit(X_train, y_train)"
   ]
  },
  {
   "cell_type": "code",
   "execution_count": 662,
   "metadata": {},
   "outputs": [],
   "source": [
    "search_paramns = [\n",
    "    dict(dec_tree__criterion=[\"squared_error\", \"friedman_mse\", \"absolute_error\", \"poisson\"],\n",
    "         dec_tree__max_depth=list(range(10,200,50)),\n",
    "            dec_tree__max_features=[\"auto\",\"sqrt\", \"log2\"])\n",
    "]\n",
    "\n",
    "pipe = Pipeline([\n",
    "    ('dec_tree', DT_regressor)\n",
    "])\n",
    "\n",
    "search = GridSearchCV(estimator=pipe,\n",
    "                     param_grid=search_paramns,\n",
    "                     cv=tscv,\n",
    "                     return_train_score=True)\n",
    "\n",
    "X_train, X_test, y_train, y_test = train_test_split(X, y, test_size=0.3, shuffle=False)"
   ]
  },
  {
   "cell_type": "code",
   "execution_count": 663,
   "metadata": {},
   "outputs": [
    {
     "name": "stdout",
     "output_type": "stream",
     "text": [
      "CPU times: total: 93.8 ms\n",
      "Wall time: 111 ms\n"
     ]
    },
    {
     "data": {
      "text/plain": [
       "GridSearchCV(cv=TimeSeriesSplit(gap=0, max_train_size=None, n_splits=2, test_size=None),\n",
       "             estimator=Pipeline(steps=[('dec_tree',\n",
       "                                        DecisionTreeRegressor(random_state=42))]),\n",
       "             param_grid=[{'dec_tree__criterion': ['squared_error',\n",
       "                                                  'friedman_mse',\n",
       "                                                  'absolute_error', 'poisson'],\n",
       "                          'dec_tree__max_depth': [10, 60, 110, 160],\n",
       "                          'dec_tree__max_features': ['auto', 'sqrt', 'log2']}],\n",
       "             return_train_score=True)"
      ]
     },
     "execution_count": 663,
     "metadata": {},
     "output_type": "execute_result"
    }
   ],
   "source": [
    "%%time\n",
    "search.fit(X_train, y_train)"
   ]
  },
  {
   "cell_type": "code",
   "execution_count": 664,
   "metadata": {},
   "outputs": [
    {
     "data": {
      "text/plain": [
       "{'dec_tree__criterion': 'absolute_error',\n",
       " 'dec_tree__max_depth': 10,\n",
       " 'dec_tree__max_features': 'sqrt'}"
      ]
     },
     "execution_count": 664,
     "metadata": {},
     "output_type": "execute_result"
    }
   ],
   "source": [
    "search.best_params_"
   ]
  },
  {
   "cell_type": "code",
   "execution_count": 665,
   "metadata": {},
   "outputs": [
    {
     "data": {
      "text/plain": [
       "Pipeline(steps=[('dec_tree',\n",
       "                 DecisionTreeRegressor(criterion='absolute_error', max_depth=10,\n",
       "                                       max_features='sqrt', random_state=42))])"
      ]
     },
     "execution_count": 665,
     "metadata": {},
     "output_type": "execute_result"
    }
   ],
   "source": [
    "search.best_estimator_"
   ]
  },
  {
   "cell_type": "code",
   "execution_count": 666,
   "metadata": {},
   "outputs": [
    {
     "name": "stdout",
     "output_type": "stream",
     "text": [
      "r2: 0.36715328467153285    MSE: 23.69047619047619\n"
     ]
    }
   ],
   "source": [
    "y_pred = search.predict(X_test)\n",
    "\n",
    "r2_score = DT_regressor.score(X_test, y_test)\n",
    "mse = mean_squared_error(y_test, y_pred)\n",
    "print(f'r2: {r2_score}    MSE: {mse}')"
   ]
  },
  {
   "cell_type": "code",
   "execution_count": 667,
   "metadata": {},
   "outputs": [
    {
     "name": "stdout",
     "output_type": "stream",
     "text": [
      "    Mean Absolute Error: 3.74 degrees.\n",
      "    Accuracy: 85.89 %.\n"
     ]
    },
    {
     "data": {
      "text/plain": [
       "(85.89, 3.74)"
      ]
     },
     "execution_count": 667,
     "metadata": {},
     "output_type": "execute_result"
    }
   ],
   "source": [
    "print_results(y_pred, y_test)"
   ]
  },
  {
   "cell_type": "code",
   "execution_count": 668,
   "metadata": {},
   "outputs": [
    {
     "data": {
      "text/plain": [
       "<matplotlib.collections.PathCollection at 0x21d81c899c0>"
      ]
     },
     "execution_count": 668,
     "metadata": {},
     "output_type": "execute_result"
    },
    {
     "data": {
      "image/png": "[encoded data removed]",
      "text/plain": [
       "<Figure size 432x288 with 1 Axes>"
      ]
     },
     "metadata": {
      "needs_background": "light"
     },
     "output_type": "display_data"
    }
   ],
   "source": [
    "plt.scatter(y_test, y_test, c='red', alpha=0.5)\n",
    "plt.scatter(y_test, y_pred, c='blue', alpha=0.5)"
   ]
  },
  {
   "cell_type": "markdown",
   "metadata": {},
   "source": [
    "#### Random Forest Pipeline (Path_LoadedSpeed colunas removidas)"
   ]
  },
  {
   "cell_type": "code",
   "execution_count": 669,
   "metadata": {},
   "outputs": [
    {
     "data": {
      "text/plain": [
       "RandomForestRegressor(random_state=37)"
      ]
     },
     "execution_count": 669,
     "metadata": {},
     "output_type": "execute_result"
    }
   ],
   "source": [
    "forrest_model_reg = RandomForestRegressor(random_state=37)\n",
    "forrest_model_reg.fit(X_train, y_train)"
   ]
  },
  {
   "cell_type": "code",
   "execution_count": 670,
   "metadata": {},
   "outputs": [],
   "source": [
    "search_paramns = [{\n",
    "    'forest__criterion': [\"squared_error\", \"absolute_error\"],\n",
    "    'forest__n_estimators': list(range(10,200, 20)), \n",
    "    'forest__max_features': [\"sqrt\", \"log2\"]\n",
    "}]\n",
    "\n",
    "pipe = Pipeline([\n",
    "    ('forest', forrest_model_reg)\n",
    "])\n",
    "\n",
    "search = GridSearchCV(estimator=pipe,\n",
    "                     param_grid=search_paramns,\n",
    "                     cv=5,\n",
    "                     return_train_score=True)\n",
    "\n",
    "X_train, X_test, y_train, y_test = train_test_split(X, y, test_size=0.3, shuffle=False)"
   ]
  },
  {
   "cell_type": "code",
   "execution_count": 671,
   "metadata": {},
   "outputs": [
    {
     "name": "stdout",
     "output_type": "stream",
     "text": [
      "CPU times: total: 14.5 s\n",
      "Wall time: 14.6 s\n"
     ]
    },
    {
     "data": {
      "text/plain": [
       "GridSearchCV(cv=5,\n",
       "             estimator=Pipeline(steps=[('forest',\n",
       "                                        RandomForestRegressor(random_state=37))]),\n",
       "             param_grid=[{'forest__criterion': ['squared_error',\n",
       "                                                'absolute_error'],\n",
       "                          'forest__max_features': ['sqrt', 'log2'],\n",
       "                          'forest__n_estimators': [10, 30, 50, 70, 90, 110, 130,\n",
       "                                                   150, 170, 190]}],\n",
       "             return_train_score=True)"
      ]
     },
     "execution_count": 671,
     "metadata": {},
     "output_type": "execute_result"
    }
   ],
   "source": [
    "%%time\n",
    "search.fit(X_train, y_train)"
   ]
  },
  {
   "cell_type": "code",
   "execution_count": 672,
   "metadata": {},
   "outputs": [
    {
     "data": {
      "text/plain": [
       "{'forest__criterion': 'squared_error',\n",
       " 'forest__max_features': 'sqrt',\n",
       " 'forest__n_estimators': 30}"
      ]
     },
     "execution_count": 672,
     "metadata": {},
     "output_type": "execute_result"
    }
   ],
   "source": [
    "search.best_params_"
   ]
  },
  {
   "cell_type": "code",
   "execution_count": 673,
   "metadata": {},
   "outputs": [
    {
     "data": {
      "text/plain": [
       "Pipeline(steps=[('forest',\n",
       "                 RandomForestRegressor(max_features='sqrt', n_estimators=30,\n",
       "                                       random_state=37))])"
      ]
     },
     "execution_count": 673,
     "metadata": {},
     "output_type": "execute_result"
    }
   ],
   "source": [
    "search.best_estimator_"
   ]
  },
  {
   "cell_type": "code",
   "execution_count": 674,
   "metadata": {},
   "outputs": [
    {
     "name": "stdout",
     "output_type": "stream",
     "text": [
      "r2: 0.46240824817518245    MSE: 19.601798941798943\n"
     ]
    }
   ],
   "source": [
    "y_pred = search.predict(X_test)\n",
    "\n",
    "r2_score = forrest_model_reg.score(X_test, y_test)\n",
    "mse = mean_squared_error(y_test, y_pred)\n",
    "print(f'r2: {r2_score}    MSE: {mse}')"
   ]
  },
  {
   "cell_type": "code",
   "execution_count": 675,
   "metadata": {},
   "outputs": [
    {
     "name": "stdout",
     "output_type": "stream",
     "text": [
      "    Mean Absolute Error: 3.55 degrees.\n",
      "    Accuracy: 86.67 %.\n"
     ]
    },
    {
     "data": {
      "text/plain": [
       "(86.67, 3.55)"
      ]
     },
     "execution_count": 675,
     "metadata": {},
     "output_type": "execute_result"
    }
   ],
   "source": [
    "print_results(y_pred, y_test)"
   ]
  },
  {
   "cell_type": "code",
   "execution_count": 676,
   "metadata": {},
   "outputs": [
    {
     "name": "stdout",
     "output_type": "stream",
     "text": [
      "    Mean Absolute Error: 3.49 degrees.\n",
      "    Accuracy: 86.83 %.\n"
     ]
    },
    {
     "data": {
      "text/plain": [
       "(86.83, 3.49)"
      ]
     },
     "execution_count": 676,
     "metadata": {},
     "output_type": "execute_result"
    }
   ],
   "source": [
    "forrest_model_reg = RandomForestRegressor(n_estimators = 30,criterion='absolute_error',max_features= 'sqrt', random_state=37)\n",
    "forrest_model_reg.fit(X_train, y_train)\n",
    "\n",
    "forrest_predictions = forrest_model_reg.predict(X_test)\n",
    "print_results(forrest_predictions, y_test)"
   ]
  },
  {
   "cell_type": "code",
   "execution_count": 677,
   "metadata": {},
   "outputs": [
    {
     "data": {
      "text/plain": [
       "<matplotlib.collections.PathCollection at 0x21d81cf4070>"
      ]
     },
     "execution_count": 677,
     "metadata": {},
     "output_type": "execute_result"
    },
    {
     "data": {
      "image/png": "[encoded data removed]",
      "text/plain": [
       "<Figure size 432x288 with 1 Axes>"
      ]
     },
     "metadata": {
      "needs_background": "light"
     },
     "output_type": "display_data"
    }
   ],
   "source": [
    "plt.scatter(y_test, y_test, c='red', alpha=0.5)\n",
    "plt.scatter(y_test, forrest_predictions, c='blue', alpha=0.5)"
   ]
  },
  {
   "cell_type": "code",
   "execution_count": 678,
   "metadata": {},
   "outputs": [],
   "source": [
    "rf_LoadedSpeed_LessColumn = save_accuracy(forrest_predictions, y_test)"
   ]
  },
  {
   "cell_type": "markdown",
   "metadata": {},
   "source": [
    "### Y = Path_LoadedTime (colunas removidas)"
   ]
  },
  {
   "cell_type": "code",
   "execution_count": 679,
   "metadata": {},
   "outputs": [],
   "source": [
    "df_SparseColumn_LoadedTime = df_SparseColumns"
   ]
  },
  {
   "cell_type": "code",
   "execution_count": 680,
   "metadata": {},
   "outputs": [],
   "source": [
    "y = np.array(df_SparseColumn_LoadedTime ['Path_LoadedSpeed'])\n",
    "X = df_SparseColumn_LoadedTime .drop('Path_LoadedSpeed', axis = 1)\n",
    "x_names = list(X.columns)\n",
    "X = np.array(X)"
   ]
  },
  {
   "cell_type": "code",
   "execution_count": 681,
   "metadata": {},
   "outputs": [],
   "source": [
    "tscv = TimeSeriesSplit(n_splits=2)\n",
    "for train_index, test_index in tscv.split(X):\n",
    "    X_train, X_test = X[train_index], X[test_index]\n",
    "    y_train, y_test = y[train_index], y[test_index]"
   ]
  },
  {
   "cell_type": "markdown",
   "metadata": {},
   "source": [
    "#### Decision Tree Regressor Pipeline (Path_LoadedSpeed removidas)"
   ]
  },
  {
   "cell_type": "code",
   "execution_count": 682,
   "metadata": {},
   "outputs": [
    {
     "data": {
      "text/plain": [
       "DecisionTreeRegressor(random_state=42)"
      ]
     },
     "execution_count": 682,
     "metadata": {},
     "output_type": "execute_result"
    }
   ],
   "source": [
    "DT_regressor = DecisionTreeRegressor(random_state=42)\n",
    "DT_regressor.fit(X_train, y_train)"
   ]
  },
  {
   "cell_type": "code",
   "execution_count": 683,
   "metadata": {},
   "outputs": [],
   "source": [
    "search_paramns = [\n",
    "    dict(dec_tree__criterion=[\"squared_error\", \"friedman_mse\", \"absolute_error\", \"poisson\"],\n",
    "         dec_tree__max_depth=list(range(10,200,50)),\n",
    "            dec_tree__max_features=[\"auto\",\"sqrt\", \"log2\"])\n",
    "]\n",
    "\n",
    "pipe = Pipeline([\n",
    "    ('dec_tree', DT_regressor)\n",
    "])\n",
    "\n",
    "search = GridSearchCV(estimator=pipe,\n",
    "                     param_grid=search_paramns,\n",
    "                     cv=tscv,\n",
    "                     return_train_score=True)\n",
    "\n",
    "X_train, X_test, y_train, y_test = train_test_split(X, y, test_size=0.3, shuffle=False)"
   ]
  },
  {
   "cell_type": "code",
   "execution_count": 684,
   "metadata": {},
   "outputs": [
    {
     "name": "stdout",
     "output_type": "stream",
     "text": [
      "CPU times: total: 93.8 ms\n",
      "Wall time: 112 ms\n"
     ]
    },
    {
     "data": {
      "text/plain": [
       "GridSearchCV(cv=TimeSeriesSplit(gap=0, max_train_size=None, n_splits=2, test_size=None),\n",
       "             estimator=Pipeline(steps=[('dec_tree',\n",
       "                                        DecisionTreeRegressor(random_state=42))]),\n",
       "             param_grid=[{'dec_tree__criterion': ['squared_error',\n",
       "                                                  'friedman_mse',\n",
       "                                                  'absolute_error', 'poisson'],\n",
       "                          'dec_tree__max_depth': [10, 60, 110, 160],\n",
       "                          'dec_tree__max_features': ['auto', 'sqrt', 'log2']}],\n",
       "             return_train_score=True)"
      ]
     },
     "execution_count": 684,
     "metadata": {},
     "output_type": "execute_result"
    }
   ],
   "source": [
    "%%time\n",
    "search.fit(X_train, y_train)"
   ]
  },
  {
   "cell_type": "code",
   "execution_count": 685,
   "metadata": {},
   "outputs": [
    {
     "data": {
      "text/plain": [
       "{'dec_tree__criterion': 'absolute_error',\n",
       " 'dec_tree__max_depth': 10,\n",
       " 'dec_tree__max_features': 'sqrt'}"
      ]
     },
     "execution_count": 685,
     "metadata": {},
     "output_type": "execute_result"
    }
   ],
   "source": [
    "search.best_params_"
   ]
  },
  {
   "cell_type": "code",
   "execution_count": 686,
   "metadata": {},
   "outputs": [
    {
     "data": {
      "text/plain": [
       "Pipeline(steps=[('dec_tree',\n",
       "                 DecisionTreeRegressor(criterion='absolute_error', max_depth=10,\n",
       "                                       max_features='sqrt', random_state=42))])"
      ]
     },
     "execution_count": 686,
     "metadata": {},
     "output_type": "execute_result"
    }
   ],
   "source": [
    "search.best_estimator_"
   ]
  },
  {
   "cell_type": "code",
   "execution_count": 687,
   "metadata": {},
   "outputs": [
    {
     "name": "stdout",
     "output_type": "stream",
     "text": [
      "r2: 0.36715328467153285    MSE: 23.69047619047619\n"
     ]
    }
   ],
   "source": [
    "y_pred = search.predict(X_test)\n",
    "\n",
    "r2_score = DT_regressor.score(X_test, y_test)\n",
    "mse = mean_squared_error(y_test, y_pred)\n",
    "print(f'r2: {r2_score}    MSE: {mse}')"
   ]
  },
  {
   "cell_type": "code",
   "execution_count": 688,
   "metadata": {},
   "outputs": [
    {
     "name": "stdout",
     "output_type": "stream",
     "text": [
      "    Mean Absolute Error: 3.74 degrees.\n",
      "    Accuracy: 85.89 %.\n"
     ]
    },
    {
     "data": {
      "text/plain": [
       "(85.89, 3.74)"
      ]
     },
     "execution_count": 688,
     "metadata": {},
     "output_type": "execute_result"
    }
   ],
   "source": [
    "print_results(y_pred, y_test)"
   ]
  },
  {
   "cell_type": "code",
   "execution_count": 689,
   "metadata": {},
   "outputs": [
    {
     "data": {
      "text/plain": [
       "<matplotlib.collections.PathCollection at 0x21d81d61600>"
      ]
     },
     "execution_count": 689,
     "metadata": {},
     "output_type": "execute_result"
    },
    {
     "data": {
      "image/png": "[encoded data removed]",
      "text/plain": [
       "<Figure size 432x288 with 1 Axes>"
      ]
     },
     "metadata": {
      "needs_background": "light"
     },
     "output_type": "display_data"
    }
   ],
   "source": [
    "plt.scatter(y_test, y_test, c='red', alpha=0.5)\n",
    "plt.scatter(y_test, y_pred, c='blue', alpha=0.5)"
   ]
  },
  {
   "cell_type": "markdown",
   "metadata": {},
   "source": [
    "#### Random Forest Pipeline (Path_LoadedSpeed colunas removidas)"
   ]
  },
  {
   "cell_type": "code",
   "execution_count": 690,
   "metadata": {},
   "outputs": [
    {
     "data": {
      "text/plain": [
       "RandomForestRegressor(random_state=37)"
      ]
     },
     "execution_count": 690,
     "metadata": {},
     "output_type": "execute_result"
    }
   ],
   "source": [
    "forrest_model_reg = RandomForestRegressor(random_state=37)\n",
    "forrest_model_reg.fit(X_train, y_train)"
   ]
  },
  {
   "cell_type": "code",
   "execution_count": 691,
   "metadata": {},
   "outputs": [],
   "source": [
    "search_paramns = [{\n",
    "    'forest__criterion': [\"squared_error\", \"absolute_error\"],\n",
    "    'forest__n_estimators': list(range(10,30, 1)), \n",
    "    'forest__max_features': [\"sqrt\", \"log2\"]\n",
    "}]\n",
    "\n",
    "pipe = Pipeline([\n",
    "    ('forest', forrest_model_reg)\n",
    "])\n",
    "\n",
    "search = GridSearchCV(estimator=pipe,\n",
    "                     param_grid=search_paramns,\n",
    "                     cv=5,\n",
    "                     return_train_score=True)\n",
    "\n",
    "X_train, X_test, y_train, y_test = train_test_split(X, y, test_size=0.3, shuffle=False)"
   ]
  },
  {
   "cell_type": "code",
   "execution_count": 692,
   "metadata": {},
   "outputs": [
    {
     "name": "stdout",
     "output_type": "stream",
     "text": [
      "CPU times: total: 6.11 s\n",
      "Wall time: 6.19 s\n"
     ]
    },
    {
     "data": {
      "text/plain": [
       "GridSearchCV(cv=5,\n",
       "             estimator=Pipeline(steps=[('forest',\n",
       "                                        RandomForestRegressor(random_state=37))]),\n",
       "             param_grid=[{'forest__criterion': ['squared_error',\n",
       "                                                'absolute_error'],\n",
       "                          'forest__max_features': ['sqrt', 'log2'],\n",
       "                          'forest__n_estimators': [10, 11, 12, 13, 14, 15, 16,\n",
       "                                                   17, 18, 19, 20, 21, 22, 23,\n",
       "                                                   24, 25, 26, 27, 28, 29]}],\n",
       "             return_train_score=True)"
      ]
     },
     "execution_count": 692,
     "metadata": {},
     "output_type": "execute_result"
    }
   ],
   "source": [
    "%%time\n",
    "search.fit(X_train, y_train)"
   ]
  },
  {
   "cell_type": "code",
   "execution_count": 693,
   "metadata": {},
   "outputs": [
    {
     "data": {
      "text/plain": [
       "{'forest__criterion': 'squared_error',\n",
       " 'forest__max_features': 'sqrt',\n",
       " 'forest__n_estimators': 23}"
      ]
     },
     "execution_count": 693,
     "metadata": {},
     "output_type": "execute_result"
    }
   ],
   "source": [
    "search.best_params_"
   ]
  },
  {
   "cell_type": "code",
   "execution_count": 694,
   "metadata": {},
   "outputs": [
    {
     "data": {
      "text/plain": [
       "Pipeline(steps=[('forest',\n",
       "                 RandomForestRegressor(max_features='sqrt', n_estimators=23,\n",
       "                                       random_state=37))])"
      ]
     },
     "execution_count": 694,
     "metadata": {},
     "output_type": "execute_result"
    }
   ],
   "source": [
    "search.best_estimator_"
   ]
  },
  {
   "cell_type": "code",
   "execution_count": 695,
   "metadata": {},
   "outputs": [
    {
     "name": "stdout",
     "output_type": "stream",
     "text": [
      "r2: 0.46240824817518245    MSE: 19.343235214690793\n"
     ]
    }
   ],
   "source": [
    "y_pred = search.predict(X_test)\n",
    "\n",
    "r2_score = forrest_model_reg.score(X_test, y_test)\n",
    "mse = mean_squared_error(y_test, y_pred)\n",
    "print(f'r2: {r2_score}    MSE: {mse}')"
   ]
  },
  {
   "cell_type": "code",
   "execution_count": 696,
   "metadata": {},
   "outputs": [
    {
     "name": "stdout",
     "output_type": "stream",
     "text": [
      "    Mean Absolute Error: 3.56 degrees.\n",
      "    Accuracy: 86.54 %.\n"
     ]
    },
    {
     "data": {
      "text/plain": [
       "(86.54, 3.56)"
      ]
     },
     "execution_count": 696,
     "metadata": {},
     "output_type": "execute_result"
    }
   ],
   "source": [
    "print_results(y_pred, y_test)"
   ]
  },
  {
   "cell_type": "code",
   "execution_count": 697,
   "metadata": {},
   "outputs": [
    {
     "name": "stdout",
     "output_type": "stream",
     "text": [
      "    Mean Absolute Error: 3.5 degrees.\n",
      "    Accuracy: 86.68 %.\n"
     ]
    },
    {
     "data": {
      "text/plain": [
       "(86.68, 3.5)"
      ]
     },
     "execution_count": 697,
     "metadata": {},
     "output_type": "execute_result"
    }
   ],
   "source": [
    "forrest_model_reg = RandomForestRegressor(n_estimators = 23,criterion='absolute_error',max_features= 'sqrt', random_state=37)\n",
    "forrest_model_reg.fit(X_train, y_train)\n",
    "\n",
    "forrest_predictions = forrest_model_reg.predict(X_test)\n",
    "print_results(forrest_predictions, y_test)"
   ]
  },
  {
   "cell_type": "code",
   "execution_count": 698,
   "metadata": {},
   "outputs": [
    {
     "data": {
      "text/plain": [
       "<matplotlib.collections.PathCollection at 0x21d81dca020>"
      ]
     },
     "execution_count": 698,
     "metadata": {},
     "output_type": "execute_result"
    },
    {
     "data": {
      "image/png": "[encoded data removed]",
      "text/plain": [
       "<Figure size 432x288 with 1 Axes>"
      ]
     },
     "metadata": {
      "needs_background": "light"
     },
     "output_type": "display_data"
    }
   ],
   "source": [
    "plt.scatter(y_test, y_test, c='red', alpha=0.5)\n",
    "plt.scatter(y_test, forrest_predictions, c='blue', alpha=0.5)"
   ]
  },
  {
   "cell_type": "code",
   "execution_count": 699,
   "metadata": {},
   "outputs": [],
   "source": [
    "rf_LoadedTime_LessColumn = save_accuracy(forrest_predictions, y_test)"
   ]
  },
  {
   "cell_type": "markdown",
   "metadata": {},
   "source": [
    "## Resultados"
   ]
  },
  {
   "cell_type": "code",
   "execution_count": 705,
   "metadata": {},
   "outputs": [
    {
     "name": "stdout",
     "output_type": "stream",
     "text": [
      "Acurácia da Random Forest na predição do número de veículos num determinado caminho:\n",
      "Dados simulados completos (30 colunas de dados):  94.29 %\n",
      "Colunas removidas (13 colunas de dados):  89.2 %\n",
      "---------------------------------------------------------------------------------------------------------\n",
      "Acurácia da Random Forest na predição da velocidade de locomoção média dos veículos num determinado caminho:\n",
      "Dados simulados completos (30 colunas de dados):  89.16 %\n",
      "Colunas removidas (13 colunas de dados):  86.83 %\n",
      "---------------------------------------------------------------------------------------------------------\n",
      "Acurácia da Random Forest do tempo de locomoção média dos veículos num determinado caminho:\n",
      "Dados simulados completos (30 colunas de dados):  88.39 %\n",
      "Colunas removidas (13 colunas de dados):  86.68 %\n"
     ]
    }
   ],
   "source": [
    "print(\"Acurácia da Random Forest na predição do número de veículos num determinado caminho:\")\n",
    "print(\"Dados simulados completos (30 colunas de dados): \", rf_SumOfCars, \"%\")\n",
    "print(\"Colunas removidas (13 colunas de dados): \", rf_SumOfCars_LessColumn, \"%\")\n",
    "print(\"---------------------------------------------------------------------------------------------------------\")\n",
    "print(\"Acurácia da Random Forest na predição da velocidade de locomoção média dos veículos num determinado caminho:\")\n",
    "print(\"Dados simulados completos (30 colunas de dados): \", rf_LoadedSpeed, \"%\")\n",
    "print(\"Colunas removidas (13 colunas de dados): \", rf_LoadedSpeed_LessColumn, \"%\")\n",
    "print(\"---------------------------------------------------------------------------------------------------------\")\n",
    "print(\"Acurácia da Random Forest do tempo de locomoção média dos veículos num determinado caminho:\")\n",
    "print(\"Dados simulados completos (30 colunas de dados): \", rf_LoadedTime, \"%\")\n",
    "print(\"Colunas removidas (13 colunas de dados): \", rf_LoadedTime_LessColumn, \"%\")"
   ]
  },
  {
   "cell_type": "code",
   "execution_count": null,
   "metadata": {},
   "outputs": [],
   "source": []
  }
 ],
 "metadata": {
  "kernelspec": {
   "display_name": "Python 3.10.4 64-bit",
   "language": "python",
   "name": "python3"
  },
  "language_info": {
   "codemirror_mode": {
    "name": "ipython",
    "version": 3
   },
   "file_extension": ".py",
   "mimetype": "text/x-python",
   "name": "python",
   "nbconvert_exporter": "python",
   "pygments_lexer": "ipython3",
   "version": "3.10.4"
  },
  "orig_nbformat": 4,
  "vscode": {
   "interpreter": {
    "hash": "d62b9b8ce3f898c4226186644859110430335d5e49a2e4dc227912b9a61073a7"
   }
  }
 },
 "nbformat": 4,
 "nbformat_minor": 2
}
