{
 "cells": [
  {
   "cell_type": "code",
   "execution_count": 693,
   "metadata": {},
   "outputs": [],
   "source": [
    "import numbers\n",
    "import numpy as np\n",
    "import pandas as pd\n",
    "import seaborn as sns\n",
    "from sklearn import tree\n",
    "from matplotlib import pyplot as plt\n",
    "from sklearn.pipeline import Pipeline\n",
    "from sklearn.datasets import make_blobs\n",
    "from sklearn.tree import DecisionTreeRegressor\n",
    "from sklearn.metrics import mean_squared_error\n",
    "from sklearn.model_selection import GridSearchCV\n",
    "from sklearn.preprocessing import StandardScaler\n",
    "from sklearn.ensemble import RandomForestRegressor\n",
    "from sklearn.model_selection import TimeSeriesSplit\n",
    "from sklearn.model_selection import train_test_split\n",
    "from sklearn.tree import DecisionTreeClassifier, plot_tree"
   ]
  },
  {
   "cell_type": "markdown",
   "metadata": {},
   "source": [
    "## Carregamento e tratamento da base"
   ]
  },
  {
   "cell_type": "code",
   "execution_count": 694,
   "metadata": {},
   "outputs": [
    {
     "data": {
      "text/html": [
       "<div>\n",
       "<style scoped>\n",
       "    .dataframe tbody tr th:only-of-type {\n",
       "        vertical-align: middle;\n",
       "    }\n",
       "\n",
       "    .dataframe tbody tr th {\n",
       "        vertical-align: top;\n",
       "    }\n",
       "\n",
       "    .dataframe thead th {\n",
       "        text-align: right;\n",
       "    }\n",
       "</style>\n",
       "<table border=\"1\" class=\"dataframe\">\n",
       "  <thead>\n",
       "    <tr style=\"text-align: right;\">\n",
       "      <th></th>\n",
       "      <th>OrigZoneNo</th>\n",
       "      <th>DestZoneNo</th>\n",
       "      <th>Index</th>\n",
       "      <th>Path_Volume</th>\n",
       "      <th>Path_UnloadedTime</th>\n",
       "      <th>Path_UnloadedSpeed</th>\n",
       "      <th>Path_LoadedTime</th>\n",
       "      <th>Path_LoadedSpeed</th>\n",
       "      <th>Links_Count</th>\n",
       "      <th>Links_MinCarCapacity</th>\n",
       "      <th>...</th>\n",
       "      <th>Links_MinUnloadedTime</th>\n",
       "      <th>Links_MaxUnloadedTime</th>\n",
       "      <th>Links_AvgUnloadedTime</th>\n",
       "      <th>Links_SumUnloadedTime</th>\n",
       "      <th>Links_MinLoadedTime</th>\n",
       "      <th>Links_MaxLoadedTime</th>\n",
       "      <th>Links_AvgLoadedTime</th>\n",
       "      <th>Links_SumLoadedTime</th>\n",
       "      <th>Links_ToNodeNo</th>\n",
       "      <th>Links_FromNodeNo</th>\n",
       "    </tr>\n",
       "  </thead>\n",
       "  <tbody>\n",
       "    <tr>\n",
       "      <th>0</th>\n",
       "      <td>10</td>\n",
       "      <td>20</td>\n",
       "      <td>1</td>\n",
       "      <td>19208.000</td>\n",
       "      <td>2min 23s</td>\n",
       "      <td>36km/h</td>\n",
       "      <td>3min 10s</td>\n",
       "      <td>27km/h</td>\n",
       "      <td>3</td>\n",
       "      <td>500</td>\n",
       "      <td>...</td>\n",
       "      <td>8s</td>\n",
       "      <td>20s</td>\n",
       "      <td>13s</td>\n",
       "      <td>40s</td>\n",
       "      <td>8s</td>\n",
       "      <td>22s</td>\n",
       "      <td>14s</td>\n",
       "      <td>43s</td>\n",
       "      <td>2642,153,3111</td>\n",
       "      <td>3412,2642,153</td>\n",
       "    </tr>\n",
       "    <tr>\n",
       "      <th>1</th>\n",
       "      <td>10</td>\n",
       "      <td>20</td>\n",
       "      <td>2</td>\n",
       "      <td>1064.000</td>\n",
       "      <td>2min 14s</td>\n",
       "      <td>38km/h</td>\n",
       "      <td>3min 10s</td>\n",
       "      <td>27km/h</td>\n",
       "      <td>3</td>\n",
       "      <td>500</td>\n",
       "      <td>...</td>\n",
       "      <td>7s</td>\n",
       "      <td>39s</td>\n",
       "      <td>22s</td>\n",
       "      <td>1min 6s</td>\n",
       "      <td>7s</td>\n",
       "      <td>43s</td>\n",
       "      <td>24s</td>\n",
       "      <td>1min 12s</td>\n",
       "      <td>2645,153,3111</td>\n",
       "      <td>3064,2645,153</td>\n",
       "    </tr>\n",
       "    <tr>\n",
       "      <th>2</th>\n",
       "      <td>10</td>\n",
       "      <td>30</td>\n",
       "      <td>1</td>\n",
       "      <td>36624.000</td>\n",
       "      <td>2min</td>\n",
       "      <td>38km/h</td>\n",
       "      <td>2min 22s</td>\n",
       "      <td>32km/h</td>\n",
       "      <td>3</td>\n",
       "      <td>500</td>\n",
       "      <td>...</td>\n",
       "      <td>11s</td>\n",
       "      <td>30s</td>\n",
       "      <td>21s</td>\n",
       "      <td>1min 2s</td>\n",
       "      <td>13s</td>\n",
       "      <td>35s</td>\n",
       "      <td>23s</td>\n",
       "      <td>1min 10s</td>\n",
       "      <td>138,3351,162</td>\n",
       "      <td>137,138,3351</td>\n",
       "    </tr>\n",
       "    <tr>\n",
       "      <th>3</th>\n",
       "      <td>10</td>\n",
       "      <td>40</td>\n",
       "      <td>1</td>\n",
       "      <td>18483.000</td>\n",
       "      <td>3min 5s</td>\n",
       "      <td>29km/h</td>\n",
       "      <td>3min 32s</td>\n",
       "      <td>26km/h</td>\n",
       "      <td>7</td>\n",
       "      <td>500</td>\n",
       "      <td>...</td>\n",
       "      <td>6s</td>\n",
       "      <td>22s</td>\n",
       "      <td>14s</td>\n",
       "      <td>1min 41s</td>\n",
       "      <td>6s</td>\n",
       "      <td>24s</td>\n",
       "      <td>15s</td>\n",
       "      <td>1min 45s</td>\n",
       "      <td>10000658,3081,2649,130,139,140,3389</td>\n",
       "      <td>3064,10000658,3081,2649,130,139,140</td>\n",
       "    </tr>\n",
       "    <tr>\n",
       "      <th>4</th>\n",
       "      <td>10</td>\n",
       "      <td>40</td>\n",
       "      <td>2</td>\n",
       "      <td>0.481</td>\n",
       "      <td>2min 59s</td>\n",
       "      <td>32km/h</td>\n",
       "      <td>3min 32s</td>\n",
       "      <td>27km/h</td>\n",
       "      <td>5</td>\n",
       "      <td>500</td>\n",
       "      <td>...</td>\n",
       "      <td>6s</td>\n",
       "      <td>45s</td>\n",
       "      <td>23s</td>\n",
       "      <td>1min 56s</td>\n",
       "      <td>6s</td>\n",
       "      <td>47s</td>\n",
       "      <td>27s</td>\n",
       "      <td>2min 14s</td>\n",
       "      <td>3404,130,139,140,3389</td>\n",
       "      <td>3077,3404,130,139,140</td>\n",
       "    </tr>\n",
       "  </tbody>\n",
       "</table>\n",
       "<p>5 rows × 34 columns</p>\n",
       "</div>"
      ],
      "text/plain": [
       "   OrigZoneNo  DestZoneNo  Index  Path_Volume Path_UnloadedTime  \\\n",
       "0          10          20      1    19208.000          2min 23s   \n",
       "1          10          20      2     1064.000          2min 14s   \n",
       "2          10          30      1    36624.000              2min   \n",
       "3          10          40      1    18483.000           3min 5s   \n",
       "4          10          40      2        0.481          2min 59s   \n",
       "\n",
       "  Path_UnloadedSpeed Path_LoadedTime Path_LoadedSpeed  Links_Count  \\\n",
       "0             36km/h        3min 10s           27km/h            3   \n",
       "1             38km/h        3min 10s           27km/h            3   \n",
       "2             38km/h        2min 22s           32km/h            3   \n",
       "3             29km/h        3min 32s           26km/h            7   \n",
       "4             32km/h        3min 32s           27km/h            5   \n",
       "\n",
       "   Links_MinCarCapacity  ...  Links_MinUnloadedTime  Links_MaxUnloadedTime  \\\n",
       "0                   500  ...                     8s                    20s   \n",
       "1                   500  ...                     7s                    39s   \n",
       "2                   500  ...                    11s                    30s   \n",
       "3                   500  ...                     6s                    22s   \n",
       "4                   500  ...                     6s                    45s   \n",
       "\n",
       "   Links_AvgUnloadedTime Links_SumUnloadedTime Links_MinLoadedTime  \\\n",
       "0                    13s                   40s                  8s   \n",
       "1                    22s               1min 6s                  7s   \n",
       "2                    21s               1min 2s                 13s   \n",
       "3                    14s              1min 41s                  6s   \n",
       "4                    23s              1min 56s                  6s   \n",
       "\n",
       "  Links_MaxLoadedTime Links_AvgLoadedTime  Links_SumLoadedTime  \\\n",
       "0                 22s                 14s                  43s   \n",
       "1                 43s                 24s             1min 12s   \n",
       "2                 35s                 23s             1min 10s   \n",
       "3                 24s                 15s             1min 45s   \n",
       "4                 47s                 27s             2min 14s   \n",
       "\n",
       "                        Links_ToNodeNo                     Links_FromNodeNo  \n",
       "0                        2642,153,3111                        3412,2642,153  \n",
       "1                        2645,153,3111                        3064,2645,153  \n",
       "2                         138,3351,162                         137,138,3351  \n",
       "3  10000658,3081,2649,130,139,140,3389  3064,10000658,3081,2649,130,139,140  \n",
       "4                3404,130,139,140,3389                3077,3404,130,139,140  \n",
       "\n",
       "[5 rows x 34 columns]"
      ]
     },
     "execution_count": 694,
     "metadata": {},
     "output_type": "execute_result"
    }
   ],
   "source": [
    "pathsAndLinksTemp = pd.read_excel ('PathsAndLinksExcel.xlsx')\n",
    "\n",
    "pathsAndLinksTemp.to_csv(\"PathsAndLinks.csv\", index = None, header = True)\n",
    "\n",
    "pathsAndLinksDf = pd.DataFrame(pd.read_csv(\"PathsAndLinks.csv\"))\n",
    "\n",
    "pathsAndLinksDf.head()"
   ]
  },
  {
   "cell_type": "code",
   "execution_count": 695,
   "metadata": {},
   "outputs": [],
   "source": [
    "for x in pathsAndLinksDf:\n",
    "    if pathsAndLinksDf[x].dtypes == object:\n",
    "        pathsAndLinksDf[x] = pathsAndLinksDf[x].apply(lambda x: x.replace('km/h', ''))\n",
    "        pathsAndLinksDf[x] = pathsAndLinksDf[x].apply(lambda x: x.replace('km', ''))\n",
    "        pathsAndLinksDf[x] = pathsAndLinksDf[x].apply(lambda x: x.replace('min', '.'))\n",
    "        pathsAndLinksDf[x] = pathsAndLinksDf[x].apply(lambda x: x.replace(' ', ''))\n",
    "        pathsAndLinksDf[x] = pathsAndLinksDf[x].apply(lambda x: x.replace('h', ''))\n",
    "        pathsAndLinksDf[x] = pathsAndLinksDf[x].apply(lambda x: x.replace('s', ''))\n",
    "\n",
    "\n",
    "singleLinks = pathsAndLinksDf[['Links_ToNodeNo', 'Links_FromNodeNo']]\n",
    "\n",
    "pathsAndLinksDf = pathsAndLinksDf.drop(['DestZoneNo','Links_ToNodeNo', 'Links_FromNodeNo', 'OrigZoneNo', 'Index', 'Path_Volume'], axis=1)\n",
    "\n",
    "pathsAndLinksDf = pathsAndLinksDf.apply(pd.to_numeric)"
   ]
  },
  {
   "cell_type": "markdown",
   "metadata": {},
   "source": [
    "Legenda:\n",
    "\n",
    "DestZoneNo -> Numero da zona de destino [int64]\n",
    "\n",
    "(Removida) Path_Volume -> Cálculo de volume de veículos considerando o path (caminho inteiro) [float64]\n",
    "\n",
    "Path_UnloadedTime -> Tempo de locomoção no path considerando as vias sem transito (calculo mais simplificado considerando a velocidade média da via e a distância) [float64]\n",
    "\n",
    "Path_UnloadedSpeed ->  Velocidade de locomoção no path considerando as vias sem transito [int64]\n",
    "\n",
    "Path_LoadedTime -> Tempo de locomoção no path considerando as vias com transito (vem ao rodar a simulação) [float64]\n",
    "\n",
    "Path_LoadedSpeed -> Velocidade de locomoção no path considerando as vias com transito [int64]\n",
    "\n",
    "Links_Count -> Quantidade de links que compõe o path [int64]\n",
    "\n",
    "Links_(Min, Max, Avg, Sum)CarCapacity -> Colunas referente à capacidade de carros nos links/vias [int64]\n",
    "\n",
    "Links_(Min, Max, Avg, Sum)Length -> Colunas referente ao tamanho das vias [float64]\n",
    "\n",
    "Links_(Min, Max, Avg, Sum)OfCars -> Colunas referente à quantidade de carros nos links/vias [int64]\n",
    "\n",
    "Links_(Min, Max, Avg)LoadedSpeed -> Colunas referente à velocidade nas vias/links considerando o transito [int64]\n",
    "\n",
    "Links_(Min, Max, Avg, Sum)UnloadedTime -> Colunas referente ao tempo de locomoção nas vias/links não considerando o transito [int64, float64]\n",
    "\n",
    "Links_(Min, Max, Avg, Sum)LoadedTime -> Colunas referente ao tempo de locomoção nas vias/links considerando o transito [int64, float64]\n",
    "\n",
    "Colunas excluídas:\n",
    "OrigZoneNo -> Número de origem (sempre 10)  [int64]\n",
    "\n",
    "Index -> Repetitivo e considera os pares de origem destino, não vi utilidade (a confirmar) [int64]\n",
    "\n",
    "Links_FromNodeNo -> Lista de nós de partida (essa coluna e a abaixo podem ter alguma utilidade, mas não enxerguei ainda) [object]\n",
    "\n",
    "Links_ToNodeNo -> Lista de nós de Chegada [object]\n"
   ]
  },
  {
   "cell_type": "code",
   "execution_count": 696,
   "metadata": {},
   "outputs": [
    {
     "data": {
      "text/html": [
       "<div>\n",
       "<style scoped>\n",
       "    .dataframe tbody tr th:only-of-type {\n",
       "        vertical-align: middle;\n",
       "    }\n",
       "\n",
       "    .dataframe tbody tr th {\n",
       "        vertical-align: top;\n",
       "    }\n",
       "\n",
       "    .dataframe thead th {\n",
       "        text-align: right;\n",
       "    }\n",
       "</style>\n",
       "<table border=\"1\" class=\"dataframe\">\n",
       "  <thead>\n",
       "    <tr style=\"text-align: right;\">\n",
       "      <th></th>\n",
       "      <th>Path_UnloadedTime</th>\n",
       "      <th>Path_UnloadedSpeed</th>\n",
       "      <th>Path_LoadedTime</th>\n",
       "      <th>Path_LoadedSpeed</th>\n",
       "      <th>Links_Count</th>\n",
       "      <th>Links_MinCarCapacity</th>\n",
       "      <th>Links_MaxCarCapacity</th>\n",
       "      <th>Links_AvgCarCapacity</th>\n",
       "      <th>Links_SumCarCapacity</th>\n",
       "      <th>Links_MinLength</th>\n",
       "      <th>...</th>\n",
       "      <th>Links_MaxLoadedSpeed</th>\n",
       "      <th>Links_AvgLoadedSpeed</th>\n",
       "      <th>Links_MinUnloadedTime</th>\n",
       "      <th>Links_MaxUnloadedTime</th>\n",
       "      <th>Links_AvgUnloadedTime</th>\n",
       "      <th>Links_SumUnloadedTime</th>\n",
       "      <th>Links_MinLoadedTime</th>\n",
       "      <th>Links_MaxLoadedTime</th>\n",
       "      <th>Links_AvgLoadedTime</th>\n",
       "      <th>Links_SumLoadedTime</th>\n",
       "    </tr>\n",
       "  </thead>\n",
       "  <tbody>\n",
       "    <tr>\n",
       "      <th>0</th>\n",
       "      <td>2.23</td>\n",
       "      <td>36</td>\n",
       "      <td>3.10</td>\n",
       "      <td>27</td>\n",
       "      <td>3</td>\n",
       "      <td>500</td>\n",
       "      <td>800</td>\n",
       "      <td>600</td>\n",
       "      <td>1800</td>\n",
       "      <td>0.066</td>\n",
       "      <td>...</td>\n",
       "      <td>29</td>\n",
       "      <td>28</td>\n",
       "      <td>8</td>\n",
       "      <td>20.00</td>\n",
       "      <td>13</td>\n",
       "      <td>40.00</td>\n",
       "      <td>8</td>\n",
       "      <td>22.00</td>\n",
       "      <td>14</td>\n",
       "      <td>43.00</td>\n",
       "    </tr>\n",
       "    <tr>\n",
       "      <th>1</th>\n",
       "      <td>2.14</td>\n",
       "      <td>38</td>\n",
       "      <td>3.10</td>\n",
       "      <td>27</td>\n",
       "      <td>3</td>\n",
       "      <td>500</td>\n",
       "      <td>800</td>\n",
       "      <td>600</td>\n",
       "      <td>1800</td>\n",
       "      <td>0.055</td>\n",
       "      <td>...</td>\n",
       "      <td>29</td>\n",
       "      <td>28</td>\n",
       "      <td>7</td>\n",
       "      <td>39.00</td>\n",
       "      <td>22</td>\n",
       "      <td>1.60</td>\n",
       "      <td>7</td>\n",
       "      <td>43.00</td>\n",
       "      <td>24</td>\n",
       "      <td>1.12</td>\n",
       "    </tr>\n",
       "    <tr>\n",
       "      <th>2</th>\n",
       "      <td>2.00</td>\n",
       "      <td>38</td>\n",
       "      <td>2.22</td>\n",
       "      <td>32</td>\n",
       "      <td>3</td>\n",
       "      <td>500</td>\n",
       "      <td>800</td>\n",
       "      <td>600</td>\n",
       "      <td>1800</td>\n",
       "      <td>0.090</td>\n",
       "      <td>...</td>\n",
       "      <td>29</td>\n",
       "      <td>26</td>\n",
       "      <td>11</td>\n",
       "      <td>30.00</td>\n",
       "      <td>21</td>\n",
       "      <td>1.20</td>\n",
       "      <td>13</td>\n",
       "      <td>35.00</td>\n",
       "      <td>23</td>\n",
       "      <td>1.10</td>\n",
       "    </tr>\n",
       "    <tr>\n",
       "      <th>3</th>\n",
       "      <td>3.50</td>\n",
       "      <td>29</td>\n",
       "      <td>3.32</td>\n",
       "      <td>26</td>\n",
       "      <td>7</td>\n",
       "      <td>500</td>\n",
       "      <td>2000</td>\n",
       "      <td>971</td>\n",
       "      <td>6800</td>\n",
       "      <td>0.051</td>\n",
       "      <td>...</td>\n",
       "      <td>30</td>\n",
       "      <td>29</td>\n",
       "      <td>6</td>\n",
       "      <td>22.00</td>\n",
       "      <td>14</td>\n",
       "      <td>1.41</td>\n",
       "      <td>6</td>\n",
       "      <td>24.00</td>\n",
       "      <td>15</td>\n",
       "      <td>1.45</td>\n",
       "    </tr>\n",
       "    <tr>\n",
       "      <th>4</th>\n",
       "      <td>2.59</td>\n",
       "      <td>32</td>\n",
       "      <td>3.32</td>\n",
       "      <td>27</td>\n",
       "      <td>5</td>\n",
       "      <td>500</td>\n",
       "      <td>2000</td>\n",
       "      <td>860</td>\n",
       "      <td>4300</td>\n",
       "      <td>0.051</td>\n",
       "      <td>...</td>\n",
       "      <td>29</td>\n",
       "      <td>27</td>\n",
       "      <td>6</td>\n",
       "      <td>45.00</td>\n",
       "      <td>23</td>\n",
       "      <td>1.56</td>\n",
       "      <td>6</td>\n",
       "      <td>47.00</td>\n",
       "      <td>27</td>\n",
       "      <td>2.14</td>\n",
       "    </tr>\n",
       "    <tr>\n",
       "      <th>...</th>\n",
       "      <td>...</td>\n",
       "      <td>...</td>\n",
       "      <td>...</td>\n",
       "      <td>...</td>\n",
       "      <td>...</td>\n",
       "      <td>...</td>\n",
       "      <td>...</td>\n",
       "      <td>...</td>\n",
       "      <td>...</td>\n",
       "      <td>...</td>\n",
       "      <td>...</td>\n",
       "      <td>...</td>\n",
       "      <td>...</td>\n",
       "      <td>...</td>\n",
       "      <td>...</td>\n",
       "      <td>...</td>\n",
       "      <td>...</td>\n",
       "      <td>...</td>\n",
       "      <td>...</td>\n",
       "      <td>...</td>\n",
       "      <td>...</td>\n",
       "    </tr>\n",
       "    <tr>\n",
       "      <th>134</th>\n",
       "      <td>11.40</td>\n",
       "      <td>51</td>\n",
       "      <td>15.18</td>\n",
       "      <td>39</td>\n",
       "      <td>34</td>\n",
       "      <td>500</td>\n",
       "      <td>4200</td>\n",
       "      <td>2288</td>\n",
       "      <td>77800</td>\n",
       "      <td>0.016</td>\n",
       "      <td>...</td>\n",
       "      <td>80</td>\n",
       "      <td>41</td>\n",
       "      <td>1</td>\n",
       "      <td>1.18</td>\n",
       "      <td>17</td>\n",
       "      <td>9.29</td>\n",
       "      <td>2</td>\n",
       "      <td>1.19</td>\n",
       "      <td>22</td>\n",
       "      <td>12.34</td>\n",
       "    </tr>\n",
       "    <tr>\n",
       "      <th>135</th>\n",
       "      <td>5.28</td>\n",
       "      <td>34</td>\n",
       "      <td>9.54</td>\n",
       "      <td>19</td>\n",
       "      <td>17</td>\n",
       "      <td>500</td>\n",
       "      <td>4200</td>\n",
       "      <td>1918</td>\n",
       "      <td>32600</td>\n",
       "      <td>0.007</td>\n",
       "      <td>...</td>\n",
       "      <td>38</td>\n",
       "      <td>26</td>\n",
       "      <td>0</td>\n",
       "      <td>1.19</td>\n",
       "      <td>14</td>\n",
       "      <td>4.30</td>\n",
       "      <td>1</td>\n",
       "      <td>1.19</td>\n",
       "      <td>22</td>\n",
       "      <td>6.11</td>\n",
       "    </tr>\n",
       "    <tr>\n",
       "      <th>136</th>\n",
       "      <td>6.40</td>\n",
       "      <td>34</td>\n",
       "      <td>9.53</td>\n",
       "      <td>21</td>\n",
       "      <td>20</td>\n",
       "      <td>500</td>\n",
       "      <td>4200</td>\n",
       "      <td>1555</td>\n",
       "      <td>31100</td>\n",
       "      <td>0.007</td>\n",
       "      <td>...</td>\n",
       "      <td>38</td>\n",
       "      <td>24</td>\n",
       "      <td>0</td>\n",
       "      <td>1.19</td>\n",
       "      <td>13</td>\n",
       "      <td>4.21</td>\n",
       "      <td>1</td>\n",
       "      <td>1.19</td>\n",
       "      <td>21</td>\n",
       "      <td>6.54</td>\n",
       "    </tr>\n",
       "    <tr>\n",
       "      <th>137</th>\n",
       "      <td>5.45</td>\n",
       "      <td>45</td>\n",
       "      <td>10.33</td>\n",
       "      <td>25</td>\n",
       "      <td>22</td>\n",
       "      <td>500</td>\n",
       "      <td>4200</td>\n",
       "      <td>2609</td>\n",
       "      <td>57400</td>\n",
       "      <td>0.019</td>\n",
       "      <td>...</td>\n",
       "      <td>75</td>\n",
       "      <td>37</td>\n",
       "      <td>1</td>\n",
       "      <td>38.00</td>\n",
       "      <td>12</td>\n",
       "      <td>4.24</td>\n",
       "      <td>2</td>\n",
       "      <td>51.00</td>\n",
       "      <td>19</td>\n",
       "      <td>6.54</td>\n",
       "    </tr>\n",
       "    <tr>\n",
       "      <th>138</th>\n",
       "      <td>19.30</td>\n",
       "      <td>37</td>\n",
       "      <td>27.90</td>\n",
       "      <td>26</td>\n",
       "      <td>37</td>\n",
       "      <td>500</td>\n",
       "      <td>4200</td>\n",
       "      <td>1451</td>\n",
       "      <td>53700</td>\n",
       "      <td>0.010</td>\n",
       "      <td>...</td>\n",
       "      <td>60</td>\n",
       "      <td>37</td>\n",
       "      <td>1</td>\n",
       "      <td>2.11</td>\n",
       "      <td>24</td>\n",
       "      <td>14.31</td>\n",
       "      <td>1</td>\n",
       "      <td>2.11</td>\n",
       "      <td>30</td>\n",
       "      <td>18.42</td>\n",
       "    </tr>\n",
       "  </tbody>\n",
       "</table>\n",
       "<p>139 rows × 28 columns</p>\n",
       "</div>"
      ],
      "text/plain": [
       "     Path_UnloadedTime  Path_UnloadedSpeed  Path_LoadedTime  Path_LoadedSpeed  \\\n",
       "0                 2.23                  36             3.10                27   \n",
       "1                 2.14                  38             3.10                27   \n",
       "2                 2.00                  38             2.22                32   \n",
       "3                 3.50                  29             3.32                26   \n",
       "4                 2.59                  32             3.32                27   \n",
       "..                 ...                 ...              ...               ...   \n",
       "134              11.40                  51            15.18                39   \n",
       "135               5.28                  34             9.54                19   \n",
       "136               6.40                  34             9.53                21   \n",
       "137               5.45                  45            10.33                25   \n",
       "138              19.30                  37            27.90                26   \n",
       "\n",
       "     Links_Count  Links_MinCarCapacity  Links_MaxCarCapacity  \\\n",
       "0              3                   500                   800   \n",
       "1              3                   500                   800   \n",
       "2              3                   500                   800   \n",
       "3              7                   500                  2000   \n",
       "4              5                   500                  2000   \n",
       "..           ...                   ...                   ...   \n",
       "134           34                   500                  4200   \n",
       "135           17                   500                  4200   \n",
       "136           20                   500                  4200   \n",
       "137           22                   500                  4200   \n",
       "138           37                   500                  4200   \n",
       "\n",
       "     Links_AvgCarCapacity  Links_SumCarCapacity  Links_MinLength  ...  \\\n",
       "0                     600                  1800            0.066  ...   \n",
       "1                     600                  1800            0.055  ...   \n",
       "2                     600                  1800            0.090  ...   \n",
       "3                     971                  6800            0.051  ...   \n",
       "4                     860                  4300            0.051  ...   \n",
       "..                    ...                   ...              ...  ...   \n",
       "134                  2288                 77800            0.016  ...   \n",
       "135                  1918                 32600            0.007  ...   \n",
       "136                  1555                 31100            0.007  ...   \n",
       "137                  2609                 57400            0.019  ...   \n",
       "138                  1451                 53700            0.010  ...   \n",
       "\n",
       "     Links_MaxLoadedSpeed  Links_AvgLoadedSpeed  Links_MinUnloadedTime  \\\n",
       "0                      29                    28                      8   \n",
       "1                      29                    28                      7   \n",
       "2                      29                    26                     11   \n",
       "3                      30                    29                      6   \n",
       "4                      29                    27                      6   \n",
       "..                    ...                   ...                    ...   \n",
       "134                    80                    41                      1   \n",
       "135                    38                    26                      0   \n",
       "136                    38                    24                      0   \n",
       "137                    75                    37                      1   \n",
       "138                    60                    37                      1   \n",
       "\n",
       "     Links_MaxUnloadedTime  Links_AvgUnloadedTime  Links_SumUnloadedTime  \\\n",
       "0                    20.00                     13                  40.00   \n",
       "1                    39.00                     22                   1.60   \n",
       "2                    30.00                     21                   1.20   \n",
       "3                    22.00                     14                   1.41   \n",
       "4                    45.00                     23                   1.56   \n",
       "..                     ...                    ...                    ...   \n",
       "134                   1.18                     17                   9.29   \n",
       "135                   1.19                     14                   4.30   \n",
       "136                   1.19                     13                   4.21   \n",
       "137                  38.00                     12                   4.24   \n",
       "138                   2.11                     24                  14.31   \n",
       "\n",
       "     Links_MinLoadedTime  Links_MaxLoadedTime  Links_AvgLoadedTime  \\\n",
       "0                      8                22.00                   14   \n",
       "1                      7                43.00                   24   \n",
       "2                     13                35.00                   23   \n",
       "3                      6                24.00                   15   \n",
       "4                      6                47.00                   27   \n",
       "..                   ...                  ...                  ...   \n",
       "134                    2                 1.19                   22   \n",
       "135                    1                 1.19                   22   \n",
       "136                    1                 1.19                   21   \n",
       "137                    2                51.00                   19   \n",
       "138                    1                 2.11                   30   \n",
       "\n",
       "     Links_SumLoadedTime  \n",
       "0                  43.00  \n",
       "1                   1.12  \n",
       "2                   1.10  \n",
       "3                   1.45  \n",
       "4                   2.14  \n",
       "..                   ...  \n",
       "134                12.34  \n",
       "135                 6.11  \n",
       "136                 6.54  \n",
       "137                 6.54  \n",
       "138                18.42  \n",
       "\n",
       "[139 rows x 28 columns]"
      ]
     },
     "execution_count": 696,
     "metadata": {},
     "output_type": "execute_result"
    }
   ],
   "source": [
    "pathsAndLinksDf"
   ]
  },
  {
   "cell_type": "code",
   "execution_count": 697,
   "metadata": {},
   "outputs": [
    {
     "data": {
      "text/plain": [
       "<AxesSubplot:>"
      ]
     },
     "execution_count": 697,
     "metadata": {},
     "output_type": "execute_result"
    },
    {
     "data": {
      "image/png": "[encoded data removed]",
      "text/plain": [
       "<Figure size 1800x1080 with 2 Axes>"
      ]
     },
     "metadata": {
      "needs_background": "light"
     },
     "output_type": "display_data"
    }
   ],
   "source": [
    "fig_dims = (25,15)\n",
    "fig, ax = plt.subplots(figsize=fig_dims)\n",
    "\n",
    "corr = pathsAndLinksDf.corr()\n",
    "sns.heatmap(corr, annot=True)"
   ]
  },
  {
   "cell_type": "code",
   "execution_count": 698,
   "metadata": {},
   "outputs": [],
   "source": [
    "def print_results(predictions, y_testy):\n",
    "    errors = abs(predictions - y_testy)\n",
    "    out_mape = round(np.mean(errors), 2)\n",
    "    print('    Mean Absolute Error:', out_mape, 'degrees.')\n",
    "    mape = 100 * (errors / y_testy)\n",
    "    accuracy = 100 - np.mean(mape)\n",
    "    accuracy = round(accuracy, 2)\n",
    "    print('    Accuracy:', accuracy, '%.')\n",
    "    return accuracy, out_mape\n"
   ]
  },
  {
   "cell_type": "code",
   "execution_count": 699,
   "metadata": {},
   "outputs": [],
   "source": [
    "def save_accuracy(predictions, y_testy):\n",
    "    errors = abs(predictions - y_testy)\n",
    "    mape = 100 * (errors / y_testy)\n",
    "    accuracy = 100 - np.mean(mape)\n",
    "    accuracy = round(accuracy, 2)\n",
    "    return accuracy\n"
   ]
  },
  {
   "cell_type": "markdown",
   "metadata": {},
   "source": [
    "# Dados simulados completos"
   ]
  },
  {
   "cell_type": "markdown",
   "metadata": {},
   "source": [
    "## Y = Links_SumOfCars"
   ]
  },
  {
   "cell_type": "code",
   "execution_count": 700,
   "metadata": {},
   "outputs": [],
   "source": [
    "df_SumOfCars = pathsAndLinksDf.copy()"
   ]
  },
  {
   "cell_type": "code",
   "execution_count": 701,
   "metadata": {},
   "outputs": [],
   "source": [
    "y = np.array(df_SumOfCars['Links_SumOfCars'])\n",
    "X = df_SumOfCars.drop(['Links_SumOfCars', 'Path_LoadedSpeed', 'Path_LoadedTime'], axis = 1)\n",
    "x_names = list(X.columns)\n",
    "X = np.array(X)"
   ]
  },
  {
   "cell_type": "code",
   "execution_count": 702,
   "metadata": {},
   "outputs": [],
   "source": [
    "tscv = TimeSeriesSplit(n_splits=2)\n",
    "for train_index, test_index in tscv.split(X):\n",
    "    X_train, X_test = X[train_index], X[test_index]\n",
    "    y_train, y_test = y[train_index], y[test_index]"
   ]
  },
  {
   "cell_type": "markdown",
   "metadata": {},
   "source": [
    "### Decision Tree Regressor Pipeline (Links_SumOfCars)"
   ]
  },
  {
   "cell_type": "code",
   "execution_count": 703,
   "metadata": {},
   "outputs": [
    {
     "data": {
      "text/plain": [
       "DecisionTreeRegressor(random_state=42)"
      ]
     },
     "execution_count": 703,
     "metadata": {},
     "output_type": "execute_result"
    }
   ],
   "source": [
    "DT_regressor = DecisionTreeRegressor(random_state=42)\n",
    "DT_regressor.fit(X_train, y_train)"
   ]
  },
  {
   "cell_type": "code",
   "execution_count": 704,
   "metadata": {},
   "outputs": [],
   "source": [
    "search_paramns = [\n",
    "    dict(dec_tree__criterion=[\"squared_error\", \"friedman_mse\", \"absolute_error\", \"poisson\"],\n",
    "         dec_tree__max_depth=list(range(5,30,2)),\n",
    "            dec_tree__max_features=[\"auto\",\"sqrt\", \"log2\"])\n",
    "]\n",
    "\n",
    "pipe = Pipeline([\n",
    "    ('dec_tree', DT_regressor)\n",
    "])\n",
    "\n",
    "search = GridSearchCV(estimator=pipe,\n",
    "                     param_grid=search_paramns,\n",
    "                     cv=tscv,\n",
    "                     return_train_score=True)\n",
    "\n",
    "X_train, X_test, y_train, y_test = train_test_split(X, y, test_size=0.3, shuffle=False)"
   ]
  },
  {
   "cell_type": "code",
   "execution_count": 705,
   "metadata": {},
   "outputs": [
    {
     "name": "stdout",
     "output_type": "stream",
     "text": [
      "CPU times: total: 375 ms\n",
      "Wall time: 386 ms\n"
     ]
    },
    {
     "data": {
      "text/plain": [
       "GridSearchCV(cv=TimeSeriesSplit(gap=0, max_train_size=None, n_splits=2, test_size=None),\n",
       "             estimator=Pipeline(steps=[('dec_tree',\n",
       "                                        DecisionTreeRegressor(random_state=42))]),\n",
       "             param_grid=[{'dec_tree__criterion': ['squared_error',\n",
       "                                                  'friedman_mse',\n",
       "                                                  'absolute_error', 'poisson'],\n",
       "                          'dec_tree__max_depth': [5, 7, 9, 11, 13, 15, 17, 19,\n",
       "                                                  21, 23, 25, 27, 29],\n",
       "                          'dec_tree__max_features': ['auto', 'sqrt', 'log2']}],\n",
       "             return_train_score=True)"
      ]
     },
     "execution_count": 705,
     "metadata": {},
     "output_type": "execute_result"
    }
   ],
   "source": [
    "%%time\n",
    "search.fit(X_train, y_train)"
   ]
  },
  {
   "cell_type": "code",
   "execution_count": 706,
   "metadata": {},
   "outputs": [
    {
     "data": {
      "text/plain": [
       "{'dec_tree__criterion': 'absolute_error',\n",
       " 'dec_tree__max_depth': 9,\n",
       " 'dec_tree__max_features': 'sqrt'}"
      ]
     },
     "execution_count": 706,
     "metadata": {},
     "output_type": "execute_result"
    }
   ],
   "source": [
    "search.best_params_"
   ]
  },
  {
   "cell_type": "code",
   "execution_count": 707,
   "metadata": {},
   "outputs": [
    {
     "data": {
      "text/plain": [
       "Pipeline(steps=[('dec_tree',\n",
       "                 DecisionTreeRegressor(criterion='absolute_error', max_depth=9,\n",
       "                                       max_features='sqrt', random_state=42))])"
      ]
     },
     "execution_count": 707,
     "metadata": {},
     "output_type": "execute_result"
    }
   ],
   "source": [
    "search.best_estimator_"
   ]
  },
  {
   "cell_type": "code",
   "execution_count": 708,
   "metadata": {},
   "outputs": [
    {
     "name": "stdout",
     "output_type": "stream",
     "text": [
      "r2: 0.4518121670276012    MSE: 63788970.28571428\n"
     ]
    }
   ],
   "source": [
    "y_pred = search.predict(X_test)\n",
    "\n",
    "r2_score = DT_regressor.score(X_test, y_test)\n",
    "mse = mean_squared_error(y_test, y_pred)\n",
    "print(f'r2: {r2_score}    MSE: {mse}')"
   ]
  },
  {
   "cell_type": "code",
   "execution_count": 709,
   "metadata": {},
   "outputs": [
    {
     "name": "stdout",
     "output_type": "stream",
     "text": [
      "    Mean Absolute Error: 6174.19 degrees.\n",
      "    Accuracy: 83.82 %.\n"
     ]
    },
    {
     "data": {
      "text/plain": [
       "(83.82, 6174.19)"
      ]
     },
     "execution_count": 709,
     "metadata": {},
     "output_type": "execute_result"
    }
   ],
   "source": [
    "print_results(y_pred, y_test)"
   ]
  },
  {
   "cell_type": "code",
   "execution_count": 710,
   "metadata": {},
   "outputs": [
    {
     "data": {
      "text/plain": [
       "<matplotlib.collections.PathCollection at 0x1f161e30220>"
      ]
     },
     "execution_count": 710,
     "metadata": {},
     "output_type": "execute_result"
    },
    {
     "data": {
      "image/png": "[encoded data removed]",
      "text/plain": [
       "<Figure size 432x288 with 1 Axes>"
      ]
     },
     "metadata": {
      "needs_background": "light"
     },
     "output_type": "display_data"
    }
   ],
   "source": [
    "plt.scatter(y_test, y_test, c='red', alpha=0.5)\n",
    "plt.scatter(y_test, y_pred, c='blue', alpha=0.5)"
   ]
  },
  {
   "cell_type": "markdown",
   "metadata": {},
   "source": [
    "### Random Forest Pipeline (Links_SumOfCars)"
   ]
  },
  {
   "cell_type": "code",
   "execution_count": 711,
   "metadata": {},
   "outputs": [
    {
     "data": {
      "text/plain": [
       "RandomForestRegressor(random_state=37)"
      ]
     },
     "execution_count": 711,
     "metadata": {},
     "output_type": "execute_result"
    }
   ],
   "source": [
    "forrest_model_reg = RandomForestRegressor(random_state=37)\n",
    "forrest_model_reg.fit(X_train, y_train)"
   ]
  },
  {
   "cell_type": "code",
   "execution_count": 712,
   "metadata": {},
   "outputs": [],
   "source": [
    "search_paramns = [{\n",
    "    'forest__criterion': [\"squared_error\", \"absolute_error\"],\n",
    "    'forest__n_estimators': list(range(400,420, 2)), \n",
    "    'forest__max_features': [\"sqrt\", \"log2\"]\n",
    "}]\n",
    "\n",
    "pipe = Pipeline([\n",
    "    ('forest', forrest_model_reg)\n",
    "])\n",
    "\n",
    "search = GridSearchCV(estimator=pipe,\n",
    "                     param_grid=search_paramns,\n",
    "                     cv=5,\n",
    "                     return_train_score=True)\n",
    "\n",
    "X_train, X_test, y_train, y_test = train_test_split(X, y, test_size=0.3, shuffle=False)"
   ]
  },
  {
   "cell_type": "code",
   "execution_count": 713,
   "metadata": {},
   "outputs": [
    {
     "name": "stdout",
     "output_type": "stream",
     "text": [
      "CPU times: total: 60 s\n",
      "Wall time: 1min\n"
     ]
    },
    {
     "data": {
      "text/plain": [
       "GridSearchCV(cv=5,\n",
       "             estimator=Pipeline(steps=[('forest',\n",
       "                                        RandomForestRegressor(random_state=37))]),\n",
       "             param_grid=[{'forest__criterion': ['squared_error',\n",
       "                                                'absolute_error'],\n",
       "                          'forest__max_features': ['sqrt', 'log2'],\n",
       "                          'forest__n_estimators': [400, 402, 404, 406, 408, 410,\n",
       "                                                   412, 414, 416, 418]}],\n",
       "             return_train_score=True)"
      ]
     },
     "execution_count": 713,
     "metadata": {},
     "output_type": "execute_result"
    }
   ],
   "source": [
    "%%time\n",
    "search.fit(X_train, y_train)"
   ]
  },
  {
   "cell_type": "code",
   "execution_count": 714,
   "metadata": {},
   "outputs": [
    {
     "data": {
      "text/plain": [
       "{'forest__criterion': 'absolute_error',\n",
       " 'forest__max_features': 'log2',\n",
       " 'forest__n_estimators': 400}"
      ]
     },
     "execution_count": 714,
     "metadata": {},
     "output_type": "execute_result"
    }
   ],
   "source": [
    "search.best_params_"
   ]
  },
  {
   "cell_type": "code",
   "execution_count": 715,
   "metadata": {},
   "outputs": [
    {
     "data": {
      "text/plain": [
       "Pipeline(steps=[('forest',\n",
       "                 RandomForestRegressor(criterion='absolute_error',\n",
       "                                       max_features='log2', n_estimators=400,\n",
       "                                       random_state=37))])"
      ]
     },
     "execution_count": 715,
     "metadata": {},
     "output_type": "execute_result"
    }
   ],
   "source": [
    "search.best_estimator_"
   ]
  },
  {
   "cell_type": "code",
   "execution_count": 716,
   "metadata": {},
   "outputs": [
    {
     "name": "stdout",
     "output_type": "stream",
     "text": [
      "r2: 0.7962967753767871    MSE: 13101531.439988093\n"
     ]
    }
   ],
   "source": [
    "y_pred = search.predict(X_test)\n",
    "\n",
    "r2_score = forrest_model_reg.score(X_test, y_test)\n",
    "mse = mean_squared_error(y_test, y_pred)\n",
    "print(f'r2: {r2_score}    MSE: {mse}')"
   ]
  },
  {
   "cell_type": "code",
   "execution_count": 717,
   "metadata": {},
   "outputs": [
    {
     "name": "stdout",
     "output_type": "stream",
     "text": [
      "    Mean Absolute Error: 2516.37 degrees.\n",
      "    Accuracy: 93.42 %.\n"
     ]
    },
    {
     "data": {
      "text/plain": [
       "(93.42, 2516.37)"
      ]
     },
     "execution_count": 717,
     "metadata": {},
     "output_type": "execute_result"
    }
   ],
   "source": [
    "print_results(y_pred, y_test)"
   ]
  },
  {
   "cell_type": "code",
   "execution_count": 718,
   "metadata": {},
   "outputs": [
    {
     "name": "stdout",
     "output_type": "stream",
     "text": [
      "    Mean Absolute Error: 2496.95 degrees.\n",
      "    Accuracy: 93.6 %.\n"
     ]
    },
    {
     "data": {
      "text/plain": [
       "(93.6, 2496.95)"
      ]
     },
     "execution_count": 718,
     "metadata": {},
     "output_type": "execute_result"
    }
   ],
   "source": [
    "forrest_model_reg = RandomForestRegressor(n_estimators = 411,criterion='absolute_error',max_features= 'sqrt', random_state=37)\n",
    "forrest_model_reg.fit(X_train, y_train)\n",
    "\n",
    "forrest_predictions = forrest_model_reg.predict(X_test)\n",
    "print_results(forrest_predictions, y_test)"
   ]
  },
  {
   "cell_type": "code",
   "execution_count": 719,
   "metadata": {},
   "outputs": [
    {
     "data": {
      "text/plain": [
       "<matplotlib.collections.PathCollection at 0x1f15e3cbee0>"
      ]
     },
     "execution_count": 719,
     "metadata": {},
     "output_type": "execute_result"
    },
    {
     "data": {
      "image/png": "[encoded data removed]",
      "text/plain": [
       "<Figure size 432x288 with 1 Axes>"
      ]
     },
     "metadata": {
      "needs_background": "light"
     },
     "output_type": "display_data"
    }
   ],
   "source": [
    "plt.scatter(y_test, y_test, c='red', alpha=0.5)\n",
    "plt.scatter(y_test, forrest_predictions, c='blue', alpha=0.5)"
   ]
  },
  {
   "cell_type": "code",
   "execution_count": 720,
   "metadata": {},
   "outputs": [],
   "source": [
    "rf_SumOfCars = save_accuracy(forrest_predictions, y_test)"
   ]
  },
  {
   "cell_type": "markdown",
   "metadata": {},
   "source": [
    "## Y = Path_LoadedSpeed"
   ]
  },
  {
   "cell_type": "code",
   "execution_count": 721,
   "metadata": {},
   "outputs": [],
   "source": [
    "df_LoadedSpeed = pathsAndLinksDf.copy()"
   ]
  },
  {
   "cell_type": "code",
   "execution_count": 722,
   "metadata": {},
   "outputs": [],
   "source": [
    "y = np.array(df_LoadedSpeed['Path_LoadedSpeed'])\n",
    "X = df_LoadedSpeed.drop(['Links_SumOfCars', 'Path_LoadedSpeed', 'Path_LoadedTime'], axis = 1)\n",
    "x_names = list(X.columns)\n",
    "X = np.array(X)"
   ]
  },
  {
   "cell_type": "code",
   "execution_count": 723,
   "metadata": {},
   "outputs": [],
   "source": [
    "tscv = TimeSeriesSplit(n_splits=2)\n",
    "for train_index, test_index in tscv.split(X):\n",
    "    X_train, X_test = X[train_index], X[test_index]\n",
    "    y_train, y_test = y[train_index], y[test_index]"
   ]
  },
  {
   "cell_type": "markdown",
   "metadata": {},
   "source": [
    "### Decision Tree Regressor Pipeline (Path_LoadedSpeed)"
   ]
  },
  {
   "cell_type": "code",
   "execution_count": 724,
   "metadata": {},
   "outputs": [
    {
     "data": {
      "text/plain": [
       "DecisionTreeRegressor(random_state=42)"
      ]
     },
     "execution_count": 724,
     "metadata": {},
     "output_type": "execute_result"
    }
   ],
   "source": [
    "DT_regressor = DecisionTreeRegressor(random_state=42)\n",
    "DT_regressor.fit(X_train, y_train)"
   ]
  },
  {
   "cell_type": "code",
   "execution_count": 725,
   "metadata": {},
   "outputs": [],
   "source": [
    "search_paramns = [\n",
    "    dict(dec_tree__criterion=[\"squared_error\", \"friedman_mse\", \"absolute_error\", \"poisson\"],\n",
    "         dec_tree__max_depth=list(range(10,600,50)),\n",
    "            dec_tree__max_features=[\"auto\",\"sqrt\", \"log2\"])\n",
    "]\n",
    "\n",
    "pipe = Pipeline([\n",
    "    ('dec_tree', DT_regressor)\n",
    "])\n",
    "\n",
    "search = GridSearchCV(estimator=pipe,\n",
    "                     param_grid=search_paramns,\n",
    "                     cv=tscv,\n",
    "                     return_train_score=True)\n",
    "\n",
    "X_train, X_test, y_train, y_test = train_test_split(X, y, test_size=0.3, shuffle=False)"
   ]
  },
  {
   "cell_type": "code",
   "execution_count": 726,
   "metadata": {},
   "outputs": [
    {
     "name": "stdout",
     "output_type": "stream",
     "text": [
      "CPU times: total: 375 ms\n",
      "Wall time: 369 ms\n"
     ]
    },
    {
     "data": {
      "text/plain": [
       "GridSearchCV(cv=TimeSeriesSplit(gap=0, max_train_size=None, n_splits=2, test_size=None),\n",
       "             estimator=Pipeline(steps=[('dec_tree',\n",
       "                                        DecisionTreeRegressor(random_state=42))]),\n",
       "             param_grid=[{'dec_tree__criterion': ['squared_error',\n",
       "                                                  'friedman_mse',\n",
       "                                                  'absolute_error', 'poisson'],\n",
       "                          'dec_tree__max_depth': [10, 60, 110, 160, 210, 260,\n",
       "                                                  310, 360, 410, 460, 510,\n",
       "                                                  560],\n",
       "                          'dec_tree__max_features': ['auto', 'sqrt', 'log2']}],\n",
       "             return_train_score=True)"
      ]
     },
     "execution_count": 726,
     "metadata": {},
     "output_type": "execute_result"
    }
   ],
   "source": [
    "%%time\n",
    "search.fit(X_train, y_train)"
   ]
  },
  {
   "cell_type": "code",
   "execution_count": 727,
   "metadata": {},
   "outputs": [
    {
     "data": {
      "text/plain": [
       "{'dec_tree__criterion': 'absolute_error',\n",
       " 'dec_tree__max_depth': 10,\n",
       " 'dec_tree__max_features': 'log2'}"
      ]
     },
     "execution_count": 727,
     "metadata": {},
     "output_type": "execute_result"
    }
   ],
   "source": [
    "search.best_params_"
   ]
  },
  {
   "cell_type": "code",
   "execution_count": 728,
   "metadata": {},
   "outputs": [
    {
     "data": {
      "text/plain": [
       "Pipeline(steps=[('dec_tree',\n",
       "                 DecisionTreeRegressor(criterion='absolute_error', max_depth=10,\n",
       "                                       max_features='log2', random_state=42))])"
      ]
     },
     "execution_count": 728,
     "metadata": {},
     "output_type": "execute_result"
    }
   ],
   "source": [
    "search.best_estimator_"
   ]
  },
  {
   "cell_type": "code",
   "execution_count": 729,
   "metadata": {},
   "outputs": [
    {
     "name": "stdout",
     "output_type": "stream",
     "text": [
      "r2: -0.4131386861313868    MSE: 73.30952380952381\n"
     ]
    }
   ],
   "source": [
    "y_pred = search.predict(X_test)\n",
    "\n",
    "r2_score = DT_regressor.score(X_test, y_test)\n",
    "mse = mean_squared_error(y_test, y_pred)\n",
    "print(f'r2: {r2_score}    MSE: {mse}')"
   ]
  },
  {
   "cell_type": "code",
   "execution_count": 730,
   "metadata": {},
   "outputs": [
    {
     "name": "stdout",
     "output_type": "stream",
     "text": [
      "    Mean Absolute Error: 5.07 degrees.\n",
      "    Accuracy: 81.29 %.\n"
     ]
    },
    {
     "data": {
      "text/plain": [
       "(81.29, 5.07)"
      ]
     },
     "execution_count": 730,
     "metadata": {},
     "output_type": "execute_result"
    }
   ],
   "source": [
    "print_results(y_pred, y_test)"
   ]
  },
  {
   "cell_type": "code",
   "execution_count": 731,
   "metadata": {},
   "outputs": [
    {
     "data": {
      "text/plain": [
       "<matplotlib.collections.PathCollection at 0x1f161756dd0>"
      ]
     },
     "execution_count": 731,
     "metadata": {},
     "output_type": "execute_result"
    },
    {
     "data": {
      "image/png": "[encoded data removed]",
      "text/plain": [
       "<Figure size 432x288 with 1 Axes>"
      ]
     },
     "metadata": {
      "needs_background": "light"
     },
     "output_type": "display_data"
    }
   ],
   "source": [
    "plt.scatter(y_test, y_test, c='red', alpha=0.5)\n",
    "plt.scatter(y_test, y_pred, c='blue', alpha=0.5)"
   ]
  },
  {
   "cell_type": "markdown",
   "metadata": {},
   "source": [
    "### Random Forest Pipeline (Path_LoadedTime)"
   ]
  },
  {
   "cell_type": "code",
   "execution_count": 732,
   "metadata": {},
   "outputs": [
    {
     "data": {
      "text/plain": [
       "RandomForestRegressor(random_state=37)"
      ]
     },
     "execution_count": 732,
     "metadata": {},
     "output_type": "execute_result"
    }
   ],
   "source": [
    "forrest_model_reg = RandomForestRegressor(random_state=37)\n",
    "forrest_model_reg.fit(X_train, y_train)"
   ]
  },
  {
   "cell_type": "code",
   "execution_count": 733,
   "metadata": {},
   "outputs": [],
   "source": [
    "search_paramns = [{\n",
    "    'forest__criterion': [\"squared_error\", \"absolute_error\"],\n",
    "    'forest__n_estimators': list(range(180,200, 1)), \n",
    "    'forest__max_features': [\"sqrt\", \"log2\"]\n",
    "}]\n",
    "\n",
    "pipe = Pipeline([\n",
    "    ('forest', forrest_model_reg)\n",
    "])\n",
    "\n",
    "search = GridSearchCV(estimator=pipe,\n",
    "                     param_grid=search_paramns,\n",
    "                     cv=5,\n",
    "                     return_train_score=True)\n",
    "\n",
    "X_train, X_test, y_train, y_test = train_test_split(X, y, test_size=0.3, shuffle=False)"
   ]
  },
  {
   "cell_type": "code",
   "execution_count": 734,
   "metadata": {},
   "outputs": [
    {
     "name": "stdout",
     "output_type": "stream",
     "text": [
      "CPU times: total: 59.1 s\n",
      "Wall time: 59.4 s\n"
     ]
    },
    {
     "data": {
      "text/plain": [
       "GridSearchCV(cv=5,\n",
       "             estimator=Pipeline(steps=[('forest',\n",
       "                                        RandomForestRegressor(random_state=37))]),\n",
       "             param_grid=[{'forest__criterion': ['squared_error',\n",
       "                                                'absolute_error'],\n",
       "                          'forest__max_features': ['sqrt', 'log2'],\n",
       "                          'forest__n_estimators': [180, 181, 182, 183, 184, 185,\n",
       "                                                   186, 187, 188, 189, 190, 191,\n",
       "                                                   192, 193, 194, 195, 196, 197,\n",
       "                                                   198, 199]}],\n",
       "             return_train_score=True)"
      ]
     },
     "execution_count": 734,
     "metadata": {},
     "output_type": "execute_result"
    }
   ],
   "source": [
    "%%time\n",
    "search.fit(X_train, y_train)"
   ]
  },
  {
   "cell_type": "code",
   "execution_count": 735,
   "metadata": {},
   "outputs": [
    {
     "data": {
      "text/plain": [
       "{'forest__criterion': 'squared_error',\n",
       " 'forest__max_features': 'sqrt',\n",
       " 'forest__n_estimators': 185}"
      ]
     },
     "execution_count": 735,
     "metadata": {},
     "output_type": "execute_result"
    }
   ],
   "source": [
    "search.best_params_"
   ]
  },
  {
   "cell_type": "code",
   "execution_count": 736,
   "metadata": {},
   "outputs": [
    {
     "data": {
      "text/plain": [
       "Pipeline(steps=[('forest',\n",
       "                 RandomForestRegressor(max_features='sqrt', n_estimators=185,\n",
       "                                       random_state=37))])"
      ]
     },
     "execution_count": 736,
     "metadata": {},
     "output_type": "execute_result"
    }
   ],
   "source": [
    "search.best_estimator_"
   ]
  },
  {
   "cell_type": "code",
   "execution_count": 737,
   "metadata": {},
   "outputs": [
    {
     "name": "stdout",
     "output_type": "stream",
     "text": [
      "r2: 0.622155401459854    MSE: 14.003650213920485\n"
     ]
    }
   ],
   "source": [
    "y_pred = search.predict(X_test)\n",
    "\n",
    "r2_score = forrest_model_reg.score(X_test, y_test)\n",
    "mse = mean_squared_error(y_test, y_pred)\n",
    "print(f'r2: {r2_score}    MSE: {mse}')"
   ]
  },
  {
   "cell_type": "code",
   "execution_count": 738,
   "metadata": {},
   "outputs": [
    {
     "name": "stdout",
     "output_type": "stream",
     "text": [
      "    Mean Absolute Error: 2.77 degrees.\n",
      "    Accuracy: 89.91 %.\n"
     ]
    },
    {
     "data": {
      "text/plain": [
       "(89.91, 2.77)"
      ]
     },
     "execution_count": 738,
     "metadata": {},
     "output_type": "execute_result"
    }
   ],
   "source": [
    "print_results(y_pred, y_test)"
   ]
  },
  {
   "cell_type": "code",
   "execution_count": 739,
   "metadata": {},
   "outputs": [
    {
     "name": "stdout",
     "output_type": "stream",
     "text": [
      "    Mean Absolute Error: 2.78 degrees.\n",
      "    Accuracy: 89.89 %.\n"
     ]
    },
    {
     "data": {
      "text/plain": [
       "(89.89, 2.78)"
      ]
     },
     "execution_count": 739,
     "metadata": {},
     "output_type": "execute_result"
    }
   ],
   "source": [
    "forrest_model_reg = RandomForestRegressor(n_estimators = 185,criterion='squared_error',max_features= 'sqrt', random_state=37)\n",
    "forrest_model_reg.fit(X_train, y_train)\n",
    "\n",
    "forrest_predictions = forrest_model_reg.predict(X_test)\n",
    "print_results(forrest_predictions, y_test)"
   ]
  },
  {
   "cell_type": "code",
   "execution_count": 740,
   "metadata": {},
   "outputs": [
    {
     "data": {
      "text/plain": [
       "<matplotlib.collections.PathCollection at 0x1f161790940>"
      ]
     },
     "execution_count": 740,
     "metadata": {},
     "output_type": "execute_result"
    },
    {
     "data": {
      "image/png": "[encoded data removed]",
      "text/plain": [
       "<Figure size 432x288 with 1 Axes>"
      ]
     },
     "metadata": {
      "needs_background": "light"
     },
     "output_type": "display_data"
    }
   ],
   "source": [
    "plt.scatter(y_test, y_test, c='red', alpha=0.5)\n",
    "plt.scatter(y_test, forrest_predictions, c='blue', alpha=0.5)"
   ]
  },
  {
   "cell_type": "code",
   "execution_count": 741,
   "metadata": {},
   "outputs": [],
   "source": [
    "rf_LoadedSpeed = save_accuracy(forrest_predictions, y_test)"
   ]
  },
  {
   "cell_type": "markdown",
   "metadata": {},
   "source": [
    "## Y = Path_LoadedTime"
   ]
  },
  {
   "cell_type": "code",
   "execution_count": 742,
   "metadata": {},
   "outputs": [],
   "source": [
    "df_LoadedTime = pathsAndLinksDf.copy()"
   ]
  },
  {
   "cell_type": "code",
   "execution_count": 743,
   "metadata": {},
   "outputs": [],
   "source": [
    "y = np.array(df_LoadedTime['Path_LoadedTime'])\n",
    "X = df_LoadedTime.drop(['Links_SumOfCars', 'Path_LoadedSpeed', 'Path_LoadedTime'], axis = 1)\n",
    "x_names = list(X.columns)\n",
    "X = np.array(X)"
   ]
  },
  {
   "cell_type": "code",
   "execution_count": 744,
   "metadata": {},
   "outputs": [],
   "source": [
    "tscv = TimeSeriesSplit(n_splits=2)\n",
    "for train_index, test_index in tscv.split(X):\n",
    "    X_train, X_test = X[train_index], X[test_index]\n",
    "    y_train, y_test = y[train_index], y[test_index]"
   ]
  },
  {
   "cell_type": "markdown",
   "metadata": {},
   "source": [
    "### Decision Tree Regressor Pipeline (Path_LoadedTime)"
   ]
  },
  {
   "cell_type": "code",
   "execution_count": 745,
   "metadata": {},
   "outputs": [
    {
     "data": {
      "text/plain": [
       "DecisionTreeRegressor(random_state=42)"
      ]
     },
     "execution_count": 745,
     "metadata": {},
     "output_type": "execute_result"
    }
   ],
   "source": [
    "DT_regressor = DecisionTreeRegressor(random_state=42)\n",
    "DT_regressor.fit(X_train, y_train)"
   ]
  },
  {
   "cell_type": "code",
   "execution_count": 746,
   "metadata": {},
   "outputs": [],
   "source": [
    "search_paramns = [\n",
    "    dict(dec_tree__criterion=[\"squared_error\", \"friedman_mse\", \"absolute_error\", \"poisson\"],\n",
    "         dec_tree__max_depth=list(range(10,600,50)),\n",
    "            dec_tree__max_features=[\"auto\",\"sqrt\", \"log2\"])\n",
    "]\n",
    "\n",
    "pipe = Pipeline([\n",
    "    ('dec_tree', DT_regressor)\n",
    "])\n",
    "\n",
    "search = GridSearchCV(estimator=pipe,\n",
    "                     param_grid=search_paramns,\n",
    "                     cv=tscv,\n",
    "                     return_train_score=True)\n",
    "\n",
    "X_train, X_test, y_train, y_test = train_test_split(X, y, test_size=0.3, shuffle=False)"
   ]
  },
  {
   "cell_type": "code",
   "execution_count": 747,
   "metadata": {},
   "outputs": [
    {
     "name": "stdout",
     "output_type": "stream",
     "text": [
      "CPU times: total: 609 ms\n",
      "Wall time: 613 ms\n"
     ]
    },
    {
     "data": {
      "text/plain": [
       "GridSearchCV(cv=TimeSeriesSplit(gap=0, max_train_size=None, n_splits=2, test_size=None),\n",
       "             estimator=Pipeline(steps=[('dec_tree',\n",
       "                                        DecisionTreeRegressor(random_state=42))]),\n",
       "             param_grid=[{'dec_tree__criterion': ['squared_error',\n",
       "                                                  'friedman_mse',\n",
       "                                                  'absolute_error', 'poisson'],\n",
       "                          'dec_tree__max_depth': [10, 60, 110, 160, 210, 260,\n",
       "                                                  310, 360, 410, 460, 510,\n",
       "                                                  560],\n",
       "                          'dec_tree__max_features': ['auto', 'sqrt', 'log2']}],\n",
       "             return_train_score=True)"
      ]
     },
     "execution_count": 747,
     "metadata": {},
     "output_type": "execute_result"
    }
   ],
   "source": [
    "%%time\n",
    "search.fit(X_train, y_train)"
   ]
  },
  {
   "cell_type": "code",
   "execution_count": 748,
   "metadata": {},
   "outputs": [
    {
     "data": {
      "text/plain": [
       "{'dec_tree__criterion': 'poisson',\n",
       " 'dec_tree__max_depth': 60,\n",
       " 'dec_tree__max_features': 'auto'}"
      ]
     },
     "execution_count": 748,
     "metadata": {},
     "output_type": "execute_result"
    }
   ],
   "source": [
    "search.best_params_"
   ]
  },
  {
   "cell_type": "code",
   "execution_count": 749,
   "metadata": {},
   "outputs": [
    {
     "data": {
      "text/plain": [
       "Pipeline(steps=[('dec_tree',\n",
       "                 DecisionTreeRegressor(criterion='poisson', max_depth=60,\n",
       "                                       max_features='auto', random_state=42))])"
      ]
     },
     "execution_count": 749,
     "metadata": {},
     "output_type": "execute_result"
    }
   ],
   "source": [
    "search.best_estimator_"
   ]
  },
  {
   "cell_type": "code",
   "execution_count": 750,
   "metadata": {},
   "outputs": [
    {
     "name": "stdout",
     "output_type": "stream",
     "text": [
      "r2: 0.23204369956522253    MSE: 16.420145238095238\n"
     ]
    }
   ],
   "source": [
    "y_pred = search.predict(X_test)\n",
    "\n",
    "r2_score = DT_regressor.score(X_test, y_test)\n",
    "mse = mean_squared_error(y_test, y_pred)\n",
    "print(f'r2: {r2_score}    MSE: {mse}')"
   ]
  },
  {
   "cell_type": "code",
   "execution_count": 751,
   "metadata": {},
   "outputs": [
    {
     "name": "stdout",
     "output_type": "stream",
     "text": [
      "    Mean Absolute Error: 2.88 degrees.\n",
      "    Accuracy: 82.35 %.\n"
     ]
    },
    {
     "data": {
      "text/plain": [
       "(82.35, 2.88)"
      ]
     },
     "execution_count": 751,
     "metadata": {},
     "output_type": "execute_result"
    }
   ],
   "source": [
    "print_results(y_pred, y_test)"
   ]
  },
  {
   "cell_type": "code",
   "execution_count": 752,
   "metadata": {},
   "outputs": [
    {
     "data": {
      "text/plain": [
       "<matplotlib.collections.PathCollection at 0x1f161eb8ac0>"
      ]
     },
     "execution_count": 752,
     "metadata": {},
     "output_type": "execute_result"
    },
    {
     "data": {
      "image/png": "[encoded data removed]",
      "text/plain": [
       "<Figure size 432x288 with 1 Axes>"
      ]
     },
     "metadata": {
      "needs_background": "light"
     },
     "output_type": "display_data"
    }
   ],
   "source": [
    "plt.scatter(y_test, y_test, c='red', alpha=0.5)\n",
    "plt.scatter(y_test, y_pred, c='blue', alpha=0.5)"
   ]
  },
  {
   "cell_type": "markdown",
   "metadata": {},
   "source": [
    "### Random Forest Pipeline (Path_LoadedTime)"
   ]
  },
  {
   "cell_type": "code",
   "execution_count": 753,
   "metadata": {},
   "outputs": [
    {
     "data": {
      "text/plain": [
       "RandomForestRegressor(random_state=37)"
      ]
     },
     "execution_count": 753,
     "metadata": {},
     "output_type": "execute_result"
    }
   ],
   "source": [
    "forrest_model_reg = RandomForestRegressor(random_state=37)\n",
    "forrest_model_reg.fit(X_train, y_train)"
   ]
  },
  {
   "cell_type": "code",
   "execution_count": 754,
   "metadata": {},
   "outputs": [],
   "source": [
    "search_paramns = [{\n",
    "    'forest__criterion': [\"squared_error\", \"absolute_error\"],\n",
    "    'forest__n_estimators': list(range(90,130, 1)), \n",
    "    'forest__max_features': [\"sqrt\", \"log2\"]\n",
    "}]\n",
    "\n",
    "pipe = Pipeline([\n",
    "    ('forest', forrest_model_reg)\n",
    "])\n",
    "\n",
    "search = GridSearchCV(estimator=pipe,\n",
    "                     param_grid=search_paramns,\n",
    "                     cv=5,\n",
    "                     return_train_score=True)\n",
    "\n",
    "X_train, X_test, y_train, y_test = train_test_split(X, y, test_size=0.3, shuffle=False)"
   ]
  },
  {
   "cell_type": "code",
   "execution_count": 755,
   "metadata": {},
   "outputs": [
    {
     "name": "stdout",
     "output_type": "stream",
     "text": [
      "CPU times: total: 1min 5s\n",
      "Wall time: 1min 5s\n"
     ]
    },
    {
     "data": {
      "text/plain": [
       "GridSearchCV(cv=5,\n",
       "             estimator=Pipeline(steps=[('forest',\n",
       "                                        RandomForestRegressor(random_state=37))]),\n",
       "             param_grid=[{'forest__criterion': ['squared_error',\n",
       "                                                'absolute_error'],\n",
       "                          'forest__max_features': ['sqrt', 'log2'],\n",
       "                          'forest__n_estimators': [90, 91, 92, 93, 94, 95, 96,\n",
       "                                                   97, 98, 99, 100, 101, 102,\n",
       "                                                   103, 104, 105, 106, 107, 108,\n",
       "                                                   109, 110, 111, 112, 113, 114,\n",
       "                                                   115, 116, 117, 118, 119, ...]}],\n",
       "             return_train_score=True)"
      ]
     },
     "execution_count": 755,
     "metadata": {},
     "output_type": "execute_result"
    }
   ],
   "source": [
    "%%time\n",
    "search.fit(X_train, y_train)"
   ]
  },
  {
   "cell_type": "code",
   "execution_count": 756,
   "metadata": {},
   "outputs": [
    {
     "data": {
      "text/plain": [
       "{'forest__criterion': 'squared_error',\n",
       " 'forest__max_features': 'sqrt',\n",
       " 'forest__n_estimators': 126}"
      ]
     },
     "execution_count": 756,
     "metadata": {},
     "output_type": "execute_result"
    }
   ],
   "source": [
    "search.best_params_"
   ]
  },
  {
   "cell_type": "code",
   "execution_count": 757,
   "metadata": {},
   "outputs": [
    {
     "data": {
      "text/plain": [
       "Pipeline(steps=[('forest',\n",
       "                 RandomForestRegressor(max_features='sqrt', n_estimators=126,\n",
       "                                       random_state=37))])"
      ]
     },
     "execution_count": 757,
     "metadata": {},
     "output_type": "execute_result"
    }
   ],
   "source": [
    "search.best_estimator_"
   ]
  },
  {
   "cell_type": "code",
   "execution_count": 758,
   "metadata": {},
   "outputs": [
    {
     "name": "stdout",
     "output_type": "stream",
     "text": [
      "r2: 0.4873383586109321    MSE: 10.475538417827424\n"
     ]
    }
   ],
   "source": [
    "y_pred = search.predict(X_test)\n",
    "\n",
    "r2_score = forrest_model_reg.score(X_test, y_test)\n",
    "mse = mean_squared_error(y_test, y_pred)\n",
    "print(f'r2: {r2_score}    MSE: {mse}')"
   ]
  },
  {
   "cell_type": "code",
   "execution_count": 759,
   "metadata": {},
   "outputs": [
    {
     "name": "stdout",
     "output_type": "stream",
     "text": [
      "    Mean Absolute Error: 2.19 degrees.\n",
      "    Accuracy: 87.8 %.\n"
     ]
    },
    {
     "data": {
      "text/plain": [
       "(87.8, 2.19)"
      ]
     },
     "execution_count": 759,
     "metadata": {},
     "output_type": "execute_result"
    }
   ],
   "source": [
    "print_results(y_pred, y_test)"
   ]
  },
  {
   "cell_type": "code",
   "execution_count": 760,
   "metadata": {},
   "outputs": [
    {
     "name": "stdout",
     "output_type": "stream",
     "text": [
      "    Mean Absolute Error: 2.18 degrees.\n",
      "    Accuracy: 87.86 %.\n"
     ]
    },
    {
     "data": {
      "text/plain": [
       "(87.86, 2.18)"
      ]
     },
     "execution_count": 760,
     "metadata": {},
     "output_type": "execute_result"
    }
   ],
   "source": [
    "forrest_model_reg = RandomForestRegressor(n_estimators = 109,criterion='squared_error',max_features= 'sqrt', random_state=37)\n",
    "forrest_model_reg.fit(X_train, y_train)\n",
    "\n",
    "forrest_predictions = forrest_model_reg.predict(X_test)\n",
    "print_results(forrest_predictions, y_test)"
   ]
  },
  {
   "cell_type": "code",
   "execution_count": 761,
   "metadata": {},
   "outputs": [
    {
     "data": {
      "text/plain": [
       "<matplotlib.collections.PathCollection at 0x1f1617b48b0>"
      ]
     },
     "execution_count": 761,
     "metadata": {},
     "output_type": "execute_result"
    },
    {
     "data": {
      "image/png": "[encoded data removed]",
      "text/plain": [
       "<Figure size 432x288 with 1 Axes>"
      ]
     },
     "metadata": {
      "needs_background": "light"
     },
     "output_type": "display_data"
    }
   ],
   "source": [
    "plt.scatter(y_test, y_test, c='red', alpha=0.5)\n",
    "plt.scatter(y_test, forrest_predictions, c='blue', alpha=0.5)"
   ]
  },
  {
   "cell_type": "code",
   "execution_count": 762,
   "metadata": {},
   "outputs": [],
   "source": [
    "rf_LoadedTime = save_accuracy(forrest_predictions, y_test)"
   ]
  },
  {
   "cell_type": "markdown",
   "metadata": {},
   "source": [
    "# Esparsidade de dados"
   ]
  },
  {
   "cell_type": "markdown",
   "metadata": {},
   "source": [
    "## Dataframe com dados esparsos"
   ]
  },
  {
   "cell_type": "code",
   "execution_count": 763,
   "metadata": {},
   "outputs": [],
   "source": [
    "df_sparse = pathsAndLinksDf.copy()"
   ]
  },
  {
   "cell_type": "code",
   "execution_count": 764,
   "metadata": {},
   "outputs": [],
   "source": [
    "def generate_new_sparse(original_df, perc):\n",
    "        df_sparse = original_df.copy()\n",
    "\n",
    "        for column in original_df.copy():\n",
    "                # Sample de perc% dos itens\n",
    "                items_to_change = df_sparse.sample(frac=perc)\n",
    "\n",
    "                # O que sobrou sem o sample\n",
    "                items_left = df_sparse.drop(items_to_change.index)\n",
    "\n",
    "                # Operacao de esparsamento\n",
    "                mean = original_df[column].mean()\n",
    "                items_to_change[column] = items_to_change[column].apply(lambda x: mean)\n",
    "\n",
    "                # Insere de volta no dataframe\n",
    "                df_sparse = pd.concat([items_left, items_to_change])\n",
    "                df_sparse.sort_index(inplace=True)\n",
    "\n",
    "        return df_sparse\n"
   ]
  },
  {
   "cell_type": "code",
   "execution_count": 765,
   "metadata": {},
   "outputs": [],
   "source": [
    "df_sparse_base = generate_new_sparse(pathsAndLinksDf, 0.30)"
   ]
  },
  {
   "cell_type": "markdown",
   "metadata": {},
   "source": [
    "### Y = Links_SumOfCars (dados esparsados aleatoriamente)"
   ]
  },
  {
   "cell_type": "code",
   "execution_count": 766,
   "metadata": {},
   "outputs": [],
   "source": [
    "y = np.array(df_sparse_base['Links_SumOfCars'])\n",
    "X = df_sparse_base.drop(['Links_SumOfCars', 'Path_LoadedSpeed', 'Path_LoadedTime'], axis = 1)\n",
    "X = np.array(X)"
   ]
  },
  {
   "cell_type": "code",
   "execution_count": 767,
   "metadata": {},
   "outputs": [],
   "source": [
    "tscv = TimeSeriesSplit(n_splits=2)\n",
    "for train_index, test_index in tscv.split(X):\n",
    "    X_train, X_test = X[train_index], X[test_index]\n",
    "    y_train, y_test = y[train_index], y[test_index]"
   ]
  },
  {
   "cell_type": "code",
   "execution_count": 768,
   "metadata": {},
   "outputs": [
    {
     "data": {
      "text/plain": [
       "RandomForestRegressor(random_state=37)"
      ]
     },
     "execution_count": 768,
     "metadata": {},
     "output_type": "execute_result"
    }
   ],
   "source": [
    "forrest_model_reg = RandomForestRegressor(random_state=37)\n",
    "forrest_model_reg.fit(X_train, y_train)"
   ]
  },
  {
   "cell_type": "code",
   "execution_count": 769,
   "metadata": {},
   "outputs": [],
   "source": [
    "search_paramns = [{\n",
    "    'forest__criterion': [\"squared_error\", \"absolute_error\"],\n",
    "    'forest__n_estimators': list(range(65,71, 1)), \n",
    "    'forest__max_features': [\"sqrt\", \"log2\"]\n",
    "}]\n",
    "\n",
    "pipe = Pipeline([\n",
    "    ('forest', forrest_model_reg)\n",
    "])\n",
    "\n",
    "search = GridSearchCV(estimator=pipe,\n",
    "                     param_grid=search_paramns,\n",
    "                     cv=5,\n",
    "                     return_train_score=True)\n",
    "\n",
    "X_train, X_test, y_train, y_test = train_test_split(X, y, test_size=0.3, shuffle=False)\n"
   ]
  },
  {
   "cell_type": "code",
   "execution_count": 770,
   "metadata": {},
   "outputs": [
    {
     "name": "stdout",
     "output_type": "stream",
     "text": [
      "CPU times: total: 7.42 s\n",
      "Wall time: 7.45 s\n"
     ]
    },
    {
     "data": {
      "text/plain": [
       "GridSearchCV(cv=5,\n",
       "             estimator=Pipeline(steps=[('forest',\n",
       "                                        RandomForestRegressor(random_state=37))]),\n",
       "             param_grid=[{'forest__criterion': ['squared_error',\n",
       "                                                'absolute_error'],\n",
       "                          'forest__max_features': ['sqrt', 'log2'],\n",
       "                          'forest__n_estimators': [10, 20, 30, 40, 50, 60, 70,\n",
       "                                                   80, 90]}],\n",
       "             return_train_score=True)"
      ]
     },
     "execution_count": 770,
     "metadata": {},
     "output_type": "execute_result"
    }
   ],
   "source": [
    "%%time\n",
    "search.fit(X_train, y_train)"
   ]
  },
  {
   "cell_type": "code",
   "execution_count": 771,
   "metadata": {},
   "outputs": [
    {
     "data": {
      "text/plain": [
       "{'forest__criterion': 'absolute_error',\n",
       " 'forest__max_features': 'log2',\n",
       " 'forest__n_estimators': 70}"
      ]
     },
     "execution_count": 771,
     "metadata": {},
     "output_type": "execute_result"
    }
   ],
   "source": [
    "search.best_params_"
   ]
  },
  {
   "cell_type": "code",
   "execution_count": 772,
   "metadata": {},
   "outputs": [
    {
     "data": {
      "text/plain": [
       "Pipeline(steps=[('forest',\n",
       "                 RandomForestRegressor(criterion='absolute_error',\n",
       "                                       max_features='log2', n_estimators=70,\n",
       "                                       random_state=37))])"
      ]
     },
     "execution_count": 772,
     "metadata": {},
     "output_type": "execute_result"
    }
   ],
   "source": [
    "search.best_estimator_"
   ]
  },
  {
   "cell_type": "code",
   "execution_count": 773,
   "metadata": {},
   "outputs": [
    {
     "name": "stdout",
     "output_type": "stream",
     "text": [
      "r2: 0.08067855421649117    MSE: 120399900.32021497\n"
     ]
    }
   ],
   "source": [
    "y_pred = search.predict(X_test)\n",
    "\n",
    "r2_score = forrest_model_reg.score(X_test, y_test)\n",
    "mse = mean_squared_error(y_test, y_pred)\n",
    "print(f'r2: {r2_score}    MSE: {mse}')"
   ]
  },
  {
   "cell_type": "code",
   "execution_count": 774,
   "metadata": {},
   "outputs": [
    {
     "name": "stdout",
     "output_type": "stream",
     "text": [
      "    Mean Absolute Error: 9256.16 degrees.\n",
      "    Accuracy: 68.01 %.\n"
     ]
    },
    {
     "data": {
      "text/plain": [
       "(68.01, 9256.16)"
      ]
     },
     "execution_count": 774,
     "metadata": {},
     "output_type": "execute_result"
    }
   ],
   "source": [
    "print_results(y_pred, y_test)"
   ]
  },
  {
   "cell_type": "code",
   "execution_count": 775,
   "metadata": {},
   "outputs": [
    {
     "name": "stdout",
     "output_type": "stream",
     "text": [
      "    Mean Absolute Error: 6502.92 degrees.\n",
      "    Accuracy: 75.89 %.\n",
      "    Mean Absolute Error: 7566.84 degrees.\n",
      "    Accuracy: 74.82 %.\n",
      "    Mean Absolute Error: 6632.1 degrees.\n",
      "    Accuracy: 74.44 %.\n",
      "    Mean Absolute Error: 6431.41 degrees.\n",
      "    Accuracy: 77.77 %.\n",
      "    Mean Absolute Error: 6386.17 degrees.\n",
      "    Accuracy: 80.26 %.\n",
      "    Mean Absolute Error: 6059.04 degrees.\n",
      "    Accuracy: 80.47 %.\n",
      "    Mean Absolute Error: 6200.97 degrees.\n",
      "    Accuracy: 75.21 %.\n",
      "    Mean Absolute Error: 7991.53 degrees.\n",
      "    Accuracy: 74.77 %.\n",
      "    Mean Absolute Error: 7609.86 degrees.\n",
      "    Accuracy: 77.13 %.\n",
      "    Mean Absolute Error: 7711.4 degrees.\n",
      "    Accuracy: 75.73 %.\n"
     ]
    }
   ],
   "source": [
    "results = []\n",
    "for n in range(10):\n",
    "        df_sparse_random = generate_new_sparse(pathsAndLinksDf, 0.30) # Random and sparse a 30% sample\n",
    "        y = np.array(df_sparse_random['Links_SumOfCars'])\n",
    "        X = df_sparse.drop(['Links_SumOfCars', 'Path_LoadedSpeed', 'Path_LoadedTime'], axis = 1)\n",
    "        X = np.array(X)\n",
    "\n",
    "        X_train, X_test, y_train, y_test = train_test_split(X, y, test_size=0.3, shuffle=False)\n",
    "\n",
    "        forrest_model_reg = RandomForestRegressor(n_estimators = 69,criterion='squared_error',max_features= 'log2', random_state=42)\n",
    "        forrest_model_reg.fit(X_train, y_train)\n",
    "\n",
    "        forrest_predictions = forrest_model_reg.predict(X_test)\n",
    "        print_results(forrest_predictions, y_test)\n",
    "        results.append(save_accuracy(forrest_predictions, y_test))\n"
   ]
  },
  {
   "cell_type": "code",
   "execution_count": 776,
   "metadata": {},
   "outputs": [
    {
     "name": "stdout",
     "output_type": "stream",
     "text": [
      "Resultado médio ao rodar 10x random forest com dados esparsos: 76.65 %\n"
     ]
    }
   ],
   "source": [
    "def Average(lst):\n",
    "    return sum(lst) / len(lst)\n",
    "\n",
    "rf_SumOfCars_Sparse = round(Average(results), 2)\n",
    "print(\"Resultado médio ao rodar 10x random forest com dados esparsos:\", rf_SumOfCars_Sparse,\"%\")"
   ]
  },
  {
   "cell_type": "markdown",
   "metadata": {},
   "source": [
    "### Y = Path_LoadedSpeed (dados esparsados aleatoriamente)"
   ]
  },
  {
   "cell_type": "code",
   "execution_count": 777,
   "metadata": {},
   "outputs": [],
   "source": [
    "y = np.array(df_sparse_base['Path_LoadedSpeed'])\n",
    "X = df_sparse_base.drop(['Links_SumOfCars', 'Path_LoadedSpeed', 'Path_LoadedTime'], axis = 1)\n",
    "X = np.array(X)"
   ]
  },
  {
   "cell_type": "code",
   "execution_count": 778,
   "metadata": {},
   "outputs": [],
   "source": [
    "tscv = TimeSeriesSplit(n_splits=2)\n",
    "for train_index, test_index in tscv.split(X):\n",
    "    X_train, X_test = X[train_index], X[test_index]\n",
    "    y_train, y_test = y[train_index], y[test_index]"
   ]
  },
  {
   "cell_type": "code",
   "execution_count": 779,
   "metadata": {},
   "outputs": [
    {
     "data": {
      "text/plain": [
       "RandomForestRegressor(random_state=37)"
      ]
     },
     "execution_count": 779,
     "metadata": {},
     "output_type": "execute_result"
    }
   ],
   "source": [
    "forrest_model_reg = RandomForestRegressor(random_state=37)\n",
    "forrest_model_reg.fit(X_train, y_train)"
   ]
  },
  {
   "cell_type": "code",
   "execution_count": 780,
   "metadata": {},
   "outputs": [],
   "source": [
    "search_paramns = [{\n",
    "    'forest__criterion': [\"squared_error\", \"absolute_error\"],\n",
    "    'forest__n_estimators': list(range(65,80, 1)), \n",
    "    'forest__max_features': [\"sqrt\", \"log2\"]\n",
    "}]\n",
    "\n",
    "pipe = Pipeline([\n",
    "    ('forest', forrest_model_reg)\n",
    "])\n",
    "\n",
    "search = GridSearchCV(estimator=pipe,\n",
    "                     param_grid=search_paramns,\n",
    "                     cv=5,\n",
    "                     return_train_score=True)\n",
    "\n",
    "X_train, X_test, y_train, y_test = train_test_split(X, y, test_size=0.3, shuffle=False)\n"
   ]
  },
  {
   "cell_type": "code",
   "execution_count": 781,
   "metadata": {},
   "outputs": [
    {
     "name": "stdout",
     "output_type": "stream",
     "text": [
      "CPU times: total: 18.3 s\n",
      "Wall time: 18.4 s\n"
     ]
    },
    {
     "data": {
      "text/plain": [
       "GridSearchCV(cv=5,\n",
       "             estimator=Pipeline(steps=[('forest',\n",
       "                                        RandomForestRegressor(random_state=37))]),\n",
       "             param_grid=[{'forest__criterion': ['squared_error',\n",
       "                                                'absolute_error'],\n",
       "                          'forest__max_features': ['sqrt', 'log2'],\n",
       "                          'forest__n_estimators': [65, 66, 67, 68, 69, 70, 71,\n",
       "                                                   72, 73, 74, 75, 76, 77, 78,\n",
       "                                                   79]}],\n",
       "             return_train_score=True)"
      ]
     },
     "execution_count": 781,
     "metadata": {},
     "output_type": "execute_result"
    }
   ],
   "source": [
    "%%time\n",
    "search.fit(X_train, y_train)"
   ]
  },
  {
   "cell_type": "code",
   "execution_count": 782,
   "metadata": {},
   "outputs": [
    {
     "data": {
      "text/plain": [
       "{'forest__criterion': 'squared_error',\n",
       " 'forest__max_features': 'sqrt',\n",
       " 'forest__n_estimators': 73}"
      ]
     },
     "execution_count": 782,
     "metadata": {},
     "output_type": "execute_result"
    }
   ],
   "source": [
    "search.best_params_"
   ]
  },
  {
   "cell_type": "code",
   "execution_count": 783,
   "metadata": {},
   "outputs": [
    {
     "data": {
      "text/plain": [
       "Pipeline(steps=[('forest',\n",
       "                 RandomForestRegressor(max_features='sqrt', n_estimators=73,\n",
       "                                       random_state=37))])"
      ]
     },
     "execution_count": 783,
     "metadata": {},
     "output_type": "execute_result"
    }
   ],
   "source": [
    "search.best_estimator_"
   ]
  },
  {
   "cell_type": "code",
   "execution_count": 784,
   "metadata": {},
   "outputs": [
    {
     "name": "stdout",
     "output_type": "stream",
     "text": [
      "r2: 0.3209286989471666    MSE: 15.398506313071257\n"
     ]
    }
   ],
   "source": [
    "y_pred = search.predict(X_test)\n",
    "\n",
    "r2_score = forrest_model_reg.score(X_test, y_test)\n",
    "mse = mean_squared_error(y_test, y_pred)\n",
    "print(f'r2: {r2_score}    MSE: {mse}')"
   ]
  },
  {
   "cell_type": "code",
   "execution_count": 785,
   "metadata": {},
   "outputs": [
    {
     "name": "stdout",
     "output_type": "stream",
     "text": [
      "    Mean Absolute Error: 2.93 degrees.\n",
      "    Accuracy: 88.68 %.\n"
     ]
    },
    {
     "data": {
      "text/plain": [
       "(88.68, 2.93)"
      ]
     },
     "execution_count": 785,
     "metadata": {},
     "output_type": "execute_result"
    }
   ],
   "source": [
    "print_results(y_pred, y_test)"
   ]
  },
  {
   "cell_type": "code",
   "execution_count": 786,
   "metadata": {},
   "outputs": [
    {
     "name": "stdout",
     "output_type": "stream",
     "text": [
      "    Mean Absolute Error: 2.96 degrees.\n",
      "    Accuracy: 88.71 %.\n",
      "    Mean Absolute Error: 3.02 degrees.\n",
      "    Accuracy: 88.52 %.\n",
      "    Mean Absolute Error: 2.81 degrees.\n",
      "    Accuracy: 89.15 %.\n",
      "    Mean Absolute Error: 2.7 degrees.\n",
      "    Accuracy: 89.4 %.\n",
      "    Mean Absolute Error: 3.57 degrees.\n",
      "    Accuracy: 87.27 %.\n",
      "    Mean Absolute Error: 2.96 degrees.\n",
      "    Accuracy: 88.8 %.\n",
      "    Mean Absolute Error: 3.04 degrees.\n",
      "    Accuracy: 88.13 %.\n",
      "    Mean Absolute Error: 3.14 degrees.\n",
      "    Accuracy: 88.26 %.\n",
      "    Mean Absolute Error: 3.27 degrees.\n",
      "    Accuracy: 87.36 %.\n",
      "    Mean Absolute Error: 2.77 degrees.\n",
      "    Accuracy: 89.11 %.\n"
     ]
    }
   ],
   "source": [
    "results = []\n",
    "for n in range(10):\n",
    "        df_sparse_random = generate_new_sparse(pathsAndLinksDf, 0.30) # Random 30% samples\n",
    "        y = np.array(df_sparse_random['Path_LoadedSpeed'])\n",
    "        X = df_sparse.drop(['Links_SumOfCars', 'Path_LoadedSpeed', 'Path_LoadedTime'], axis = 1)\n",
    "        X = np.array(X)\n",
    "\n",
    "        X_train, X_test, y_train, y_test = train_test_split(X, y, test_size=0.3, shuffle=False)\n",
    "\n",
    "        forrest_model_reg = RandomForestRegressor(n_estimators = 75,criterion='squared_error',max_features= 'log2')\n",
    "        forrest_model_reg.fit(X_train, y_train)\n",
    "\n",
    "        forrest_predictions = forrest_model_reg.predict(X_test)\n",
    "        print_results(forrest_predictions, y_test)\n",
    "        results.append(save_accuracy(forrest_predictions, y_test))\n"
   ]
  },
  {
   "cell_type": "code",
   "execution_count": 787,
   "metadata": {},
   "outputs": [
    {
     "name": "stdout",
     "output_type": "stream",
     "text": [
      "Resultado médio ao rodar 10x random forest com dados esparsos: 88.47 %\n"
     ]
    }
   ],
   "source": [
    "def Average(lst):\n",
    "    return sum(lst) / len(lst)\n",
    "\n",
    "rf_LoadedSpeed_Sparse = round(Average(results), 2)\n",
    "print(\"Resultado médio ao rodar 10x random forest com dados esparsos:\", rf_LoadedSpeed_Sparse,\"%\")"
   ]
  },
  {
   "cell_type": "markdown",
   "metadata": {},
   "source": [
    "### Y = Path_LoadedTime (dados esparsados aleatoriamente)"
   ]
  },
  {
   "cell_type": "code",
   "execution_count": 788,
   "metadata": {},
   "outputs": [],
   "source": [
    "y = np.array(df_sparse_base['Path_LoadedTime'])\n",
    "X = df_sparse_base.drop(['Links_SumOfCars', 'Path_LoadedSpeed', 'Path_LoadedTime'], axis = 1)\n",
    "X = np.array(X)"
   ]
  },
  {
   "cell_type": "code",
   "execution_count": 789,
   "metadata": {},
   "outputs": [],
   "source": [
    "tscv = TimeSeriesSplit(n_splits=2)\n",
    "for train_index, test_index in tscv.split(X):\n",
    "    X_train, X_test = X[train_index], X[test_index]\n",
    "    y_train, y_test = y[train_index], y[test_index]"
   ]
  },
  {
   "cell_type": "code",
   "execution_count": 790,
   "metadata": {},
   "outputs": [
    {
     "data": {
      "text/plain": [
       "RandomForestRegressor(random_state=37)"
      ]
     },
     "execution_count": 790,
     "metadata": {},
     "output_type": "execute_result"
    }
   ],
   "source": [
    "forrest_model_reg = RandomForestRegressor(random_state=37)\n",
    "forrest_model_reg.fit(X_train, y_train)"
   ]
  },
  {
   "cell_type": "code",
   "execution_count": 791,
   "metadata": {},
   "outputs": [],
   "source": [
    "search_paramns = [{\n",
    "    'forest__criterion': [\"squared_error\", \"absolute_error\"],\n",
    "    'forest__n_estimators': list(range(65,80, 1)), \n",
    "    'forest__max_features': [\"sqrt\", \"log2\"]\n",
    "}]\n",
    "\n",
    "pipe = Pipeline([\n",
    "    ('forest', forrest_model_reg)\n",
    "])\n",
    "\n",
    "search = GridSearchCV(estimator=pipe,\n",
    "                     param_grid=search_paramns,\n",
    "                     cv=5,\n",
    "                     return_train_score=True)\n",
    "\n",
    "X_train, X_test, y_train, y_test = train_test_split(X, y, test_size=0.3, shuffle=False)\n"
   ]
  },
  {
   "cell_type": "code",
   "execution_count": 792,
   "metadata": {},
   "outputs": [
    {
     "name": "stdout",
     "output_type": "stream",
     "text": [
      "CPU times: total: 17.9 s\n",
      "Wall time: 18 s\n"
     ]
    },
    {
     "data": {
      "text/plain": [
       "GridSearchCV(cv=5,\n",
       "             estimator=Pipeline(steps=[('forest',\n",
       "                                        RandomForestRegressor(random_state=37))]),\n",
       "             param_grid=[{'forest__criterion': ['squared_error',\n",
       "                                                'absolute_error'],\n",
       "                          'forest__max_features': ['sqrt', 'log2'],\n",
       "                          'forest__n_estimators': [65, 66, 67, 68, 69, 70, 71,\n",
       "                                                   72, 73, 74, 75, 76, 77, 78,\n",
       "                                                   79]}],\n",
       "             return_train_score=True)"
      ]
     },
     "execution_count": 792,
     "metadata": {},
     "output_type": "execute_result"
    }
   ],
   "source": [
    "%%time\n",
    "search.fit(X_train, y_train)"
   ]
  },
  {
   "cell_type": "code",
   "execution_count": 793,
   "metadata": {},
   "outputs": [
    {
     "data": {
      "text/plain": [
       "{'forest__criterion': 'absolute_error',\n",
       " 'forest__max_features': 'sqrt',\n",
       " 'forest__n_estimators': 65}"
      ]
     },
     "execution_count": 793,
     "metadata": {},
     "output_type": "execute_result"
    }
   ],
   "source": [
    "search.best_params_"
   ]
  },
  {
   "cell_type": "code",
   "execution_count": 794,
   "metadata": {},
   "outputs": [
    {
     "data": {
      "text/plain": [
       "Pipeline(steps=[('forest',\n",
       "                 RandomForestRegressor(criterion='absolute_error',\n",
       "                                       max_features='sqrt', n_estimators=65,\n",
       "                                       random_state=37))])"
      ]
     },
     "execution_count": 794,
     "metadata": {},
     "output_type": "execute_result"
    }
   ],
   "source": [
    "search.best_estimator_"
   ]
  },
  {
   "cell_type": "code",
   "execution_count": 795,
   "metadata": {},
   "outputs": [
    {
     "name": "stdout",
     "output_type": "stream",
     "text": [
      "r2: 0.09964782420070695    MSE: 13.379334584282823\n"
     ]
    }
   ],
   "source": [
    "y_pred = search.predict(X_test)\n",
    "\n",
    "r2_score = forrest_model_reg.score(X_test, y_test)\n",
    "mse = mean_squared_error(y_test, y_pred)\n",
    "print(f'r2: {r2_score}    MSE: {mse}')"
   ]
  },
  {
   "cell_type": "code",
   "execution_count": 796,
   "metadata": {},
   "outputs": [
    {
     "name": "stdout",
     "output_type": "stream",
     "text": [
      "    Mean Absolute Error: 2.25 degrees.\n",
      "    Accuracy: 86.83 %.\n"
     ]
    },
    {
     "data": {
      "text/plain": [
       "(86.83, 2.25)"
      ]
     },
     "execution_count": 796,
     "metadata": {},
     "output_type": "execute_result"
    }
   ],
   "source": [
    "print_results(y_pred, y_test)"
   ]
  },
  {
   "cell_type": "code",
   "execution_count": 797,
   "metadata": {},
   "outputs": [
    {
     "name": "stdout",
     "output_type": "stream",
     "text": [
      "    Mean Absolute Error: 1.9 degrees.\n",
      "    Accuracy: 87.78 %.\n",
      "    Mean Absolute Error: 1.98 degrees.\n",
      "    Accuracy: 87.32 %.\n",
      "    Mean Absolute Error: 1.78 degrees.\n",
      "    Accuracy: 88.61 %.\n",
      "    Mean Absolute Error: 2.22 degrees.\n",
      "    Accuracy: 87.56 %.\n",
      "    Mean Absolute Error: 2.2 degrees.\n",
      "    Accuracy: 87.54 %.\n",
      "    Mean Absolute Error: 2.07 degrees.\n",
      "    Accuracy: 88.3 %.\n",
      "    Mean Absolute Error: 1.94 degrees.\n",
      "    Accuracy: 88.85 %.\n",
      "    Mean Absolute Error: 1.97 degrees.\n",
      "    Accuracy: 87.78 %.\n",
      "    Mean Absolute Error: 2.39 degrees.\n",
      "    Accuracy: 86.48 %.\n",
      "    Mean Absolute Error: 1.82 degrees.\n",
      "    Accuracy: 88.08 %.\n"
     ]
    }
   ],
   "source": [
    "results = []\n",
    "for n in range(10):\n",
    "        df_sparse_random = generate_new_sparse(pathsAndLinksDf, 0.30) # Random and sparse a 30% sample\n",
    "        y = np.array(df_sparse_random['Path_LoadedTime'])\n",
    "        X = df_sparse.drop(['Links_SumOfCars', 'Path_LoadedSpeed', 'Path_LoadedTime'], axis = 1)\n",
    "        X = np.array(X)\n",
    "\n",
    "        X_train, X_test, y_train, y_test = train_test_split(X, y, test_size=0.3, shuffle=False)\n",
    "\n",
    "        forrest_model_reg = RandomForestRegressor(n_estimators = 79,criterion='squared_error',max_features= 'log2')\n",
    "        forrest_model_reg.fit(X_train, y_train)\n",
    "\n",
    "        forrest_predictions = forrest_model_reg.predict(X_test)\n",
    "        print_results(forrest_predictions, y_test)\n",
    "        results.append(save_accuracy(forrest_predictions, y_test))\n"
   ]
  },
  {
   "cell_type": "code",
   "execution_count": 798,
   "metadata": {},
   "outputs": [
    {
     "name": "stdout",
     "output_type": "stream",
     "text": [
      "Resultado médio ao rodar 10x random forest com dados esparsos: 87.83 %\n"
     ]
    }
   ],
   "source": [
    "def Average(lst):\n",
    "    return sum(lst) / len(lst)\n",
    "\n",
    "rf_LoadedTime_Sparse = round(Average(results), 2)\n",
    "print(\"Resultado médio ao rodar 10x random forest com dados esparsos:\", rf_LoadedTime_Sparse,\"%\")"
   ]
  },
  {
   "cell_type": "markdown",
   "metadata": {},
   "source": [
    "## Remoção de colunas inteiras"
   ]
  },
  {
   "cell_type": "code",
   "execution_count": 799,
   "metadata": {},
   "outputs": [],
   "source": [
    "df_SparseColumns = pathsAndLinksDf.copy()"
   ]
  },
  {
   "cell_type": "code",
   "execution_count": 800,
   "metadata": {},
   "outputs": [],
   "source": [
    "df_SparseColumns = df_SparseColumns.drop(['Path_UnloadedTime', 'Path_UnloadedSpeed', 'Links_Count', 'Links_MaxOfCars', 'Links_AvgOfCars', 'Links_MaxLoadedSpeed', 'Links_AvgLoadedSpeed', 'Links_MaxUnloadedTime', 'Links_SumUnloadedTime', 'Links_MinLoadedTime', 'Links_MaxLoadedTime', 'Links_AvgLoadedTime', 'Links_SumLoadedTime'], axis=1)"
   ]
  },
  {
   "cell_type": "code",
   "execution_count": 801,
   "metadata": {},
   "outputs": [
    {
     "data": {
      "text/html": [
       "<div>\n",
       "<style scoped>\n",
       "    .dataframe tbody tr th:only-of-type {\n",
       "        vertical-align: middle;\n",
       "    }\n",
       "\n",
       "    .dataframe tbody tr th {\n",
       "        vertical-align: top;\n",
       "    }\n",
       "\n",
       "    .dataframe thead th {\n",
       "        text-align: right;\n",
       "    }\n",
       "</style>\n",
       "<table border=\"1\" class=\"dataframe\">\n",
       "  <thead>\n",
       "    <tr style=\"text-align: right;\">\n",
       "      <th></th>\n",
       "      <th>Path_LoadedTime</th>\n",
       "      <th>Path_LoadedSpeed</th>\n",
       "      <th>Links_MinCarCapacity</th>\n",
       "      <th>Links_MaxCarCapacity</th>\n",
       "      <th>Links_AvgCarCapacity</th>\n",
       "      <th>Links_SumCarCapacity</th>\n",
       "      <th>Links_MinLength</th>\n",
       "      <th>Links_MaxLength</th>\n",
       "      <th>Links_AvgLength</th>\n",
       "      <th>Links_SumLength</th>\n",
       "      <th>Links_MinOfCars</th>\n",
       "      <th>Links_SumOfCars</th>\n",
       "      <th>Links_MinLoadedSpeed</th>\n",
       "      <th>Links_MinUnloadedTime</th>\n",
       "      <th>Links_AvgUnloadedTime</th>\n",
       "    </tr>\n",
       "  </thead>\n",
       "  <tbody>\n",
       "    <tr>\n",
       "      <th>0</th>\n",
       "      <td>3.10</td>\n",
       "      <td>27</td>\n",
       "      <td>500</td>\n",
       "      <td>800</td>\n",
       "      <td>600</td>\n",
       "      <td>1800</td>\n",
       "      <td>0.066</td>\n",
       "      <td>0.167</td>\n",
       "      <td>0.111</td>\n",
       "      <td>0.332</td>\n",
       "      <td>179</td>\n",
       "      <td>702</td>\n",
       "      <td>28</td>\n",
       "      <td>8</td>\n",
       "      <td>13</td>\n",
       "    </tr>\n",
       "    <tr>\n",
       "      <th>1</th>\n",
       "      <td>3.10</td>\n",
       "      <td>27</td>\n",
       "      <td>500</td>\n",
       "      <td>800</td>\n",
       "      <td>600</td>\n",
       "      <td>1800</td>\n",
       "      <td>0.055</td>\n",
       "      <td>0.327</td>\n",
       "      <td>0.183</td>\n",
       "      <td>0.549</td>\n",
       "      <td>221</td>\n",
       "      <td>713</td>\n",
       "      <td>27</td>\n",
       "      <td>7</td>\n",
       "      <td>22</td>\n",
       "    </tr>\n",
       "    <tr>\n",
       "      <th>2</th>\n",
       "      <td>2.22</td>\n",
       "      <td>32</td>\n",
       "      <td>500</td>\n",
       "      <td>800</td>\n",
       "      <td>600</td>\n",
       "      <td>1800</td>\n",
       "      <td>0.090</td>\n",
       "      <td>0.252</td>\n",
       "      <td>0.171</td>\n",
       "      <td>0.513</td>\n",
       "      <td>271</td>\n",
       "      <td>856</td>\n",
       "      <td>25</td>\n",
       "      <td>11</td>\n",
       "      <td>21</td>\n",
       "    </tr>\n",
       "    <tr>\n",
       "      <th>3</th>\n",
       "      <td>3.32</td>\n",
       "      <td>26</td>\n",
       "      <td>500</td>\n",
       "      <td>2000</td>\n",
       "      <td>971</td>\n",
       "      <td>6800</td>\n",
       "      <td>0.051</td>\n",
       "      <td>0.183</td>\n",
       "      <td>0.120</td>\n",
       "      <td>0.840</td>\n",
       "      <td>76</td>\n",
       "      <td>2137</td>\n",
       "      <td>27</td>\n",
       "      <td>6</td>\n",
       "      <td>14</td>\n",
       "    </tr>\n",
       "    <tr>\n",
       "      <th>4</th>\n",
       "      <td>3.32</td>\n",
       "      <td>27</td>\n",
       "      <td>500</td>\n",
       "      <td>2000</td>\n",
       "      <td>860</td>\n",
       "      <td>4300</td>\n",
       "      <td>0.051</td>\n",
       "      <td>0.379</td>\n",
       "      <td>0.193</td>\n",
       "      <td>0.967</td>\n",
       "      <td>143</td>\n",
       "      <td>1718</td>\n",
       "      <td>21</td>\n",
       "      <td>6</td>\n",
       "      <td>23</td>\n",
       "    </tr>\n",
       "    <tr>\n",
       "      <th>...</th>\n",
       "      <td>...</td>\n",
       "      <td>...</td>\n",
       "      <td>...</td>\n",
       "      <td>...</td>\n",
       "      <td>...</td>\n",
       "      <td>...</td>\n",
       "      <td>...</td>\n",
       "      <td>...</td>\n",
       "      <td>...</td>\n",
       "      <td>...</td>\n",
       "      <td>...</td>\n",
       "      <td>...</td>\n",
       "      <td>...</td>\n",
       "      <td>...</td>\n",
       "      <td>...</td>\n",
       "    </tr>\n",
       "    <tr>\n",
       "      <th>134</th>\n",
       "      <td>15.18</td>\n",
       "      <td>39</td>\n",
       "      <td>500</td>\n",
       "      <td>4200</td>\n",
       "      <td>2288</td>\n",
       "      <td>77800</td>\n",
       "      <td>0.016</td>\n",
       "      <td>1.062</td>\n",
       "      <td>0.263</td>\n",
       "      <td>8.927</td>\n",
       "      <td>59</td>\n",
       "      <td>52458</td>\n",
       "      <td>12</td>\n",
       "      <td>1</td>\n",
       "      <td>17</td>\n",
       "    </tr>\n",
       "    <tr>\n",
       "      <th>135</th>\n",
       "      <td>9.54</td>\n",
       "      <td>19</td>\n",
       "      <td>500</td>\n",
       "      <td>4200</td>\n",
       "      <td>1918</td>\n",
       "      <td>32600</td>\n",
       "      <td>0.007</td>\n",
       "      <td>0.658</td>\n",
       "      <td>0.159</td>\n",
       "      <td>2.704</td>\n",
       "      <td>6</td>\n",
       "      <td>31988</td>\n",
       "      <td>16</td>\n",
       "      <td>0</td>\n",
       "      <td>14</td>\n",
       "    </tr>\n",
       "    <tr>\n",
       "      <th>136</th>\n",
       "      <td>9.53</td>\n",
       "      <td>21</td>\n",
       "      <td>500</td>\n",
       "      <td>4200</td>\n",
       "      <td>1555</td>\n",
       "      <td>31100</td>\n",
       "      <td>0.007</td>\n",
       "      <td>0.658</td>\n",
       "      <td>0.140</td>\n",
       "      <td>2.807</td>\n",
       "      <td>6</td>\n",
       "      <td>30513</td>\n",
       "      <td>12</td>\n",
       "      <td>0</td>\n",
       "      <td>13</td>\n",
       "    </tr>\n",
       "    <tr>\n",
       "      <th>137</th>\n",
       "      <td>10.33</td>\n",
       "      <td>25</td>\n",
       "      <td>500</td>\n",
       "      <td>4200</td>\n",
       "      <td>2609</td>\n",
       "      <td>57400</td>\n",
       "      <td>0.019</td>\n",
       "      <td>0.493</td>\n",
       "      <td>0.171</td>\n",
       "      <td>3.759</td>\n",
       "      <td>6</td>\n",
       "      <td>47133</td>\n",
       "      <td>16</td>\n",
       "      <td>1</td>\n",
       "      <td>12</td>\n",
       "    </tr>\n",
       "    <tr>\n",
       "      <th>138</th>\n",
       "      <td>27.90</td>\n",
       "      <td>26</td>\n",
       "      <td>500</td>\n",
       "      <td>4200</td>\n",
       "      <td>1451</td>\n",
       "      <td>53700</td>\n",
       "      <td>0.010</td>\n",
       "      <td>1.358</td>\n",
       "      <td>0.309</td>\n",
       "      <td>11.429</td>\n",
       "      <td>23</td>\n",
       "      <td>40614</td>\n",
       "      <td>16</td>\n",
       "      <td>1</td>\n",
       "      <td>24</td>\n",
       "    </tr>\n",
       "  </tbody>\n",
       "</table>\n",
       "<p>139 rows × 15 columns</p>\n",
       "</div>"
      ],
      "text/plain": [
       "     Path_LoadedTime  Path_LoadedSpeed  Links_MinCarCapacity  \\\n",
       "0               3.10                27                   500   \n",
       "1               3.10                27                   500   \n",
       "2               2.22                32                   500   \n",
       "3               3.32                26                   500   \n",
       "4               3.32                27                   500   \n",
       "..               ...               ...                   ...   \n",
       "134            15.18                39                   500   \n",
       "135             9.54                19                   500   \n",
       "136             9.53                21                   500   \n",
       "137            10.33                25                   500   \n",
       "138            27.90                26                   500   \n",
       "\n",
       "     Links_MaxCarCapacity  Links_AvgCarCapacity  Links_SumCarCapacity  \\\n",
       "0                     800                   600                  1800   \n",
       "1                     800                   600                  1800   \n",
       "2                     800                   600                  1800   \n",
       "3                    2000                   971                  6800   \n",
       "4                    2000                   860                  4300   \n",
       "..                    ...                   ...                   ...   \n",
       "134                  4200                  2288                 77800   \n",
       "135                  4200                  1918                 32600   \n",
       "136                  4200                  1555                 31100   \n",
       "137                  4200                  2609                 57400   \n",
       "138                  4200                  1451                 53700   \n",
       "\n",
       "     Links_MinLength  Links_MaxLength  Links_AvgLength  Links_SumLength  \\\n",
       "0              0.066            0.167            0.111            0.332   \n",
       "1              0.055            0.327            0.183            0.549   \n",
       "2              0.090            0.252            0.171            0.513   \n",
       "3              0.051            0.183            0.120            0.840   \n",
       "4              0.051            0.379            0.193            0.967   \n",
       "..               ...              ...              ...              ...   \n",
       "134            0.016            1.062            0.263            8.927   \n",
       "135            0.007            0.658            0.159            2.704   \n",
       "136            0.007            0.658            0.140            2.807   \n",
       "137            0.019            0.493            0.171            3.759   \n",
       "138            0.010            1.358            0.309           11.429   \n",
       "\n",
       "     Links_MinOfCars  Links_SumOfCars  Links_MinLoadedSpeed  \\\n",
       "0                179              702                    28   \n",
       "1                221              713                    27   \n",
       "2                271              856                    25   \n",
       "3                 76             2137                    27   \n",
       "4                143             1718                    21   \n",
       "..               ...              ...                   ...   \n",
       "134               59            52458                    12   \n",
       "135                6            31988                    16   \n",
       "136                6            30513                    12   \n",
       "137                6            47133                    16   \n",
       "138               23            40614                    16   \n",
       "\n",
       "     Links_MinUnloadedTime  Links_AvgUnloadedTime  \n",
       "0                        8                     13  \n",
       "1                        7                     22  \n",
       "2                       11                     21  \n",
       "3                        6                     14  \n",
       "4                        6                     23  \n",
       "..                     ...                    ...  \n",
       "134                      1                     17  \n",
       "135                      0                     14  \n",
       "136                      0                     13  \n",
       "137                      1                     12  \n",
       "138                      1                     24  \n",
       "\n",
       "[139 rows x 15 columns]"
      ]
     },
     "execution_count": 801,
     "metadata": {},
     "output_type": "execute_result"
    }
   ],
   "source": [
    "df_SparseColumns"
   ]
  },
  {
   "cell_type": "markdown",
   "metadata": {},
   "source": [
    "### Y = Links_SumOfCars (colunas removidas)"
   ]
  },
  {
   "cell_type": "code",
   "execution_count": 802,
   "metadata": {},
   "outputs": [],
   "source": [
    "df_SparseColumn_SumOfCars = df_SparseColumns.copy()"
   ]
  },
  {
   "cell_type": "code",
   "execution_count": 803,
   "metadata": {},
   "outputs": [],
   "source": [
    "y = np.array(df_SparseColumn_SumOfCars['Links_SumOfCars'])\n",
    "X = df_SparseColumn_SumOfCars.drop(['Links_SumOfCars', 'Path_LoadedSpeed', 'Path_LoadedTime'], axis = 1)\n",
    "x_names = list(X.columns)\n",
    "X = np.array(X)"
   ]
  },
  {
   "cell_type": "code",
   "execution_count": 804,
   "metadata": {},
   "outputs": [],
   "source": [
    "tscv = TimeSeriesSplit(n_splits=2)\n",
    "for train_index, test_index in tscv.split(X):\n",
    "    X_train, X_test = X[train_index], X[test_index]\n",
    "    y_train, y_test = y[train_index], y[test_index]"
   ]
  },
  {
   "cell_type": "markdown",
   "metadata": {},
   "source": [
    "#### Decision Tree Regressor Pipeline (Links_SumOfCars com colunas removidas)"
   ]
  },
  {
   "cell_type": "code",
   "execution_count": 805,
   "metadata": {},
   "outputs": [
    {
     "data": {
      "text/plain": [
       "DecisionTreeRegressor(random_state=42)"
      ]
     },
     "execution_count": 805,
     "metadata": {},
     "output_type": "execute_result"
    }
   ],
   "source": [
    "DT_regressor = DecisionTreeRegressor(random_state=42)\n",
    "DT_regressor.fit(X_train, y_train)"
   ]
  },
  {
   "cell_type": "code",
   "execution_count": 806,
   "metadata": {},
   "outputs": [],
   "source": [
    "search_paramns = [\n",
    "    dict(dec_tree__criterion=[\"squared_error\", \"friedman_mse\", \"absolute_error\", \"poisson\"],\n",
    "         dec_tree__max_depth=list(range(10,100,15)),\n",
    "            dec_tree__max_features=[\"auto\",\"sqrt\", \"log2\"])\n",
    "]\n",
    "\n",
    "pipe = Pipeline([\n",
    "    ('dec_tree', DT_regressor)\n",
    "])\n",
    "\n",
    "search = GridSearchCV(estimator=pipe,\n",
    "                     param_grid=search_paramns,\n",
    "                     cv=tscv,\n",
    "                     return_train_score=True)\n",
    "\n",
    "X_train, X_test, y_train, y_test = train_test_split(X, y, test_size=0.3, shuffle=False)"
   ]
  },
  {
   "cell_type": "code",
   "execution_count": 807,
   "metadata": {},
   "outputs": [
    {
     "name": "stdout",
     "output_type": "stream",
     "text": [
      "CPU times: total: 172 ms\n",
      "Wall time: 167 ms\n"
     ]
    },
    {
     "data": {
      "text/plain": [
       "GridSearchCV(cv=TimeSeriesSplit(gap=0, max_train_size=None, n_splits=2, test_size=None),\n",
       "             estimator=Pipeline(steps=[('dec_tree',\n",
       "                                        DecisionTreeRegressor(random_state=42))]),\n",
       "             param_grid=[{'dec_tree__criterion': ['squared_error',\n",
       "                                                  'friedman_mse',\n",
       "                                                  'absolute_error', 'poisson'],\n",
       "                          'dec_tree__max_depth': [10, 25, 40, 55, 70, 85],\n",
       "                          'dec_tree__max_features': ['auto', 'sqrt', 'log2']}],\n",
       "             return_train_score=True)"
      ]
     },
     "execution_count": 807,
     "metadata": {},
     "output_type": "execute_result"
    }
   ],
   "source": [
    "%%time\n",
    "search.fit(X_train, y_train)"
   ]
  },
  {
   "cell_type": "code",
   "execution_count": 808,
   "metadata": {},
   "outputs": [
    {
     "data": {
      "text/plain": [
       "{'dec_tree__criterion': 'squared_error',\n",
       " 'dec_tree__max_depth': 25,\n",
       " 'dec_tree__max_features': 'auto'}"
      ]
     },
     "execution_count": 808,
     "metadata": {},
     "output_type": "execute_result"
    }
   ],
   "source": [
    "search.best_params_"
   ]
  },
  {
   "cell_type": "code",
   "execution_count": 809,
   "metadata": {},
   "outputs": [
    {
     "data": {
      "text/plain": [
       "Pipeline(steps=[('dec_tree',\n",
       "                 DecisionTreeRegressor(max_depth=25, max_features='auto',\n",
       "                                       random_state=42))])"
      ]
     },
     "execution_count": 809,
     "metadata": {},
     "output_type": "execute_result"
    }
   ],
   "source": [
    "search.best_estimator_\n"
   ]
  },
  {
   "cell_type": "code",
   "execution_count": 810,
   "metadata": {},
   "outputs": [
    {
     "name": "stdout",
     "output_type": "stream",
     "text": [
      "r2: 0.23417718401091359    MSE: 117092280.40476191\n"
     ]
    }
   ],
   "source": [
    "y_pred = search.predict(X_test)\n",
    "\n",
    "r2_score = DT_regressor.score(X_test, y_test)\n",
    "mse = mean_squared_error(y_test, y_pred)\n",
    "print(f'r2: {r2_score}    MSE: {mse}')"
   ]
  },
  {
   "cell_type": "code",
   "execution_count": 811,
   "metadata": {},
   "outputs": [
    {
     "name": "stdout",
     "output_type": "stream",
     "text": [
      "    Mean Absolute Error: 8970.83 degrees.\n",
      "    Accuracy: 77.11 %.\n"
     ]
    },
    {
     "data": {
      "text/plain": [
       "(77.11, 8970.83)"
      ]
     },
     "execution_count": 811,
     "metadata": {},
     "output_type": "execute_result"
    }
   ],
   "source": [
    "print_results(y_pred, y_test)"
   ]
  },
  {
   "cell_type": "code",
   "execution_count": 812,
   "metadata": {},
   "outputs": [
    {
     "data": {
      "text/plain": [
       "<matplotlib.collections.PathCollection at 0x1f16193dba0>"
      ]
     },
     "execution_count": 812,
     "metadata": {},
     "output_type": "execute_result"
    },
    {
     "data": {
      "image/png": "[encoded data removed]",
      "text/plain": [
       "<Figure size 432x288 with 1 Axes>"
      ]
     },
     "metadata": {
      "needs_background": "light"
     },
     "output_type": "display_data"
    }
   ],
   "source": [
    "plt.scatter(y_test, y_test, c='red', alpha=0.5)\n",
    "plt.scatter(y_test, y_pred, c='blue', alpha=0.5)"
   ]
  },
  {
   "cell_type": "markdown",
   "metadata": {},
   "source": [
    "#### Random Forest Pipeline (Links_SumOfCars com colunas removidas)"
   ]
  },
  {
   "cell_type": "code",
   "execution_count": 813,
   "metadata": {},
   "outputs": [
    {
     "data": {
      "text/plain": [
       "RandomForestRegressor(random_state=37)"
      ]
     },
     "execution_count": 813,
     "metadata": {},
     "output_type": "execute_result"
    }
   ],
   "source": [
    "forrest_model_reg = RandomForestRegressor(random_state=37)\n",
    "forrest_model_reg.fit(X_train, y_train)"
   ]
  },
  {
   "cell_type": "code",
   "execution_count": 814,
   "metadata": {},
   "outputs": [],
   "source": [
    "search_paramns = [{\n",
    "    'forest__criterion': [\"squared_error\", \"absolute_error\"],\n",
    "    'forest__n_estimators': list(range(1, 20, 1)), \n",
    "    'forest__max_features': [\"sqrt\", \"log2\"]\n",
    "}]\n",
    "\n",
    "pipe = Pipeline([\n",
    "    ('forest', forrest_model_reg)\n",
    "])\n",
    "\n",
    "search = GridSearchCV(estimator=pipe,\n",
    "                     param_grid=search_paramns,\n",
    "                     cv=5,\n",
    "                     return_train_score=True)\n",
    "\n",
    "X_train, X_test, y_train, y_test = train_test_split(X, y, test_size=0.3, shuffle=False)"
   ]
  },
  {
   "cell_type": "code",
   "execution_count": 815,
   "metadata": {},
   "outputs": [
    {
     "name": "stdout",
     "output_type": "stream",
     "text": [
      "CPU times: total: 3.16 s\n",
      "Wall time: 3.18 s\n"
     ]
    },
    {
     "data": {
      "text/plain": [
       "GridSearchCV(cv=5,\n",
       "             estimator=Pipeline(steps=[('forest',\n",
       "                                        RandomForestRegressor(random_state=37))]),\n",
       "             param_grid=[{'forest__criterion': ['squared_error',\n",
       "                                                'absolute_error'],\n",
       "                          'forest__max_features': ['sqrt', 'log2'],\n",
       "                          'forest__n_estimators': [1, 2, 3, 4, 5, 6, 7, 8, 9,\n",
       "                                                   10, 11, 12, 13, 14, 15, 16,\n",
       "                                                   17, 18, 19]}],\n",
       "             return_train_score=True)"
      ]
     },
     "execution_count": 815,
     "metadata": {},
     "output_type": "execute_result"
    }
   ],
   "source": [
    "%%time\n",
    "search.fit(X_train, y_train)"
   ]
  },
  {
   "cell_type": "code",
   "execution_count": 816,
   "metadata": {},
   "outputs": [
    {
     "data": {
      "text/plain": [
       "{'forest__criterion': 'absolute_error',\n",
       " 'forest__max_features': 'sqrt',\n",
       " 'forest__n_estimators': 6}"
      ]
     },
     "execution_count": 816,
     "metadata": {},
     "output_type": "execute_result"
    }
   ],
   "source": [
    "search.best_params_"
   ]
  },
  {
   "cell_type": "code",
   "execution_count": 817,
   "metadata": {},
   "outputs": [
    {
     "data": {
      "text/plain": [
       "Pipeline(steps=[('forest',\n",
       "                 RandomForestRegressor(criterion='absolute_error',\n",
       "                                       max_features='sqrt', n_estimators=6,\n",
       "                                       random_state=37))])"
      ]
     },
     "execution_count": 817,
     "metadata": {},
     "output_type": "execute_result"
    }
   ],
   "source": [
    "search.best_estimator_"
   ]
  },
  {
   "cell_type": "code",
   "execution_count": 818,
   "metadata": {},
   "outputs": [
    {
     "name": "stdout",
     "output_type": "stream",
     "text": [
      "r2: 0.5509792181351337    MSE: 55839197.26322753\n"
     ]
    }
   ],
   "source": [
    "y_pred = search.predict(X_test)\n",
    "\n",
    "r2_score = forrest_model_reg.score(X_test, y_test)\n",
    "mse = mean_squared_error(y_test, y_pred)\n",
    "print(f'r2: {r2_score}    MSE: {mse}')"
   ]
  },
  {
   "cell_type": "code",
   "execution_count": 819,
   "metadata": {},
   "outputs": [
    {
     "name": "stdout",
     "output_type": "stream",
     "text": [
      "    Mean Absolute Error: 6045.87 degrees.\n",
      "    Accuracy: 83.0 %.\n"
     ]
    },
    {
     "data": {
      "text/plain": [
       "(83.0, 6045.87)"
      ]
     },
     "execution_count": 819,
     "metadata": {},
     "output_type": "execute_result"
    }
   ],
   "source": [
    "print_results(y_pred, y_test)"
   ]
  },
  {
   "cell_type": "code",
   "execution_count": 820,
   "metadata": {},
   "outputs": [
    {
     "name": "stdout",
     "output_type": "stream",
     "text": [
      "    Mean Absolute Error: 4498.13 degrees.\n",
      "    Accuracy: 87.12 %.\n"
     ]
    },
    {
     "data": {
      "text/plain": [
       "(87.12, 4498.13)"
      ]
     },
     "execution_count": 820,
     "metadata": {},
     "output_type": "execute_result"
    }
   ],
   "source": [
    "forrest_model_reg = RandomForestRegressor(n_estimators = 13,criterion='absolute_error',max_features= 'sqrt', random_state=37)\n",
    "forrest_model_reg.fit(X_train, y_train)\n",
    "\n",
    "forrest_predictions = forrest_model_reg.predict(X_test)\n",
    "print_results(forrest_predictions, y_test)"
   ]
  },
  {
   "cell_type": "code",
   "execution_count": 821,
   "metadata": {},
   "outputs": [
    {
     "data": {
      "text/plain": [
       "<matplotlib.collections.PathCollection at 0x1f1619e26b0>"
      ]
     },
     "execution_count": 821,
     "metadata": {},
     "output_type": "execute_result"
    },
    {
     "data": {
      "image/png": "[encoded data removed]",
      "text/plain": [
       "<Figure size 432x288 with 1 Axes>"
      ]
     },
     "metadata": {
      "needs_background": "light"
     },
     "output_type": "display_data"
    }
   ],
   "source": [
    "plt.scatter(y_test, y_test, c='red', alpha=0.5)\n",
    "plt.scatter(y_test, forrest_predictions, c='blue', alpha=0.5)"
   ]
  },
  {
   "cell_type": "code",
   "execution_count": 822,
   "metadata": {},
   "outputs": [],
   "source": [
    "rf_SumOfCars_LessColumn = save_accuracy(forrest_predictions, y_test)"
   ]
  },
  {
   "cell_type": "markdown",
   "metadata": {},
   "source": [
    "### Y = Path_LoadedSpeed (colunas removidas)"
   ]
  },
  {
   "cell_type": "code",
   "execution_count": 823,
   "metadata": {},
   "outputs": [],
   "source": [
    "df_SparseColumn_LoadedSpeed = df_SparseColumns.copy()"
   ]
  },
  {
   "cell_type": "code",
   "execution_count": 824,
   "metadata": {},
   "outputs": [],
   "source": [
    "y = np.array(df_SparseColumn_LoadedSpeed ['Path_LoadedSpeed'])\n",
    "X = df_SparseColumn_LoadedSpeed .drop(['Links_SumOfCars', 'Path_LoadedSpeed', 'Path_LoadedTime'], axis = 1)\n",
    "x_names = list(X.columns)\n",
    "X = np.array(X)"
   ]
  },
  {
   "cell_type": "code",
   "execution_count": 825,
   "metadata": {},
   "outputs": [],
   "source": [
    "tscv = TimeSeriesSplit(n_splits=2)\n",
    "for train_index, test_index in tscv.split(X):\n",
    "    X_train, X_test = X[train_index], X[test_index]\n",
    "    y_train, y_test = y[train_index], y[test_index]"
   ]
  },
  {
   "cell_type": "markdown",
   "metadata": {},
   "source": [
    "#### Decision Tree Regressor Pipeline (Path_LoadedSpeed colunas removidas)"
   ]
  },
  {
   "cell_type": "code",
   "execution_count": 826,
   "metadata": {},
   "outputs": [
    {
     "data": {
      "text/plain": [
       "DecisionTreeRegressor(random_state=42)"
      ]
     },
     "execution_count": 826,
     "metadata": {},
     "output_type": "execute_result"
    }
   ],
   "source": [
    "DT_regressor = DecisionTreeRegressor(random_state=42)\n",
    "DT_regressor.fit(X_train, y_train)"
   ]
  },
  {
   "cell_type": "code",
   "execution_count": 827,
   "metadata": {},
   "outputs": [],
   "source": [
    "search_paramns = [\n",
    "    dict(dec_tree__criterion=[\"squared_error\", \"friedman_mse\", \"absolute_error\", \"poisson\"],\n",
    "         dec_tree__max_depth=list(range(10,200,50)),\n",
    "            dec_tree__max_features=[\"auto\",\"sqrt\", \"log2\"])\n",
    "]\n",
    "\n",
    "pipe = Pipeline([\n",
    "    ('dec_tree', DT_regressor)\n",
    "])\n",
    "\n",
    "search = GridSearchCV(estimator=pipe,\n",
    "                     param_grid=search_paramns,\n",
    "                     cv=tscv,\n",
    "                     return_train_score=True)\n",
    "\n",
    "X_train, X_test, y_train, y_test = train_test_split(X, y, test_size=0.3, shuffle=False)"
   ]
  },
  {
   "cell_type": "code",
   "execution_count": 828,
   "metadata": {},
   "outputs": [
    {
     "name": "stdout",
     "output_type": "stream",
     "text": [
      "CPU times: total: 93.8 ms\n",
      "Wall time: 112 ms\n"
     ]
    },
    {
     "data": {
      "text/plain": [
       "GridSearchCV(cv=TimeSeriesSplit(gap=0, max_train_size=None, n_splits=2, test_size=None),\n",
       "             estimator=Pipeline(steps=[('dec_tree',\n",
       "                                        DecisionTreeRegressor(random_state=42))]),\n",
       "             param_grid=[{'dec_tree__criterion': ['squared_error',\n",
       "                                                  'friedman_mse',\n",
       "                                                  'absolute_error', 'poisson'],\n",
       "                          'dec_tree__max_depth': [10, 60, 110, 160],\n",
       "                          'dec_tree__max_features': ['auto', 'sqrt', 'log2']}],\n",
       "             return_train_score=True)"
      ]
     },
     "execution_count": 828,
     "metadata": {},
     "output_type": "execute_result"
    }
   ],
   "source": [
    "%%time\n",
    "search.fit(X_train, y_train)"
   ]
  },
  {
   "cell_type": "code",
   "execution_count": 829,
   "metadata": {},
   "outputs": [
    {
     "data": {
      "text/plain": [
       "{'dec_tree__criterion': 'poisson',\n",
       " 'dec_tree__max_depth': 10,\n",
       " 'dec_tree__max_features': 'sqrt'}"
      ]
     },
     "execution_count": 829,
     "metadata": {},
     "output_type": "execute_result"
    }
   ],
   "source": [
    "search.best_params_"
   ]
  },
  {
   "cell_type": "code",
   "execution_count": 830,
   "metadata": {},
   "outputs": [
    {
     "data": {
      "text/plain": [
       "Pipeline(steps=[('dec_tree',\n",
       "                 DecisionTreeRegressor(criterion='poisson', max_depth=10,\n",
       "                                       max_features='sqrt', random_state=42))])"
      ]
     },
     "execution_count": 830,
     "metadata": {},
     "output_type": "execute_result"
    }
   ],
   "source": [
    "search.best_estimator_"
   ]
  },
  {
   "cell_type": "code",
   "execution_count": 831,
   "metadata": {},
   "outputs": [
    {
     "name": "stdout",
     "output_type": "stream",
     "text": [
      "r2: -1.1613138686131386    MSE: 24.141666666666666\n"
     ]
    }
   ],
   "source": [
    "y_pred = search.predict(X_test)\n",
    "\n",
    "r2_score = DT_regressor.score(X_test, y_test)\n",
    "mse = mean_squared_error(y_test, y_pred)\n",
    "print(f'r2: {r2_score}    MSE: {mse}')"
   ]
  },
  {
   "cell_type": "code",
   "execution_count": 832,
   "metadata": {},
   "outputs": [
    {
     "name": "stdout",
     "output_type": "stream",
     "text": [
      "    Mean Absolute Error: 3.59 degrees.\n",
      "    Accuracy: 85.95 %.\n"
     ]
    },
    {
     "data": {
      "text/plain": [
       "(85.95, 3.59)"
      ]
     },
     "execution_count": 832,
     "metadata": {},
     "output_type": "execute_result"
    }
   ],
   "source": [
    "print_results(y_pred, y_test)"
   ]
  },
  {
   "cell_type": "code",
   "execution_count": 833,
   "metadata": {},
   "outputs": [
    {
     "data": {
      "text/plain": [
       "<matplotlib.collections.PathCollection at 0x1f161a54700>"
      ]
     },
     "execution_count": 833,
     "metadata": {},
     "output_type": "execute_result"
    },
    {
     "data": {
      "image/png": "[encoded data removed]",
      "text/plain": [
       "<Figure size 432x288 with 1 Axes>"
      ]
     },
     "metadata": {
      "needs_background": "light"
     },
     "output_type": "display_data"
    }
   ],
   "source": [
    "plt.scatter(y_test, y_test, c='red', alpha=0.5)\n",
    "plt.scatter(y_test, y_pred, c='blue', alpha=0.5)"
   ]
  },
  {
   "cell_type": "markdown",
   "metadata": {},
   "source": [
    "#### Random Forest Pipeline (Path_LoadedSpeed colunas removidas)"
   ]
  },
  {
   "cell_type": "code",
   "execution_count": 834,
   "metadata": {},
   "outputs": [
    {
     "data": {
      "text/plain": [
       "RandomForestRegressor(random_state=37)"
      ]
     },
     "execution_count": 834,
     "metadata": {},
     "output_type": "execute_result"
    }
   ],
   "source": [
    "forrest_model_reg = RandomForestRegressor(random_state=37)\n",
    "forrest_model_reg.fit(X_train, y_train)"
   ]
  },
  {
   "cell_type": "code",
   "execution_count": 835,
   "metadata": {},
   "outputs": [],
   "source": [
    "search_paramns = [{\n",
    "    'forest__criterion': [\"squared_error\", \"absolute_error\"],\n",
    "    'forest__n_estimators': list(range(10,200, 20)), \n",
    "    'forest__max_features': [\"sqrt\", \"log2\"]\n",
    "}]\n",
    "\n",
    "pipe = Pipeline([\n",
    "    ('forest', forrest_model_reg)\n",
    "])\n",
    "\n",
    "search = GridSearchCV(estimator=pipe,\n",
    "                     param_grid=search_paramns,\n",
    "                     cv=5,\n",
    "                     return_train_score=True)\n",
    "\n",
    "X_train, X_test, y_train, y_test = train_test_split(X, y, test_size=0.3, shuffle=False)"
   ]
  },
  {
   "cell_type": "code",
   "execution_count": 836,
   "metadata": {},
   "outputs": [
    {
     "name": "stdout",
     "output_type": "stream",
     "text": [
      "CPU times: total: 14.5 s\n",
      "Wall time: 14.6 s\n"
     ]
    },
    {
     "data": {
      "text/plain": [
       "GridSearchCV(cv=5,\n",
       "             estimator=Pipeline(steps=[('forest',\n",
       "                                        RandomForestRegressor(random_state=37))]),\n",
       "             param_grid=[{'forest__criterion': ['squared_error',\n",
       "                                                'absolute_error'],\n",
       "                          'forest__max_features': ['sqrt', 'log2'],\n",
       "                          'forest__n_estimators': [10, 30, 50, 70, 90, 110, 130,\n",
       "                                                   150, 170, 190]}],\n",
       "             return_train_score=True)"
      ]
     },
     "execution_count": 836,
     "metadata": {},
     "output_type": "execute_result"
    }
   ],
   "source": [
    "%%time\n",
    "search.fit(X_train, y_train)"
   ]
  },
  {
   "cell_type": "code",
   "execution_count": 837,
   "metadata": {},
   "outputs": [
    {
     "data": {
      "text/plain": [
       "{'forest__criterion': 'squared_error',\n",
       " 'forest__max_features': 'sqrt',\n",
       " 'forest__n_estimators': 30}"
      ]
     },
     "execution_count": 837,
     "metadata": {},
     "output_type": "execute_result"
    }
   ],
   "source": [
    "search.best_params_"
   ]
  },
  {
   "cell_type": "code",
   "execution_count": 838,
   "metadata": {},
   "outputs": [
    {
     "data": {
      "text/plain": [
       "Pipeline(steps=[('forest',\n",
       "                 RandomForestRegressor(max_features='sqrt', n_estimators=30,\n",
       "                                       random_state=37))])"
      ]
     },
     "execution_count": 838,
     "metadata": {},
     "output_type": "execute_result"
    }
   ],
   "source": [
    "search.best_estimator_"
   ]
  },
  {
   "cell_type": "code",
   "execution_count": 839,
   "metadata": {},
   "outputs": [
    {
     "name": "stdout",
     "output_type": "stream",
     "text": [
      "r2: 0.4423247445255474    MSE: 17.01373015873016\n"
     ]
    }
   ],
   "source": [
    "y_pred = search.predict(X_test)\n",
    "\n",
    "r2_score = forrest_model_reg.score(X_test, y_test)\n",
    "mse = mean_squared_error(y_test, y_pred)\n",
    "print(f'r2: {r2_score}    MSE: {mse}')"
   ]
  },
  {
   "cell_type": "code",
   "execution_count": 840,
   "metadata": {},
   "outputs": [
    {
     "name": "stdout",
     "output_type": "stream",
     "text": [
      "    Mean Absolute Error: 3.0 degrees.\n",
      "    Accuracy: 88.92 %.\n"
     ]
    },
    {
     "data": {
      "text/plain": [
       "(88.92, 3.0)"
      ]
     },
     "execution_count": 840,
     "metadata": {},
     "output_type": "execute_result"
    }
   ],
   "source": [
    "print_results(y_pred, y_test)"
   ]
  },
  {
   "cell_type": "code",
   "execution_count": 841,
   "metadata": {},
   "outputs": [
    {
     "name": "stdout",
     "output_type": "stream",
     "text": [
      "    Mean Absolute Error: 3.52 degrees.\n",
      "    Accuracy: 87.08 %.\n"
     ]
    },
    {
     "data": {
      "text/plain": [
       "(87.08, 3.52)"
      ]
     },
     "execution_count": 841,
     "metadata": {},
     "output_type": "execute_result"
    }
   ],
   "source": [
    "forrest_model_reg = RandomForestRegressor(n_estimators = 30,criterion='absolute_error',max_features= 'sqrt', random_state=37)\n",
    "forrest_model_reg.fit(X_train, y_train)\n",
    "\n",
    "forrest_predictions = forrest_model_reg.predict(X_test)\n",
    "print_results(forrest_predictions, y_test)"
   ]
  },
  {
   "cell_type": "code",
   "execution_count": 842,
   "metadata": {},
   "outputs": [
    {
     "data": {
      "text/plain": [
       "<matplotlib.collections.PathCollection at 0x1f161a56620>"
      ]
     },
     "execution_count": 842,
     "metadata": {},
     "output_type": "execute_result"
    },
    {
     "data": {
      "image/png": "[encoded data removed]",
      "text/plain": [
       "<Figure size 432x288 with 1 Axes>"
      ]
     },
     "metadata": {
      "needs_background": "light"
     },
     "output_type": "display_data"
    }
   ],
   "source": [
    "plt.scatter(y_test, y_test, c='red', alpha=0.5)\n",
    "plt.scatter(y_test, forrest_predictions, c='blue', alpha=0.5)"
   ]
  },
  {
   "cell_type": "code",
   "execution_count": 843,
   "metadata": {},
   "outputs": [],
   "source": [
    "rf_LoadedSpeed_LessColumn = save_accuracy(forrest_predictions, y_test)"
   ]
  },
  {
   "cell_type": "markdown",
   "metadata": {},
   "source": [
    "### Y = Path_LoadedTime (colunas removidas)"
   ]
  },
  {
   "cell_type": "code",
   "execution_count": 844,
   "metadata": {},
   "outputs": [],
   "source": [
    "df_SparseColumn_LoadedTime = df_SparseColumns.copy()"
   ]
  },
  {
   "cell_type": "code",
   "execution_count": 845,
   "metadata": {},
   "outputs": [],
   "source": [
    "y = np.array(df_SparseColumn_LoadedTime ['Path_LoadedSpeed'])\n",
    "X = df_SparseColumn_LoadedTime .drop(['Links_SumOfCars', 'Path_LoadedSpeed', 'Path_LoadedTime'], axis = 1)\n",
    "x_names = list(X.columns)\n",
    "X = np.array(X)"
   ]
  },
  {
   "cell_type": "code",
   "execution_count": 846,
   "metadata": {},
   "outputs": [],
   "source": [
    "tscv = TimeSeriesSplit(n_splits=2)\n",
    "for train_index, test_index in tscv.split(X):\n",
    "    X_train, X_test = X[train_index], X[test_index]\n",
    "    y_train, y_test = y[train_index], y[test_index]"
   ]
  },
  {
   "cell_type": "markdown",
   "metadata": {},
   "source": [
    "#### Decision Tree Regressor Pipeline (Path_LoadedSpeed removidas)"
   ]
  },
  {
   "cell_type": "code",
   "execution_count": 847,
   "metadata": {},
   "outputs": [
    {
     "data": {
      "text/plain": [
       "DecisionTreeRegressor(random_state=42)"
      ]
     },
     "execution_count": 847,
     "metadata": {},
     "output_type": "execute_result"
    }
   ],
   "source": [
    "DT_regressor = DecisionTreeRegressor(random_state=42)\n",
    "DT_regressor.fit(X_train, y_train)"
   ]
  },
  {
   "cell_type": "code",
   "execution_count": 848,
   "metadata": {},
   "outputs": [],
   "source": [
    "search_paramns = [\n",
    "    dict(dec_tree__criterion=[\"squared_error\", \"friedman_mse\", \"absolute_error\", \"poisson\"],\n",
    "         dec_tree__max_depth=list(range(10,200,50)),\n",
    "            dec_tree__max_features=[\"auto\",\"sqrt\", \"log2\"])\n",
    "]\n",
    "\n",
    "pipe = Pipeline([\n",
    "    ('dec_tree', DT_regressor)\n",
    "])\n",
    "\n",
    "search = GridSearchCV(estimator=pipe,\n",
    "                     param_grid=search_paramns,\n",
    "                     cv=tscv,\n",
    "                     return_train_score=True)\n",
    "\n",
    "X_train, X_test, y_train, y_test = train_test_split(X, y, test_size=0.3, shuffle=False)"
   ]
  },
  {
   "cell_type": "code",
   "execution_count": 849,
   "metadata": {},
   "outputs": [
    {
     "name": "stdout",
     "output_type": "stream",
     "text": [
      "CPU times: total: 109 ms\n",
      "Wall time: 112 ms\n"
     ]
    },
    {
     "data": {
      "text/plain": [
       "GridSearchCV(cv=TimeSeriesSplit(gap=0, max_train_size=None, n_splits=2, test_size=None),\n",
       "             estimator=Pipeline(steps=[('dec_tree',\n",
       "                                        DecisionTreeRegressor(random_state=42))]),\n",
       "             param_grid=[{'dec_tree__criterion': ['squared_error',\n",
       "                                                  'friedman_mse',\n",
       "                                                  'absolute_error', 'poisson'],\n",
       "                          'dec_tree__max_depth': [10, 60, 110, 160],\n",
       "                          'dec_tree__max_features': ['auto', 'sqrt', 'log2']}],\n",
       "             return_train_score=True)"
      ]
     },
     "execution_count": 849,
     "metadata": {},
     "output_type": "execute_result"
    }
   ],
   "source": [
    "%%time\n",
    "search.fit(X_train, y_train)"
   ]
  },
  {
   "cell_type": "code",
   "execution_count": 850,
   "metadata": {},
   "outputs": [
    {
     "data": {
      "text/plain": [
       "{'dec_tree__criterion': 'poisson',\n",
       " 'dec_tree__max_depth': 10,\n",
       " 'dec_tree__max_features': 'sqrt'}"
      ]
     },
     "execution_count": 850,
     "metadata": {},
     "output_type": "execute_result"
    }
   ],
   "source": [
    "search.best_params_"
   ]
  },
  {
   "cell_type": "code",
   "execution_count": 851,
   "metadata": {},
   "outputs": [
    {
     "data": {
      "text/plain": [
       "Pipeline(steps=[('dec_tree',\n",
       "                 DecisionTreeRegressor(criterion='poisson', max_depth=10,\n",
       "                                       max_features='sqrt', random_state=42))])"
      ]
     },
     "execution_count": 851,
     "metadata": {},
     "output_type": "execute_result"
    }
   ],
   "source": [
    "search.best_estimator_"
   ]
  },
  {
   "cell_type": "code",
   "execution_count": 852,
   "metadata": {},
   "outputs": [
    {
     "name": "stdout",
     "output_type": "stream",
     "text": [
      "r2: -1.1613138686131386    MSE: 24.141666666666666\n"
     ]
    }
   ],
   "source": [
    "y_pred = search.predict(X_test)\n",
    "\n",
    "r2_score = DT_regressor.score(X_test, y_test)\n",
    "mse = mean_squared_error(y_test, y_pred)\n",
    "print(f'r2: {r2_score}    MSE: {mse}')"
   ]
  },
  {
   "cell_type": "code",
   "execution_count": 853,
   "metadata": {},
   "outputs": [
    {
     "name": "stdout",
     "output_type": "stream",
     "text": [
      "    Mean Absolute Error: 3.59 degrees.\n",
      "    Accuracy: 85.95 %.\n"
     ]
    },
    {
     "data": {
      "text/plain": [
       "(85.95, 3.59)"
      ]
     },
     "execution_count": 853,
     "metadata": {},
     "output_type": "execute_result"
    }
   ],
   "source": [
    "print_results(y_pred, y_test)"
   ]
  },
  {
   "cell_type": "code",
   "execution_count": 854,
   "metadata": {},
   "outputs": [
    {
     "data": {
      "text/plain": [
       "<matplotlib.collections.PathCollection at 0x1f161ab8b20>"
      ]
     },
     "execution_count": 854,
     "metadata": {},
     "output_type": "execute_result"
    },
    {
     "data": {
      "image/png": "[encoded data removed]",
      "text/plain": [
       "<Figure size 432x288 with 1 Axes>"
      ]
     },
     "metadata": {
      "needs_background": "light"
     },
     "output_type": "display_data"
    }
   ],
   "source": [
    "plt.scatter(y_test, y_test, c='red', alpha=0.5)\n",
    "plt.scatter(y_test, y_pred, c='blue', alpha=0.5)"
   ]
  },
  {
   "cell_type": "markdown",
   "metadata": {},
   "source": [
    "#### Random Forest Pipeline (Path_LoadedSpeed colunas removidas)"
   ]
  },
  {
   "cell_type": "code",
   "execution_count": 855,
   "metadata": {},
   "outputs": [
    {
     "data": {
      "text/plain": [
       "RandomForestRegressor(random_state=37)"
      ]
     },
     "execution_count": 855,
     "metadata": {},
     "output_type": "execute_result"
    }
   ],
   "source": [
    "forrest_model_reg = RandomForestRegressor(random_state=37)\n",
    "forrest_model_reg.fit(X_train, y_train)"
   ]
  },
  {
   "cell_type": "code",
   "execution_count": 856,
   "metadata": {},
   "outputs": [],
   "source": [
    "search_paramns = [{\n",
    "    'forest__criterion': [\"squared_error\", \"absolute_error\"],\n",
    "    'forest__n_estimators': list(range(10,30, 1)), \n",
    "    'forest__max_features': [\"sqrt\", \"log2\"]\n",
    "}]\n",
    "\n",
    "pipe = Pipeline([\n",
    "    ('forest', forrest_model_reg)\n",
    "])\n",
    "\n",
    "search = GridSearchCV(estimator=pipe,\n",
    "                     param_grid=search_paramns,\n",
    "                     cv=5,\n",
    "                     return_train_score=True)\n",
    "\n",
    "X_train, X_test, y_train, y_test = train_test_split(X, y, test_size=0.3, shuffle=False)"
   ]
  },
  {
   "cell_type": "code",
   "execution_count": 857,
   "metadata": {},
   "outputs": [
    {
     "name": "stdout",
     "output_type": "stream",
     "text": [
      "CPU times: total: 6.14 s\n",
      "Wall time: 6.21 s\n"
     ]
    },
    {
     "data": {
      "text/plain": [
       "GridSearchCV(cv=5,\n",
       "             estimator=Pipeline(steps=[('forest',\n",
       "                                        RandomForestRegressor(random_state=37))]),\n",
       "             param_grid=[{'forest__criterion': ['squared_error',\n",
       "                                                'absolute_error'],\n",
       "                          'forest__max_features': ['sqrt', 'log2'],\n",
       "                          'forest__n_estimators': [10, 11, 12, 13, 14, 15, 16,\n",
       "                                                   17, 18, 19, 20, 21, 22, 23,\n",
       "                                                   24, 25, 26, 27, 28, 29]}],\n",
       "             return_train_score=True)"
      ]
     },
     "execution_count": 857,
     "metadata": {},
     "output_type": "execute_result"
    }
   ],
   "source": [
    "%%time\n",
    "search.fit(X_train, y_train)"
   ]
  },
  {
   "cell_type": "code",
   "execution_count": 858,
   "metadata": {},
   "outputs": [
    {
     "data": {
      "text/plain": [
       "{'forest__criterion': 'squared_error',\n",
       " 'forest__max_features': 'sqrt',\n",
       " 'forest__n_estimators': 15}"
      ]
     },
     "execution_count": 858,
     "metadata": {},
     "output_type": "execute_result"
    }
   ],
   "source": [
    "search.best_params_"
   ]
  },
  {
   "cell_type": "code",
   "execution_count": 859,
   "metadata": {},
   "outputs": [
    {
     "data": {
      "text/plain": [
       "Pipeline(steps=[('forest',\n",
       "                 RandomForestRegressor(max_features='sqrt', n_estimators=15,\n",
       "                                       random_state=37))])"
      ]
     },
     "execution_count": 859,
     "metadata": {},
     "output_type": "execute_result"
    }
   ],
   "source": [
    "search.best_estimator_"
   ]
  },
  {
   "cell_type": "code",
   "execution_count": 860,
   "metadata": {},
   "outputs": [
    {
     "name": "stdout",
     "output_type": "stream",
     "text": [
      "r2: 0.4423247445255474    MSE: 18.535449735449735\n"
     ]
    }
   ],
   "source": [
    "y_pred = search.predict(X_test)\n",
    "\n",
    "r2_score = forrest_model_reg.score(X_test, y_test)\n",
    "mse = mean_squared_error(y_test, y_pred)\n",
    "print(f'r2: {r2_score}    MSE: {mse}')"
   ]
  },
  {
   "cell_type": "code",
   "execution_count": 861,
   "metadata": {},
   "outputs": [
    {
     "name": "stdout",
     "output_type": "stream",
     "text": [
      "    Mean Absolute Error: 3.26 degrees.\n",
      "    Accuracy: 87.84 %.\n"
     ]
    },
    {
     "data": {
      "text/plain": [
       "(87.84, 3.26)"
      ]
     },
     "execution_count": 861,
     "metadata": {},
     "output_type": "execute_result"
    }
   ],
   "source": [
    "print_results(y_pred, y_test)"
   ]
  },
  {
   "cell_type": "code",
   "execution_count": 862,
   "metadata": {},
   "outputs": [
    {
     "name": "stdout",
     "output_type": "stream",
     "text": [
      "    Mean Absolute Error: 3.47 degrees.\n",
      "    Accuracy: 87.18 %.\n"
     ]
    },
    {
     "data": {
      "text/plain": [
       "(87.18, 3.47)"
      ]
     },
     "execution_count": 862,
     "metadata": {},
     "output_type": "execute_result"
    }
   ],
   "source": [
    "forrest_model_reg = RandomForestRegressor(n_estimators = 23,criterion='absolute_error',max_features= 'sqrt', random_state=37)\n",
    "forrest_model_reg.fit(X_train, y_train)\n",
    "\n",
    "forrest_predictions = forrest_model_reg.predict(X_test)\n",
    "print_results(forrest_predictions, y_test)"
   ]
  },
  {
   "cell_type": "code",
   "execution_count": 863,
   "metadata": {},
   "outputs": [
    {
     "data": {
      "text/plain": [
       "<matplotlib.collections.PathCollection at 0x1f161b8d090>"
      ]
     },
     "execution_count": 863,
     "metadata": {},
     "output_type": "execute_result"
    },
    {
     "data": {
      "image/png": "[encoded data removed]",
      "text/plain": [
       "<Figure size 432x288 with 1 Axes>"
      ]
     },
     "metadata": {
      "needs_background": "light"
     },
     "output_type": "display_data"
    }
   ],
   "source": [
    "plt.scatter(y_test, y_test, c='red', alpha=0.5)\n",
    "plt.scatter(y_test, forrest_predictions, c='blue', alpha=0.5)"
   ]
  },
  {
   "cell_type": "code",
   "execution_count": 864,
   "metadata": {},
   "outputs": [],
   "source": [
    "rf_LoadedTime_LessColumn = save_accuracy(forrest_predictions, y_test)"
   ]
  },
  {
   "cell_type": "markdown",
   "metadata": {},
   "source": [
    "# Resultados"
   ]
  },
  {
   "cell_type": "code",
   "execution_count": 865,
   "metadata": {},
   "outputs": [
    {
     "name": "stdout",
     "output_type": "stream",
     "text": [
      "Acurácia da Random Forest na predição do número de veículos num determinado caminho:\n",
      "Dados simulados completos (30 colunas de dados):  93.6 %\n",
      "30% dos dados esparsados aleatoriamente 76.65 %\n",
      "Colunas removidas (13 colunas de dados):  87.12 %\n",
      "-------------------------------------------------------------------------------------------------------------\n",
      "Acurácia da Random Forest na predição da velocidade de locomoção média dos veículos num determinado caminho:\n",
      "Dados simulados completos (30 colunas de dados):  89.89 %\n",
      "30% dos dados esparsados aleatoriamente 88.47 %\n",
      "Colunas removidas (13 colunas de dados):  87.08 %\n",
      "-------------------------------------------------------------------------------------------------------------\n",
      "Acurácia da Random Forest do tempo de locomoção média dos veículos num determinado caminho:\n",
      "Dados simulados completos (30 colunas de dados):  87.86 %\n",
      "30% dos dados esparsados aleatoriamente 87.83 %\n",
      "Colunas removidas (13 colunas de dados):  87.18 %\n"
     ]
    }
   ],
   "source": [
    "print(\"Acurácia da Random Forest na predição do número de veículos num determinado caminho:\")\n",
    "print(\"Dados simulados completos (30 colunas de dados): \", rf_SumOfCars, \"%\")\n",
    "print(\"30% dos dados esparsados aleatoriamente\", rf_SumOfCars_Sparse, \"%\")\n",
    "print(\"Colunas removidas (13 colunas de dados): \", rf_SumOfCars_LessColumn, \"%\")\n",
    "print(\"-------------------------------------------------------------------------------------------------------------\")\n",
    "print(\"Acurácia da Random Forest na predição da velocidade de locomoção média dos veículos num determinado caminho:\")\n",
    "print(\"Dados simulados completos (30 colunas de dados): \", rf_LoadedSpeed, \"%\")\n",
    "print(\"30% dos dados esparsados aleatoriamente\", rf_LoadedSpeed_Sparse, \"%\")\n",
    "print(\"Colunas removidas (13 colunas de dados): \", rf_LoadedSpeed_LessColumn, \"%\")\n",
    "print(\"-------------------------------------------------------------------------------------------------------------\")\n",
    "print(\"Acurácia da Random Forest do tempo de locomoção média dos veículos num determinado caminho:\")\n",
    "print(\"Dados simulados completos (30 colunas de dados): \", rf_LoadedTime, \"%\")\n",
    "print(\"30% dos dados esparsados aleatoriamente\", rf_LoadedTime_Sparse, \"%\")\n",
    "print(\"Colunas removidas (13 colunas de dados): \", rf_LoadedTime_LessColumn, \"%\")"
   ]
  }
 ],
 "metadata": {
  "kernelspec": {
   "display_name": "Python 3.10.4 64-bit",
   "language": "python",
   "name": "python3"
  },
  "language_info": {
   "codemirror_mode": {
    "name": "ipython",
    "version": 3
   },
   "file_extension": ".py",
   "mimetype": "text/x-python",
   "name": "python",
   "nbconvert_exporter": "python",
   "pygments_lexer": "ipython3",
   "version": "3.10.4 (tags/v3.10.4:9d38120, Mar 23 2022, 23:13:41) [MSC v.1929 64 bit (AMD64)]"
  },
  "orig_nbformat": 4,
  "vscode": {
   "interpreter": {
    "hash": "d62b9b8ce3f898c4226186644859110430335d5e49a2e4dc227912b9a61073a7"
   }
  }
 },
 "nbformat": 4,
 "nbformat_minor": 2
}
